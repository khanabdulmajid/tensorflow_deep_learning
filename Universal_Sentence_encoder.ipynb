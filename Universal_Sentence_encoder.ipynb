{
  "nbformat": 4,
  "nbformat_minor": 0,
  "metadata": {
    "colab": {
      "provenance": [],
      "gpuType": "T4",
      "authorship_tag": "ABX9TyPq1eDESt2KmAvOrs3waGGn",
      "include_colab_link": true
    },
    "kernelspec": {
      "name": "python3",
      "display_name": "Python 3"
    },
    "language_info": {
      "name": "python"
    },
    "accelerator": "GPU"
  },
  "cells": [
    {
      "cell_type": "markdown",
      "metadata": {
        "id": "view-in-github",
        "colab_type": "text"
      },
      "source": [
        "<a href=\"https://colab.research.google.com/github/khanabdulmajid/tensorflow_deep_learning/blob/main/Universal_Sentence_encoder.ipynb\" target=\"_parent\"><img src=\"https://colab.research.google.com/assets/colab-badge.svg\" alt=\"Open In Colab\"/></a>"
      ]
    },
    {
      "cell_type": "markdown",
      "source": [
        "#Using USE in a tf model"
      ],
      "metadata": {
        "id": "hejtaNF34_my"
      }
    },
    {
      "cell_type": "code",
      "source": [
        "!wget https://raw.githubusercontent.com/khanabdulmajid/tensorflow_deep_learning/main/helper_functions.py"
      ],
      "metadata": {
        "colab": {
          "base_uri": "https://localhost:8080/"
        },
        "id": "KOIoc8GxBNyb",
        "outputId": "837583a0-f210-48c9-b94d-4f5e7a73b7cd"
      },
      "execution_count": 1,
      "outputs": [
        {
          "output_type": "stream",
          "name": "stdout",
          "text": [
            "--2023-10-14 12:16:32--  https://raw.githubusercontent.com/khanabdulmajid/tensorflow_deep_learning/main/helper_functions.py\n",
            "Resolving raw.githubusercontent.com (raw.githubusercontent.com)... 185.199.110.133, 185.199.111.133, 185.199.109.133, ...\n",
            "Connecting to raw.githubusercontent.com (raw.githubusercontent.com)|185.199.110.133|:443... connected.\n",
            "HTTP request sent, awaiting response... 200 OK\n",
            "Length: 10246 (10K) [text/plain]\n",
            "Saving to: ‘helper_functions.py’\n",
            "\n",
            "\rhelper_functions.py   0%[                    ]       0  --.-KB/s               \rhelper_functions.py 100%[===================>]  10.01K  --.-KB/s    in 0s      \n",
            "\n",
            "2023-10-14 12:16:32 (46.7 MB/s) - ‘helper_functions.py’ saved [10246/10246]\n",
            "\n"
          ]
        }
      ]
    },
    {
      "cell_type": "code",
      "source": [
        "# Function to evaluate: accuracy, precision, recall, f1-score\n",
        "from sklearn.metrics import accuracy_score, precision_recall_fscore_support\n",
        "\n",
        "def calculate_results(y_true, y_pred):\n",
        "  \"\"\"\n",
        "  Calculates model accuracy, precision, recall and f1 score of a binary classification model.\n",
        "\n",
        "  Args:\n",
        "  -----\n",
        "  y_true = true labels in the form of a 1D array\n",
        "  y_pred = predicted labels in the form of a 1D array\n",
        "\n",
        "  Returns a dictionary of accuracy, precision, recall, f1-score.\n",
        "  \"\"\"\n",
        "  # Calculate model accuracy\n",
        "  model_accuracy = accuracy_score(y_true, y_pred) * 100\n",
        "  # Calculate model precision, recall and f1 score using \"weighted\" average\n",
        "  model_precision, model_recall, model_f1, _ = precision_recall_fscore_support(y_true, y_pred, average=\"weighted\")\n",
        "  model_results = {\"accuracy\": model_accuracy,\n",
        "                  \"precision\": model_precision,\n",
        "                  \"recall\": model_recall,\n",
        "                  \"f1\": model_f1}\n",
        "  return model_results"
      ],
      "metadata": {
        "id": "2QuV-l1oQ5lN"
      },
      "execution_count": 27,
      "outputs": []
    },
    {
      "cell_type": "code",
      "source": [
        "import tensorflow as tf\n",
        "from helper_functions import unzip_data, create_tensorboard_callback, plot_loss_curves\n",
        "import pandas as pd\n",
        "import numpy as np\n",
        "from sklearn.model_selection import train_test_split\n",
        "import tensorflow_hub as hub\n",
        "\n"
      ],
      "metadata": {
        "id": "GvGHIz7V5aU5"
      },
      "execution_count": 8,
      "outputs": []
    },
    {
      "cell_type": "code",
      "execution_count": 3,
      "metadata": {
        "id": "aEAn4UI044sR"
      },
      "outputs": [],
      "source": [
        "sentence_encoder_layer=hub.KerasLayer(\"https://tfhub.dev/google/universal-sentence-encoder/4\",\n",
        "                                      input_shape=[],\n",
        "                                       dtype=tf.string,\n",
        "                                      trainable=False,\n",
        "                                      name=\"USE\")\n"
      ]
    },
    {
      "cell_type": "code",
      "source": [
        "# x=sentence_encoder_layer\n",
        "# outputs= tf.keras.layers.Dense(1,activation=\"sigmoid\")(x)\n",
        "# model_USE=tf.keras.Model(x,outputs)"
      ],
      "metadata": {
        "id": "tJQdfZmh5TzF"
      },
      "execution_count": 5,
      "outputs": []
    },
    {
      "cell_type": "code",
      "source": [
        " !wget https://storage.googleapis.com/ztm_tf_course/nlp_getting_started.zip\n",
        "unzip_data(\"/content/nlp_getting_started.zip\")"
      ],
      "metadata": {
        "colab": {
          "base_uri": "https://localhost:8080/"
        },
        "id": "9cvcf3k18v8z",
        "outputId": "c013a42a-17da-4085-e632-c6896d1eba50"
      },
      "execution_count": 6,
      "outputs": [
        {
          "output_type": "stream",
          "name": "stdout",
          "text": [
            "--2023-10-14 12:23:43--  https://storage.googleapis.com/ztm_tf_course/nlp_getting_started.zip\n",
            "Resolving storage.googleapis.com (storage.googleapis.com)... 173.194.206.207, 142.250.159.207, 142.251.120.207, ...\n",
            "Connecting to storage.googleapis.com (storage.googleapis.com)|173.194.206.207|:443... connected.\n",
            "HTTP request sent, awaiting response... 200 OK\n",
            "Length: 607343 (593K) [application/zip]\n",
            "Saving to: ‘nlp_getting_started.zip’\n",
            "\n",
            "\rnlp_getting_started   0%[                    ]       0  --.-KB/s               \rnlp_getting_started 100%[===================>] 593.11K  --.-KB/s    in 0.004s  \n",
            "\n",
            "2023-10-14 12:23:43 (155 MB/s) - ‘nlp_getting_started.zip’ saved [607343/607343]\n",
            "\n"
          ]
        }
      ]
    },
    {
      "cell_type": "code",
      "source": [
        "train_df=pd.read_csv(\"train.csv\")\n",
        "test_df=pd.read_csv(\"test.csv\")\n",
        "#shuffle training_data\n",
        "train_df_shuffled=train_df.sample(frac=1,random_state=42) #frac--> what percent of data\n",
        "train_df_shuffled.head()\n",
        "train_sentences,val_sentences,train_labels, val_labels =  train_test_split(train_df_shuffled[\"text\"].to_numpy(),\n",
        "                                                                         train_df_shuffled[\"target\"].to_numpy(),\n",
        "                                                                         test_size=0.1,\n",
        "                                                                         random_state=42\n",
        "                                                                         )"
      ],
      "metadata": {
        "id": "UV2VVCNA5yp5"
      },
      "execution_count": 9,
      "outputs": []
    },
    {
      "cell_type": "markdown",
      "source": [
        "#SEQUENTIAL MODEL"
      ],
      "metadata": {
        "id": "wiCpjQnv5zQ8"
      }
    },
    {
      "cell_type": "code",
      "source": [
        "model_use_sequential=tf.keras.Sequential([\n",
        "    sentence_encoder_layer,\n",
        "    tf.keras.layers.Dense(64,activation=\"relu\"),\n",
        "    tf.keras.layers.Dense(64,activation=\"relu\"),\n",
        "    tf.keras.layers.Dense(1,activation=\"sigmoid\")\n",
        "])"
      ],
      "metadata": {
        "id": "CRn0ycxl53_n"
      },
      "execution_count": 45,
      "outputs": []
    },
    {
      "cell_type": "code",
      "source": [
        "model_use_sequential.compile(loss=\"binary_crossentropy\",\n",
        "                  optimizer=tf.keras.optimizers.Adam(),\n",
        "                  metrics=[\"accuracy\"]\n",
        "                  )\n"
      ],
      "metadata": {
        "id": "nntHTSeU539P"
      },
      "execution_count": 46,
      "outputs": []
    },
    {
      "cell_type": "code",
      "source": [
        "model_checkpoint=tf.keras.callbacks.ModelCheckpoint(filepath=\"content/modelCheckpoint\",\n",
        "                                                    save_best_only=True,\n",
        "                                                    save_weights_only=True,\n",
        "                                                    monitor=\"val_accuracy\")"
      ],
      "metadata": {
        "id": "Y_zL0L_3O4ZG"
      },
      "execution_count": 47,
      "outputs": []
    },
    {
      "cell_type": "code",
      "source": [
        "model_use_history=model_use_sequential.fit(\n",
        "    x=train_sentences,\n",
        "    y=train_labels,\n",
        "    epochs=15,\n",
        "    validation_data=(val_sentences,val_labels),\n",
        "    callbacks=[create_tensorboard_callback(dir_name=\"Callbacks\",experiment_name=\"Universal_Sentence_Encoder_1\"),\n",
        "               model_checkpoint]\n",
        ")"
      ],
      "metadata": {
        "id": "SwMPGe-G536v",
        "colab": {
          "base_uri": "https://localhost:8080/"
        },
        "outputId": "375b7d1b-28fd-4242-bcd0-4a8acd4eab79"
      },
      "execution_count": null,
      "outputs": [
        {
          "output_type": "stream",
          "name": "stdout",
          "text": [
            "Saving TensorBoard log files to: Callbacks/Universal_Sentence_Encoder_1/20231014-131932\n",
            "Epoch 1/15\n",
            "215/215 [==============================] - 16s 56ms/step - loss: 0.4856 - accuracy: 0.7705 - val_loss: 0.4409 - val_accuracy: 0.8071\n",
            "Epoch 2/15\n",
            "215/215 [==============================] - 9s 43ms/step - loss: 0.3990 - accuracy: 0.8259 - val_loss: 0.4213 - val_accuracy: 0.8097\n",
            "Epoch 3/15\n",
            "215/215 [==============================] - ETA: 0s - loss: 0.3735 - accuracy: 0.8397"
          ]
        }
      ]
    },
    {
      "cell_type": "code",
      "source": [
        "plot_loss_curves(model_use_history)"
      ],
      "metadata": {
        "id": "YSHAxTRy5Twb"
      },
      "execution_count": null,
      "outputs": []
    },
    {
      "cell_type": "code",
      "source": [
        "pred_probs=tf.round(tf.squeeze(model_use_sequential.predict(val_sentences)))"
      ],
      "metadata": {
        "id": "JXSS4zQa5TuF",
        "colab": {
          "base_uri": "https://localhost:8080/"
        },
        "outputId": "660f9d61-0a32-4ce0-9b4e-71356cabec60"
      },
      "execution_count": 42,
      "outputs": [
        {
          "output_type": "stream",
          "name": "stdout",
          "text": [
            "24/24 [==============================] - 1s 15ms/step\n"
          ]
        }
      ]
    },
    {
      "cell_type": "code",
      "source": [
        "model_2_results=calculate_results(y_true=val_labels,y_pred=pred_probs)"
      ],
      "metadata": {
        "id": "dhZgZxKAPwkc"
      },
      "execution_count": 43,
      "outputs": []
    },
    {
      "cell_type": "code",
      "source": [
        "model_2_results"
      ],
      "metadata": {
        "colab": {
          "base_uri": "https://localhost:8080/"
        },
        "id": "eIiE9nJ9P4a0",
        "outputId": "15537a95-f34c-404b-87f1-2079f7326b24"
      },
      "execution_count": 44,
      "outputs": [
        {
          "output_type": "execute_result",
          "data": {
            "text/plain": [
              "{'accuracy': 81.75853018372703,\n",
              " 'precision': 0.8202616926815424,\n",
              " 'recall': 0.8175853018372703,\n",
              " 'f1': 0.8159820561172786}"
            ]
          },
          "metadata": {},
          "execution_count": 44
        }
      ]
    },
    {
      "cell_type": "code",
      "source": [],
      "metadata": {
        "id": "EO6aE6QzRPSd"
      },
      "execution_count": 44,
      "outputs": []
    }
  ]
}