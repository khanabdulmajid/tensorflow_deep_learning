{
  "cells": [
    {
      "cell_type": "markdown",
      "metadata": {
        "id": "view-in-github",
        "colab_type": "text"
      },
      "source": [
        "<a href=\"https://colab.research.google.com/github/khanabdulmajid/tensorflow_deep_learning/blob/main/Dog_Breed_prediction.ipynb\" target=\"_parent\"><img src=\"https://colab.research.google.com/assets/colab-badge.svg\" alt=\"Open In Colab\"/></a>"
      ]
    },
    {
      "cell_type": "code",
      "execution_count": 1,
      "metadata": {
        "colab": {
          "base_uri": "https://localhost:8080/",
          "height": 89
        },
        "id": "aX9Ct2ZUYUPL",
        "outputId": "ed671016-3c2b-4213-8e35-6e2ad2919525"
      },
      "outputs": [
        {
          "output_type": "display_data",
          "data": {
            "text/plain": [
              "<IPython.core.display.HTML object>"
            ],
            "text/html": [
              "\n",
              "     <input type=\"file\" id=\"files-648b8fcb-546c-4708-bd97-7ccda69ed5c8\" name=\"files[]\" multiple disabled\n",
              "        style=\"border:none\" />\n",
              "     <output id=\"result-648b8fcb-546c-4708-bd97-7ccda69ed5c8\">\n",
              "      Upload widget is only available when the cell has been executed in the\n",
              "      current browser session. Please rerun this cell to enable.\n",
              "      </output>\n",
              "      <script>// Copyright 2017 Google LLC\n",
              "//\n",
              "// Licensed under the Apache License, Version 2.0 (the \"License\");\n",
              "// you may not use this file except in compliance with the License.\n",
              "// You may obtain a copy of the License at\n",
              "//\n",
              "//      http://www.apache.org/licenses/LICENSE-2.0\n",
              "//\n",
              "// Unless required by applicable law or agreed to in writing, software\n",
              "// distributed under the License is distributed on an \"AS IS\" BASIS,\n",
              "// WITHOUT WARRANTIES OR CONDITIONS OF ANY KIND, either express or implied.\n",
              "// See the License for the specific language governing permissions and\n",
              "// limitations under the License.\n",
              "\n",
              "/**\n",
              " * @fileoverview Helpers for google.colab Python module.\n",
              " */\n",
              "(function(scope) {\n",
              "function span(text, styleAttributes = {}) {\n",
              "  const element = document.createElement('span');\n",
              "  element.textContent = text;\n",
              "  for (const key of Object.keys(styleAttributes)) {\n",
              "    element.style[key] = styleAttributes[key];\n",
              "  }\n",
              "  return element;\n",
              "}\n",
              "\n",
              "// Max number of bytes which will be uploaded at a time.\n",
              "const MAX_PAYLOAD_SIZE = 100 * 1024;\n",
              "\n",
              "function _uploadFiles(inputId, outputId) {\n",
              "  const steps = uploadFilesStep(inputId, outputId);\n",
              "  const outputElement = document.getElementById(outputId);\n",
              "  // Cache steps on the outputElement to make it available for the next call\n",
              "  // to uploadFilesContinue from Python.\n",
              "  outputElement.steps = steps;\n",
              "\n",
              "  return _uploadFilesContinue(outputId);\n",
              "}\n",
              "\n",
              "// This is roughly an async generator (not supported in the browser yet),\n",
              "// where there are multiple asynchronous steps and the Python side is going\n",
              "// to poll for completion of each step.\n",
              "// This uses a Promise to block the python side on completion of each step,\n",
              "// then passes the result of the previous step as the input to the next step.\n",
              "function _uploadFilesContinue(outputId) {\n",
              "  const outputElement = document.getElementById(outputId);\n",
              "  const steps = outputElement.steps;\n",
              "\n",
              "  const next = steps.next(outputElement.lastPromiseValue);\n",
              "  return Promise.resolve(next.value.promise).then((value) => {\n",
              "    // Cache the last promise value to make it available to the next\n",
              "    // step of the generator.\n",
              "    outputElement.lastPromiseValue = value;\n",
              "    return next.value.response;\n",
              "  });\n",
              "}\n",
              "\n",
              "/**\n",
              " * Generator function which is called between each async step of the upload\n",
              " * process.\n",
              " * @param {string} inputId Element ID of the input file picker element.\n",
              " * @param {string} outputId Element ID of the output display.\n",
              " * @return {!Iterable<!Object>} Iterable of next steps.\n",
              " */\n",
              "function* uploadFilesStep(inputId, outputId) {\n",
              "  const inputElement = document.getElementById(inputId);\n",
              "  inputElement.disabled = false;\n",
              "\n",
              "  const outputElement = document.getElementById(outputId);\n",
              "  outputElement.innerHTML = '';\n",
              "\n",
              "  const pickedPromise = new Promise((resolve) => {\n",
              "    inputElement.addEventListener('change', (e) => {\n",
              "      resolve(e.target.files);\n",
              "    });\n",
              "  });\n",
              "\n",
              "  const cancel = document.createElement('button');\n",
              "  inputElement.parentElement.appendChild(cancel);\n",
              "  cancel.textContent = 'Cancel upload';\n",
              "  const cancelPromise = new Promise((resolve) => {\n",
              "    cancel.onclick = () => {\n",
              "      resolve(null);\n",
              "    };\n",
              "  });\n",
              "\n",
              "  // Wait for the user to pick the files.\n",
              "  const files = yield {\n",
              "    promise: Promise.race([pickedPromise, cancelPromise]),\n",
              "    response: {\n",
              "      action: 'starting',\n",
              "    }\n",
              "  };\n",
              "\n",
              "  cancel.remove();\n",
              "\n",
              "  // Disable the input element since further picks are not allowed.\n",
              "  inputElement.disabled = true;\n",
              "\n",
              "  if (!files) {\n",
              "    return {\n",
              "      response: {\n",
              "        action: 'complete',\n",
              "      }\n",
              "    };\n",
              "  }\n",
              "\n",
              "  for (const file of files) {\n",
              "    const li = document.createElement('li');\n",
              "    li.append(span(file.name, {fontWeight: 'bold'}));\n",
              "    li.append(span(\n",
              "        `(${file.type || 'n/a'}) - ${file.size} bytes, ` +\n",
              "        `last modified: ${\n",
              "            file.lastModifiedDate ? file.lastModifiedDate.toLocaleDateString() :\n",
              "                                    'n/a'} - `));\n",
              "    const percent = span('0% done');\n",
              "    li.appendChild(percent);\n",
              "\n",
              "    outputElement.appendChild(li);\n",
              "\n",
              "    const fileDataPromise = new Promise((resolve) => {\n",
              "      const reader = new FileReader();\n",
              "      reader.onload = (e) => {\n",
              "        resolve(e.target.result);\n",
              "      };\n",
              "      reader.readAsArrayBuffer(file);\n",
              "    });\n",
              "    // Wait for the data to be ready.\n",
              "    let fileData = yield {\n",
              "      promise: fileDataPromise,\n",
              "      response: {\n",
              "        action: 'continue',\n",
              "      }\n",
              "    };\n",
              "\n",
              "    // Use a chunked sending to avoid message size limits. See b/62115660.\n",
              "    let position = 0;\n",
              "    do {\n",
              "      const length = Math.min(fileData.byteLength - position, MAX_PAYLOAD_SIZE);\n",
              "      const chunk = new Uint8Array(fileData, position, length);\n",
              "      position += length;\n",
              "\n",
              "      const base64 = btoa(String.fromCharCode.apply(null, chunk));\n",
              "      yield {\n",
              "        response: {\n",
              "          action: 'append',\n",
              "          file: file.name,\n",
              "          data: base64,\n",
              "        },\n",
              "      };\n",
              "\n",
              "      let percentDone = fileData.byteLength === 0 ?\n",
              "          100 :\n",
              "          Math.round((position / fileData.byteLength) * 100);\n",
              "      percent.textContent = `${percentDone}% done`;\n",
              "\n",
              "    } while (position < fileData.byteLength);\n",
              "  }\n",
              "\n",
              "  // All done.\n",
              "  yield {\n",
              "    response: {\n",
              "      action: 'complete',\n",
              "    }\n",
              "  };\n",
              "}\n",
              "\n",
              "scope.google = scope.google || {};\n",
              "scope.google.colab = scope.google.colab || {};\n",
              "scope.google.colab._files = {\n",
              "  _uploadFiles,\n",
              "  _uploadFilesContinue,\n",
              "};\n",
              "})(self);\n",
              "</script> "
            ]
          },
          "metadata": {}
        },
        {
          "output_type": "stream",
          "name": "stdout",
          "text": [
            "Saving kaggle.json to kaggle.json\n"
          ]
        },
        {
          "output_type": "execute_result",
          "data": {
            "text/plain": [
              "{'kaggle.json': b'{\"username\":\"abdulmajidkhan\",\"key\":\"70ca7002de2a12ed114a455efab76102\"}'}"
            ]
          },
          "metadata": {},
          "execution_count": 1
        }
      ],
      "source": [
        "from google.colab import files\n",
        "files.upload()"
      ]
    },
    {
      "cell_type": "code",
      "execution_count": 2,
      "metadata": {
        "id": "802oD5mqY7rJ"
      },
      "outputs": [],
      "source": [
        "!pip install -q kaggle"
      ]
    },
    {
      "cell_type": "code",
      "execution_count": 3,
      "metadata": {
        "id": "mE8NHcXUZOPb"
      },
      "outputs": [],
      "source": [
        "#the kaggle API client expects this file to be in ~/.kaggle so move it there\n",
        "!mkdir -p ~/.kaggle\n",
        "!cp kaggle.json ~/.kaggle\n",
        "\n",
        "# this permission change avoids a warning oin kaggle tool startup\n",
        "!chmod 600 ~/.kaggle/kaggle.json\n"
      ]
    },
    {
      "cell_type": "code",
      "execution_count": 5,
      "metadata": {
        "colab": {
          "base_uri": "https://localhost:8080/"
        },
        "id": "exgA7en4ZzPw",
        "outputId": "0dfe5f43-0384-4485-a3f1-88617ccee074"
      },
      "outputs": [
        {
          "output_type": "stream",
          "name": "stdout",
          "text": [
            "/content/dog_dataset\n"
          ]
        }
      ],
      "source": [
        "! mkdir dog_dataset\n",
        "%cd dog_dataset"
      ]
    },
    {
      "cell_type": "code",
      "source": [
        "!kaggle datasets list -s dog"
      ],
      "metadata": {
        "colab": {
          "base_uri": "https://localhost:8080/"
        },
        "id": "fueGA3h5pSj2",
        "outputId": "0d55582d-64fa-498f-9ee2-e11e6efd14fc"
      },
      "execution_count": 6,
      "outputs": [
        {
          "output_type": "stream",
          "name": "stdout",
          "text": [
            "ref                                            title                                 size  lastUpdated          downloadCount  voteCount  usabilityRating  \n",
            "---------------------------------------------  -----------------------------------  -----  -------------------  -------------  ---------  ---------------  \n",
            "tongpython/cat-and-dog                         Cat and Dog                          218MB  2018-04-26 10:56:50          97773       1113  0.75             \n",
            "dansbecker/hot-dog-not-hot-dog                 Hot Dog - Not Hot Dog                 89MB  2018-07-19 05:52:04           6563        124  0.625            \n",
            "marshuu/dog-breeds                             Dog breeds                             3KB  2022-12-20 18:49:43           2150         53  1.0              \n",
            "jessicali9530/stanford-dogs-dataset            Stanford Dogs Dataset                750MB  2019-11-13 06:20:35          43274        964  0.75             \n",
            "shaunthesheep/microsoft-catsvsdogs-dataset     Cats-vs-Dogs                         788MB  2020-03-12 05:34:30          35368        433  0.875            \n",
            "danielshanbalico/dog-emotion                   Dog Emotion                          155MB  2023-02-09 09:58:36           2354         42  1.0              \n",
            "andrewmvd/dog-and-cat-detection                Dog and Cat Detection                  1GB  2020-05-12 20:46:17           5193         84  0.875            \n",
            "mohamedchahed/dog-breeds                       Dog Breeds                            82MB  2023-04-02 14:39:29            662         20  0.8125           \n",
            "whenamancodes/dog-adoption                     Dog Adoption                          19MB  2022-10-28 11:19:18           2159         43  0.9411765        \n",
            "ashfakyeafi/cat-dog-images-for-classification  Cat & Dog images for Classification  545MB  2023-12-12 18:54:44           1442         60  1.0              \n",
            "devzohaib/dog-emotions-prediction              Dog Emotions Prediction              379MB  2022-10-03 18:08:51           2048         50  0.875            \n",
            "chetankv/dogs-cats-images                      Dogs & Cats Images                   435MB  2018-04-19 18:20:08          37811        579  0.5625           \n",
            "mmoreaux/audio-cats-and-dogs                   Audio Cats and Dogs                   97MB  2017-10-05 09:40:26          12512        248  0.7647059        \n",
            "dhruvildave/dogecoin-historical-data           Dogecoin Historical Data              44KB  2023-10-12 19:40:09           2824         78  1.0              \n",
            "d4rklucif3r/cat-and-dogs                       Cat & Dogs                           218MB  2021-06-07 11:39:13           3843         75  0.875            \n",
            "new-york-city/nyc-dog-names                    NYC Dog Names                         55KB  2017-08-31 16:04:44           3984         55  0.8235294        \n",
            "sujaykapadnis/dog-breeds                       Dog Breeds                            27KB  2023-09-22 09:18:10            630         29  1.0              \n",
            "kingburrito666/largest-dog-breed-data-set      Largest Dog Breed Dataset              4MB  2017-03-30 18:11:56           3588         47  0.7058824        \n",
            "arpitjain007/dog-vs-cat-fastai                 Dog vs Cat (fastai)                    2GB  2019-02-07 04:05:38           8161        142  0.4375           \n",
            "gpiosenka/70-dog-breedsimage-data-set          70 Dog Breeds-Image Data Set         215MB  2021-07-01 23:35:52           3677         46  0.9411765        \n"
          ]
        }
      ]
    },
    {
      "cell_type": "code",
      "execution_count": 7,
      "metadata": {
        "colab": {
          "base_uri": "https://localhost:8080/"
        },
        "id": "SjXv0K4kaAV_",
        "outputId": "fd1edd37-7264-454f-c418-d97feab10bcf"
      },
      "outputs": [
        {
          "output_type": "stream",
          "name": "stdout",
          "text": [
            "ref                                title                    size  lastUpdated          downloadCount  voteCount  usabilityRating  \n",
            "---------------------------------  ----------------------  -----  -------------------  -------------  ---------  ---------------  \n",
            "catherinehorng/dogbreedidfromcomp  dog-breed-id-from-comp  691MB  2020-06-26 03:09:05           4838          8  0.1764706        \n"
          ]
        }
      ],
      "source": [
        "!kaggle datasets list -s dogbreedidfromcomp"
      ]
    },
    {
      "cell_type": "code",
      "execution_count": 8,
      "metadata": {
        "colab": {
          "base_uri": "https://localhost:8080/"
        },
        "id": "dFe8TbLIaIPI",
        "outputId": "2a766822-eaa6-46fa-c143-4a34ec1872a2"
      },
      "outputs": [
        {
          "output_type": "stream",
          "name": "stdout",
          "text": [
            "Downloading dogbreedidfromcomp.zip to /content/dog_dataset\n",
            " 99% 686M/691M [00:05<00:00, 169MB/s]\n",
            "100% 691M/691M [00:05<00:00, 132MB/s]\n"
          ]
        }
      ],
      "source": [
        "!kaggle datasets download catherinehorng/dogbreedidfromcomp"
      ]
    },
    {
      "cell_type": "code",
      "execution_count": 9,
      "metadata": {
        "colab": {
          "base_uri": "https://localhost:8080/"
        },
        "id": "eq5lRx2OaSiL",
        "outputId": "d4f07730-a4ae-46df-9822-2692894255f1"
      },
      "outputs": [
        {
          "output_type": "stream",
          "name": "stdout",
          "text": [
            "/content\n"
          ]
        }
      ],
      "source": [
        "%cd .."
      ]
    },
    {
      "cell_type": "code",
      "execution_count": null,
      "metadata": {
        "id": "skfGjGenaW-E"
      },
      "outputs": [],
      "source": [
        "!unzip /content/dog_dataset/dogbreedidfromcomp.zip -d dog_dataset\n",
        "!rm /content/dog_dataset/dogbreedidfromcomp.zip"
      ]
    },
    {
      "cell_type": "code",
      "execution_count": 11,
      "metadata": {
        "id": "mNYJhgq6atIA"
      },
      "outputs": [],
      "source": [
        "!rm /content/dog_dataset/sample_submission.csv"
      ]
    },
    {
      "cell_type": "markdown",
      "metadata": {
        "id": "epFiV_5zeyh4"
      },
      "source": [
        "#Important library\n",
        "\n"
      ]
    },
    {
      "cell_type": "code",
      "execution_count": 12,
      "metadata": {
        "id": "mwq9TWzye-pb"
      },
      "outputs": [],
      "source": [
        "import numpy as np\n",
        "import pandas as pd\n",
        "import tensorflow as tf\n",
        "import matplotlib.pyplot as plt\n",
        "\n",
        "from tqdm import tqdm"
      ]
    },
    {
      "cell_type": "code",
      "execution_count": 13,
      "metadata": {
        "id": "IespYre1fPtJ"
      },
      "outputs": [],
      "source": [
        "train_directory=\"/content/dog_dataset/train\"\n",
        "test_directory=\"/content/dog_dataset/test\""
      ]
    },
    {
      "cell_type": "code",
      "execution_count": 14,
      "metadata": {
        "id": "uvqjuxUWrd-0"
      },
      "outputs": [],
      "source": [
        "label_all=pd.read_csv(\"/content/dog_dataset/labels.csv\")"
      ]
    },
    {
      "cell_type": "code",
      "execution_count": 15,
      "metadata": {
        "colab": {
          "base_uri": "https://localhost:8080/",
          "height": 206
        },
        "id": "R03_rKq3ryhc",
        "outputId": "a598c3bd-ba1e-45b6-c1d0-e7fa02352dd5"
      },
      "outputs": [
        {
          "output_type": "execute_result",
          "data": {
            "text/plain": [
              "                                 id             breed\n",
              "0  000bec180eb18c7604dcecc8fe0dba07       boston_bull\n",
              "1  001513dfcb2ffafc82cccf4d8bbaba97             dingo\n",
              "2  001cdf01b096e06d78e9e5112d419397          pekinese\n",
              "3  00214f311d5d2247d5dfe4fe24b2303d          bluetick\n",
              "4  0021f9ceb3235effd7fcde7f7538ed62  golden_retriever"
            ],
            "text/html": [
              "\n",
              "  <div id=\"df-7c399a7a-9407-43df-b07b-71920779f778\" class=\"colab-df-container\">\n",
              "    <div>\n",
              "<style scoped>\n",
              "    .dataframe tbody tr th:only-of-type {\n",
              "        vertical-align: middle;\n",
              "    }\n",
              "\n",
              "    .dataframe tbody tr th {\n",
              "        vertical-align: top;\n",
              "    }\n",
              "\n",
              "    .dataframe thead th {\n",
              "        text-align: right;\n",
              "    }\n",
              "</style>\n",
              "<table border=\"1\" class=\"dataframe\">\n",
              "  <thead>\n",
              "    <tr style=\"text-align: right;\">\n",
              "      <th></th>\n",
              "      <th>id</th>\n",
              "      <th>breed</th>\n",
              "    </tr>\n",
              "  </thead>\n",
              "  <tbody>\n",
              "    <tr>\n",
              "      <th>0</th>\n",
              "      <td>000bec180eb18c7604dcecc8fe0dba07</td>\n",
              "      <td>boston_bull</td>\n",
              "    </tr>\n",
              "    <tr>\n",
              "      <th>1</th>\n",
              "      <td>001513dfcb2ffafc82cccf4d8bbaba97</td>\n",
              "      <td>dingo</td>\n",
              "    </tr>\n",
              "    <tr>\n",
              "      <th>2</th>\n",
              "      <td>001cdf01b096e06d78e9e5112d419397</td>\n",
              "      <td>pekinese</td>\n",
              "    </tr>\n",
              "    <tr>\n",
              "      <th>3</th>\n",
              "      <td>00214f311d5d2247d5dfe4fe24b2303d</td>\n",
              "      <td>bluetick</td>\n",
              "    </tr>\n",
              "    <tr>\n",
              "      <th>4</th>\n",
              "      <td>0021f9ceb3235effd7fcde7f7538ed62</td>\n",
              "      <td>golden_retriever</td>\n",
              "    </tr>\n",
              "  </tbody>\n",
              "</table>\n",
              "</div>\n",
              "    <div class=\"colab-df-buttons\">\n",
              "\n",
              "  <div class=\"colab-df-container\">\n",
              "    <button class=\"colab-df-convert\" onclick=\"convertToInteractive('df-7c399a7a-9407-43df-b07b-71920779f778')\"\n",
              "            title=\"Convert this dataframe to an interactive table.\"\n",
              "            style=\"display:none;\">\n",
              "\n",
              "  <svg xmlns=\"http://www.w3.org/2000/svg\" height=\"24px\" viewBox=\"0 -960 960 960\">\n",
              "    <path d=\"M120-120v-720h720v720H120Zm60-500h600v-160H180v160Zm220 220h160v-160H400v160Zm0 220h160v-160H400v160ZM180-400h160v-160H180v160Zm440 0h160v-160H620v160ZM180-180h160v-160H180v160Zm440 0h160v-160H620v160Z\"/>\n",
              "  </svg>\n",
              "    </button>\n",
              "\n",
              "  <style>\n",
              "    .colab-df-container {\n",
              "      display:flex;\n",
              "      gap: 12px;\n",
              "    }\n",
              "\n",
              "    .colab-df-convert {\n",
              "      background-color: #E8F0FE;\n",
              "      border: none;\n",
              "      border-radius: 50%;\n",
              "      cursor: pointer;\n",
              "      display: none;\n",
              "      fill: #1967D2;\n",
              "      height: 32px;\n",
              "      padding: 0 0 0 0;\n",
              "      width: 32px;\n",
              "    }\n",
              "\n",
              "    .colab-df-convert:hover {\n",
              "      background-color: #E2EBFA;\n",
              "      box-shadow: 0px 1px 2px rgba(60, 64, 67, 0.3), 0px 1px 3px 1px rgba(60, 64, 67, 0.15);\n",
              "      fill: #174EA6;\n",
              "    }\n",
              "\n",
              "    .colab-df-buttons div {\n",
              "      margin-bottom: 4px;\n",
              "    }\n",
              "\n",
              "    [theme=dark] .colab-df-convert {\n",
              "      background-color: #3B4455;\n",
              "      fill: #D2E3FC;\n",
              "    }\n",
              "\n",
              "    [theme=dark] .colab-df-convert:hover {\n",
              "      background-color: #434B5C;\n",
              "      box-shadow: 0px 1px 3px 1px rgba(0, 0, 0, 0.15);\n",
              "      filter: drop-shadow(0px 1px 2px rgba(0, 0, 0, 0.3));\n",
              "      fill: #FFFFFF;\n",
              "    }\n",
              "  </style>\n",
              "\n",
              "    <script>\n",
              "      const buttonEl =\n",
              "        document.querySelector('#df-7c399a7a-9407-43df-b07b-71920779f778 button.colab-df-convert');\n",
              "      buttonEl.style.display =\n",
              "        google.colab.kernel.accessAllowed ? 'block' : 'none';\n",
              "\n",
              "      async function convertToInteractive(key) {\n",
              "        const element = document.querySelector('#df-7c399a7a-9407-43df-b07b-71920779f778');\n",
              "        const dataTable =\n",
              "          await google.colab.kernel.invokeFunction('convertToInteractive',\n",
              "                                                    [key], {});\n",
              "        if (!dataTable) return;\n",
              "\n",
              "        const docLinkHtml = 'Like what you see? Visit the ' +\n",
              "          '<a target=\"_blank\" href=https://colab.research.google.com/notebooks/data_table.ipynb>data table notebook</a>'\n",
              "          + ' to learn more about interactive tables.';\n",
              "        element.innerHTML = '';\n",
              "        dataTable['output_type'] = 'display_data';\n",
              "        await google.colab.output.renderOutput(dataTable, element);\n",
              "        const docLink = document.createElement('div');\n",
              "        docLink.innerHTML = docLinkHtml;\n",
              "        element.appendChild(docLink);\n",
              "      }\n",
              "    </script>\n",
              "  </div>\n",
              "\n",
              "\n",
              "<div id=\"df-1d262e4e-6ca5-49d7-b2a9-cee2a913af21\">\n",
              "  <button class=\"colab-df-quickchart\" onclick=\"quickchart('df-1d262e4e-6ca5-49d7-b2a9-cee2a913af21')\"\n",
              "            title=\"Suggest charts\"\n",
              "            style=\"display:none;\">\n",
              "\n",
              "<svg xmlns=\"http://www.w3.org/2000/svg\" height=\"24px\"viewBox=\"0 0 24 24\"\n",
              "     width=\"24px\">\n",
              "    <g>\n",
              "        <path d=\"M19 3H5c-1.1 0-2 .9-2 2v14c0 1.1.9 2 2 2h14c1.1 0 2-.9 2-2V5c0-1.1-.9-2-2-2zM9 17H7v-7h2v7zm4 0h-2V7h2v10zm4 0h-2v-4h2v4z\"/>\n",
              "    </g>\n",
              "</svg>\n",
              "  </button>\n",
              "\n",
              "<style>\n",
              "  .colab-df-quickchart {\n",
              "      --bg-color: #E8F0FE;\n",
              "      --fill-color: #1967D2;\n",
              "      --hover-bg-color: #E2EBFA;\n",
              "      --hover-fill-color: #174EA6;\n",
              "      --disabled-fill-color: #AAA;\n",
              "      --disabled-bg-color: #DDD;\n",
              "  }\n",
              "\n",
              "  [theme=dark] .colab-df-quickchart {\n",
              "      --bg-color: #3B4455;\n",
              "      --fill-color: #D2E3FC;\n",
              "      --hover-bg-color: #434B5C;\n",
              "      --hover-fill-color: #FFFFFF;\n",
              "      --disabled-bg-color: #3B4455;\n",
              "      --disabled-fill-color: #666;\n",
              "  }\n",
              "\n",
              "  .colab-df-quickchart {\n",
              "    background-color: var(--bg-color);\n",
              "    border: none;\n",
              "    border-radius: 50%;\n",
              "    cursor: pointer;\n",
              "    display: none;\n",
              "    fill: var(--fill-color);\n",
              "    height: 32px;\n",
              "    padding: 0;\n",
              "    width: 32px;\n",
              "  }\n",
              "\n",
              "  .colab-df-quickchart:hover {\n",
              "    background-color: var(--hover-bg-color);\n",
              "    box-shadow: 0 1px 2px rgba(60, 64, 67, 0.3), 0 1px 3px 1px rgba(60, 64, 67, 0.15);\n",
              "    fill: var(--button-hover-fill-color);\n",
              "  }\n",
              "\n",
              "  .colab-df-quickchart-complete:disabled,\n",
              "  .colab-df-quickchart-complete:disabled:hover {\n",
              "    background-color: var(--disabled-bg-color);\n",
              "    fill: var(--disabled-fill-color);\n",
              "    box-shadow: none;\n",
              "  }\n",
              "\n",
              "  .colab-df-spinner {\n",
              "    border: 2px solid var(--fill-color);\n",
              "    border-color: transparent;\n",
              "    border-bottom-color: var(--fill-color);\n",
              "    animation:\n",
              "      spin 1s steps(1) infinite;\n",
              "  }\n",
              "\n",
              "  @keyframes spin {\n",
              "    0% {\n",
              "      border-color: transparent;\n",
              "      border-bottom-color: var(--fill-color);\n",
              "      border-left-color: var(--fill-color);\n",
              "    }\n",
              "    20% {\n",
              "      border-color: transparent;\n",
              "      border-left-color: var(--fill-color);\n",
              "      border-top-color: var(--fill-color);\n",
              "    }\n",
              "    30% {\n",
              "      border-color: transparent;\n",
              "      border-left-color: var(--fill-color);\n",
              "      border-top-color: var(--fill-color);\n",
              "      border-right-color: var(--fill-color);\n",
              "    }\n",
              "    40% {\n",
              "      border-color: transparent;\n",
              "      border-right-color: var(--fill-color);\n",
              "      border-top-color: var(--fill-color);\n",
              "    }\n",
              "    60% {\n",
              "      border-color: transparent;\n",
              "      border-right-color: var(--fill-color);\n",
              "    }\n",
              "    80% {\n",
              "      border-color: transparent;\n",
              "      border-right-color: var(--fill-color);\n",
              "      border-bottom-color: var(--fill-color);\n",
              "    }\n",
              "    90% {\n",
              "      border-color: transparent;\n",
              "      border-bottom-color: var(--fill-color);\n",
              "    }\n",
              "  }\n",
              "</style>\n",
              "\n",
              "  <script>\n",
              "    async function quickchart(key) {\n",
              "      const quickchartButtonEl =\n",
              "        document.querySelector('#' + key + ' button');\n",
              "      quickchartButtonEl.disabled = true;  // To prevent multiple clicks.\n",
              "      quickchartButtonEl.classList.add('colab-df-spinner');\n",
              "      try {\n",
              "        const charts = await google.colab.kernel.invokeFunction(\n",
              "            'suggestCharts', [key], {});\n",
              "      } catch (error) {\n",
              "        console.error('Error during call to suggestCharts:', error);\n",
              "      }\n",
              "      quickchartButtonEl.classList.remove('colab-df-spinner');\n",
              "      quickchartButtonEl.classList.add('colab-df-quickchart-complete');\n",
              "    }\n",
              "    (() => {\n",
              "      let quickchartButtonEl =\n",
              "        document.querySelector('#df-1d262e4e-6ca5-49d7-b2a9-cee2a913af21 button');\n",
              "      quickchartButtonEl.style.display =\n",
              "        google.colab.kernel.accessAllowed ? 'block' : 'none';\n",
              "    })();\n",
              "  </script>\n",
              "</div>\n",
              "\n",
              "    </div>\n",
              "  </div>\n"
            ]
          },
          "metadata": {},
          "execution_count": 15
        }
      ],
      "source": [
        "label_all.head()"
      ]
    },
    {
      "cell_type": "code",
      "execution_count": 16,
      "metadata": {
        "colab": {
          "base_uri": "https://localhost:8080/"
        },
        "id": "HH2QFRwvrziU",
        "outputId": "3fe8445c-f56d-4abf-82f8-335ff7a01876"
      },
      "outputs": [
        {
          "output_type": "execute_result",
          "data": {
            "text/plain": [
              "scottish_deerhound      126\n",
              "maltese_dog             117\n",
              "afghan_hound            116\n",
              "entlebucher             115\n",
              "bernese_mountain_dog    114\n",
              "Name: breed, dtype: int64"
            ]
          },
          "metadata": {},
          "execution_count": 16
        }
      ],
      "source": [
        "breeds_all=label_all[\"breed\"]\n",
        "breed_counts=breeds_all.value_counts()\n",
        "breed_counts.head()"
      ]
    },
    {
      "cell_type": "code",
      "execution_count": 17,
      "metadata": {
        "colab": {
          "base_uri": "https://localhost:8080/",
          "height": 206
        },
        "id": "oSG3XUHIsJXl",
        "outputId": "742f6567-cfc3-4790-b036-502936058ce2"
      },
      "outputs": [
        {
          "output_type": "execute_result",
          "data": {
            "text/plain": [
              "   index                                id                 breed\n",
              "0      9  0042188c895a2f14ef64a918ed9c7b64    scottish_deerhound\n",
              "1     12  00693b8bc2470375cc744a6391d397ec           maltese_dog\n",
              "2     79  01e787576c003930f96c966f9c3e1d44    scottish_deerhound\n",
              "3     90  022b34fd8734b39995a9f38a4f3e7b6b           maltese_dog\n",
              "4    118  02d54f0dfb40038765e838459ae8c956  bernese_mountain_dog"
            ],
            "text/html": [
              "\n",
              "  <div id=\"df-6d47bc40-3867-4374-bc08-db2717730436\" class=\"colab-df-container\">\n",
              "    <div>\n",
              "<style scoped>\n",
              "    .dataframe tbody tr th:only-of-type {\n",
              "        vertical-align: middle;\n",
              "    }\n",
              "\n",
              "    .dataframe tbody tr th {\n",
              "        vertical-align: top;\n",
              "    }\n",
              "\n",
              "    .dataframe thead th {\n",
              "        text-align: right;\n",
              "    }\n",
              "</style>\n",
              "<table border=\"1\" class=\"dataframe\">\n",
              "  <thead>\n",
              "    <tr style=\"text-align: right;\">\n",
              "      <th></th>\n",
              "      <th>index</th>\n",
              "      <th>id</th>\n",
              "      <th>breed</th>\n",
              "    </tr>\n",
              "  </thead>\n",
              "  <tbody>\n",
              "    <tr>\n",
              "      <th>0</th>\n",
              "      <td>9</td>\n",
              "      <td>0042188c895a2f14ef64a918ed9c7b64</td>\n",
              "      <td>scottish_deerhound</td>\n",
              "    </tr>\n",
              "    <tr>\n",
              "      <th>1</th>\n",
              "      <td>12</td>\n",
              "      <td>00693b8bc2470375cc744a6391d397ec</td>\n",
              "      <td>maltese_dog</td>\n",
              "    </tr>\n",
              "    <tr>\n",
              "      <th>2</th>\n",
              "      <td>79</td>\n",
              "      <td>01e787576c003930f96c966f9c3e1d44</td>\n",
              "      <td>scottish_deerhound</td>\n",
              "    </tr>\n",
              "    <tr>\n",
              "      <th>3</th>\n",
              "      <td>90</td>\n",
              "      <td>022b34fd8734b39995a9f38a4f3e7b6b</td>\n",
              "      <td>maltese_dog</td>\n",
              "    </tr>\n",
              "    <tr>\n",
              "      <th>4</th>\n",
              "      <td>118</td>\n",
              "      <td>02d54f0dfb40038765e838459ae8c956</td>\n",
              "      <td>bernese_mountain_dog</td>\n",
              "    </tr>\n",
              "  </tbody>\n",
              "</table>\n",
              "</div>\n",
              "    <div class=\"colab-df-buttons\">\n",
              "\n",
              "  <div class=\"colab-df-container\">\n",
              "    <button class=\"colab-df-convert\" onclick=\"convertToInteractive('df-6d47bc40-3867-4374-bc08-db2717730436')\"\n",
              "            title=\"Convert this dataframe to an interactive table.\"\n",
              "            style=\"display:none;\">\n",
              "\n",
              "  <svg xmlns=\"http://www.w3.org/2000/svg\" height=\"24px\" viewBox=\"0 -960 960 960\">\n",
              "    <path d=\"M120-120v-720h720v720H120Zm60-500h600v-160H180v160Zm220 220h160v-160H400v160Zm0 220h160v-160H400v160ZM180-400h160v-160H180v160Zm440 0h160v-160H620v160ZM180-180h160v-160H180v160Zm440 0h160v-160H620v160Z\"/>\n",
              "  </svg>\n",
              "    </button>\n",
              "\n",
              "  <style>\n",
              "    .colab-df-container {\n",
              "      display:flex;\n",
              "      gap: 12px;\n",
              "    }\n",
              "\n",
              "    .colab-df-convert {\n",
              "      background-color: #E8F0FE;\n",
              "      border: none;\n",
              "      border-radius: 50%;\n",
              "      cursor: pointer;\n",
              "      display: none;\n",
              "      fill: #1967D2;\n",
              "      height: 32px;\n",
              "      padding: 0 0 0 0;\n",
              "      width: 32px;\n",
              "    }\n",
              "\n",
              "    .colab-df-convert:hover {\n",
              "      background-color: #E2EBFA;\n",
              "      box-shadow: 0px 1px 2px rgba(60, 64, 67, 0.3), 0px 1px 3px 1px rgba(60, 64, 67, 0.15);\n",
              "      fill: #174EA6;\n",
              "    }\n",
              "\n",
              "    .colab-df-buttons div {\n",
              "      margin-bottom: 4px;\n",
              "    }\n",
              "\n",
              "    [theme=dark] .colab-df-convert {\n",
              "      background-color: #3B4455;\n",
              "      fill: #D2E3FC;\n",
              "    }\n",
              "\n",
              "    [theme=dark] .colab-df-convert:hover {\n",
              "      background-color: #434B5C;\n",
              "      box-shadow: 0px 1px 3px 1px rgba(0, 0, 0, 0.15);\n",
              "      filter: drop-shadow(0px 1px 2px rgba(0, 0, 0, 0.3));\n",
              "      fill: #FFFFFF;\n",
              "    }\n",
              "  </style>\n",
              "\n",
              "    <script>\n",
              "      const buttonEl =\n",
              "        document.querySelector('#df-6d47bc40-3867-4374-bc08-db2717730436 button.colab-df-convert');\n",
              "      buttonEl.style.display =\n",
              "        google.colab.kernel.accessAllowed ? 'block' : 'none';\n",
              "\n",
              "      async function convertToInteractive(key) {\n",
              "        const element = document.querySelector('#df-6d47bc40-3867-4374-bc08-db2717730436');\n",
              "        const dataTable =\n",
              "          await google.colab.kernel.invokeFunction('convertToInteractive',\n",
              "                                                    [key], {});\n",
              "        if (!dataTable) return;\n",
              "\n",
              "        const docLinkHtml = 'Like what you see? Visit the ' +\n",
              "          '<a target=\"_blank\" href=https://colab.research.google.com/notebooks/data_table.ipynb>data table notebook</a>'\n",
              "          + ' to learn more about interactive tables.';\n",
              "        element.innerHTML = '';\n",
              "        dataTable['output_type'] = 'display_data';\n",
              "        await google.colab.output.renderOutput(dataTable, element);\n",
              "        const docLink = document.createElement('div');\n",
              "        docLink.innerHTML = docLinkHtml;\n",
              "        element.appendChild(docLink);\n",
              "      }\n",
              "    </script>\n",
              "  </div>\n",
              "\n",
              "\n",
              "<div id=\"df-58ba035e-782e-4d3a-9754-027b39eeddc8\">\n",
              "  <button class=\"colab-df-quickchart\" onclick=\"quickchart('df-58ba035e-782e-4d3a-9754-027b39eeddc8')\"\n",
              "            title=\"Suggest charts\"\n",
              "            style=\"display:none;\">\n",
              "\n",
              "<svg xmlns=\"http://www.w3.org/2000/svg\" height=\"24px\"viewBox=\"0 0 24 24\"\n",
              "     width=\"24px\">\n",
              "    <g>\n",
              "        <path d=\"M19 3H5c-1.1 0-2 .9-2 2v14c0 1.1.9 2 2 2h14c1.1 0 2-.9 2-2V5c0-1.1-.9-2-2-2zM9 17H7v-7h2v7zm4 0h-2V7h2v10zm4 0h-2v-4h2v4z\"/>\n",
              "    </g>\n",
              "</svg>\n",
              "  </button>\n",
              "\n",
              "<style>\n",
              "  .colab-df-quickchart {\n",
              "      --bg-color: #E8F0FE;\n",
              "      --fill-color: #1967D2;\n",
              "      --hover-bg-color: #E2EBFA;\n",
              "      --hover-fill-color: #174EA6;\n",
              "      --disabled-fill-color: #AAA;\n",
              "      --disabled-bg-color: #DDD;\n",
              "  }\n",
              "\n",
              "  [theme=dark] .colab-df-quickchart {\n",
              "      --bg-color: #3B4455;\n",
              "      --fill-color: #D2E3FC;\n",
              "      --hover-bg-color: #434B5C;\n",
              "      --hover-fill-color: #FFFFFF;\n",
              "      --disabled-bg-color: #3B4455;\n",
              "      --disabled-fill-color: #666;\n",
              "  }\n",
              "\n",
              "  .colab-df-quickchart {\n",
              "    background-color: var(--bg-color);\n",
              "    border: none;\n",
              "    border-radius: 50%;\n",
              "    cursor: pointer;\n",
              "    display: none;\n",
              "    fill: var(--fill-color);\n",
              "    height: 32px;\n",
              "    padding: 0;\n",
              "    width: 32px;\n",
              "  }\n",
              "\n",
              "  .colab-df-quickchart:hover {\n",
              "    background-color: var(--hover-bg-color);\n",
              "    box-shadow: 0 1px 2px rgba(60, 64, 67, 0.3), 0 1px 3px 1px rgba(60, 64, 67, 0.15);\n",
              "    fill: var(--button-hover-fill-color);\n",
              "  }\n",
              "\n",
              "  .colab-df-quickchart-complete:disabled,\n",
              "  .colab-df-quickchart-complete:disabled:hover {\n",
              "    background-color: var(--disabled-bg-color);\n",
              "    fill: var(--disabled-fill-color);\n",
              "    box-shadow: none;\n",
              "  }\n",
              "\n",
              "  .colab-df-spinner {\n",
              "    border: 2px solid var(--fill-color);\n",
              "    border-color: transparent;\n",
              "    border-bottom-color: var(--fill-color);\n",
              "    animation:\n",
              "      spin 1s steps(1) infinite;\n",
              "  }\n",
              "\n",
              "  @keyframes spin {\n",
              "    0% {\n",
              "      border-color: transparent;\n",
              "      border-bottom-color: var(--fill-color);\n",
              "      border-left-color: var(--fill-color);\n",
              "    }\n",
              "    20% {\n",
              "      border-color: transparent;\n",
              "      border-left-color: var(--fill-color);\n",
              "      border-top-color: var(--fill-color);\n",
              "    }\n",
              "    30% {\n",
              "      border-color: transparent;\n",
              "      border-left-color: var(--fill-color);\n",
              "      border-top-color: var(--fill-color);\n",
              "      border-right-color: var(--fill-color);\n",
              "    }\n",
              "    40% {\n",
              "      border-color: transparent;\n",
              "      border-right-color: var(--fill-color);\n",
              "      border-top-color: var(--fill-color);\n",
              "    }\n",
              "    60% {\n",
              "      border-color: transparent;\n",
              "      border-right-color: var(--fill-color);\n",
              "    }\n",
              "    80% {\n",
              "      border-color: transparent;\n",
              "      border-right-color: var(--fill-color);\n",
              "      border-bottom-color: var(--fill-color);\n",
              "    }\n",
              "    90% {\n",
              "      border-color: transparent;\n",
              "      border-bottom-color: var(--fill-color);\n",
              "    }\n",
              "  }\n",
              "</style>\n",
              "\n",
              "  <script>\n",
              "    async function quickchart(key) {\n",
              "      const quickchartButtonEl =\n",
              "        document.querySelector('#' + key + ' button');\n",
              "      quickchartButtonEl.disabled = true;  // To prevent multiple clicks.\n",
              "      quickchartButtonEl.classList.add('colab-df-spinner');\n",
              "      try {\n",
              "        const charts = await google.colab.kernel.invokeFunction(\n",
              "            'suggestCharts', [key], {});\n",
              "      } catch (error) {\n",
              "        console.error('Error during call to suggestCharts:', error);\n",
              "      }\n",
              "      quickchartButtonEl.classList.remove('colab-df-spinner');\n",
              "      quickchartButtonEl.classList.add('colab-df-quickchart-complete');\n",
              "    }\n",
              "    (() => {\n",
              "      let quickchartButtonEl =\n",
              "        document.querySelector('#df-58ba035e-782e-4d3a-9754-027b39eeddc8 button');\n",
              "      quickchartButtonEl.style.display =\n",
              "        google.colab.kernel.accessAllowed ? 'block' : 'none';\n",
              "    })();\n",
              "  </script>\n",
              "</div>\n",
              "\n",
              "    </div>\n",
              "  </div>\n"
            ]
          },
          "metadata": {},
          "execution_count": 17
        }
      ],
      "source": [
        "# We will be working with 3 classes\n",
        "CLASS_NAMES=[\"scottish_deerhound\",\"maltese_dog\",\"bernese_mountain_dog\"]\n",
        "labels=label_all[(label_all[\"breed\"].isin(CLASS_NAMES))]\n",
        "labels=labels.reset_index()\n",
        "labels.head()"
      ]
    },
    {
      "cell_type": "code",
      "execution_count": 18,
      "metadata": {
        "id": "m8XBFTPrsQP8"
      },
      "outputs": [],
      "source": [
        "# BATCH_SIZE=32\n",
        "# train_data=tf.keras.preprocessing.image_dataset_from_directory(train_directory,\n",
        "#                                                                labels=labels,\n",
        "#                                                                label_mode=\"categorical\",\n",
        "#                                                                batch_size=BATCH_SIZE)"
      ]
    },
    {
      "cell_type": "code",
      "execution_count": 19,
      "metadata": {
        "id": "RYoeIbj2tzu_"
      },
      "outputs": [],
      "source": [
        "from sklearn.preprocessing import label_binarize\n",
        "X_data = np.zeros((len(labels),224,224,3),dtype=\"float32\")\n",
        "Y_data=label_binarize(labels[\"breed\"],classes=CLASS_NAMES)"
      ]
    },
    {
      "cell_type": "code",
      "execution_count": 20,
      "metadata": {
        "colab": {
          "base_uri": "https://localhost:8080/"
        },
        "id": "HundOmra4hcl",
        "outputId": "f4dcd905-c3f7-44c4-edb9-bfccc66bb2f0"
      },
      "outputs": [
        {
          "output_type": "stream",
          "name": "stderr",
          "text": [
            "100%|██████████| 357/357 [00:00<00:00, 445.75it/s]\n"
          ]
        }
      ],
      "source": [
        "path=\"/content/dog_dataset/train/\"\n",
        "for i in tqdm(range(len(labels))):\n",
        "\n",
        "  directory=path+labels[\"id\"][i]+\".jpg\"\n",
        "  img=tf.keras.utils.load_img(directory,target_size=(224,224))\n",
        "  img=tf.keras.utils.img_to_array(img)\n",
        "  x=np.expand_dims(img.copy(),axis=0)\n",
        "  X_data[i]=x/255.0"
      ]
    },
    {
      "cell_type": "code",
      "execution_count": 21,
      "metadata": {
        "colab": {
          "base_uri": "https://localhost:8080/"
        },
        "id": "ejoFIdep5Yyk",
        "outputId": "9fed509a-d40f-462c-a85d-c30cc20dc598"
      },
      "outputs": [
        {
          "output_type": "execute_result",
          "data": {
            "text/plain": [
              "((357, 224, 224, 3), (357, 3))"
            ]
          },
          "metadata": {},
          "execution_count": 21
        }
      ],
      "source": [
        "X_data.shape, Y_data.shape"
      ]
    },
    {
      "cell_type": "markdown",
      "metadata": {
        "id": "QtpQNf4Ow1OM"
      },
      "source": [
        "# Building a CNN Model"
      ]
    },
    {
      "cell_type": "code",
      "execution_count": 53,
      "metadata": {
        "id": "MT-CgSU25ekE"
      },
      "outputs": [],
      "source": [
        "from tensorflow.keras.layers import Conv2D,MaxPool2D,Flatten,Dense,Dropout\n",
        "model = tf.keras.Sequential()\n",
        "model.add(Conv2D(filters=64, kernel_size=3, activation=\"relu\", input_shape=(224,224,3)))\n",
        "model.add(MaxPool2D(pool_size=2))\n",
        "\n",
        "\n",
        "\n",
        "model.add(Conv2D(filters=64, kernel_size=3, activation=\"relu\", input_shape=(224,224,3)))\n",
        "model.add(MaxPool2D(pool_size=2))\n",
        "\n",
        "model.add(Conv2D(filters=64, kernel_size=(3,3), activation=\"relu\", input_shape=(224,224,3)))\n",
        "model.add(MaxPool2D(pool_size=2))\n",
        "\n",
        "model.add(Conv2D(filters=64, kernel_size=3, activation=\"relu\", input_shape=(224,224,3)))\n",
        "model.add(MaxPool2D(pool_size=2))\n",
        "\n",
        "model.add(Flatten())\n",
        "model.add(Dropout(rate=0.80))\n",
        "model.add(Dense(128,activation=\"relu\"))\n",
        "model.add(Dropout(rate=0.80))\n",
        "model.add(Dense(64,activation=\"relu\"))\n",
        "model.add(Dense(len(CLASS_NAMES),activation=\"softmax\"))\n",
        "\n",
        "model.compile(loss='categorical_crossentropy',\n",
        "              optimizer=\"Adam\",\n",
        "              metrics=[\"accuracy\"])\n",
        "\n"
      ]
    },
    {
      "cell_type": "code",
      "execution_count": 54,
      "metadata": {
        "colab": {
          "base_uri": "https://localhost:8080/"
        },
        "id": "l5s9-i_Sy0jf",
        "outputId": "0d4c49a8-09dc-46e6-bbad-ccea269fc0c1"
      },
      "outputs": [
        {
          "output_type": "stream",
          "name": "stdout",
          "text": [
            "Model: \"sequential_2\"\n",
            "_________________________________________________________________\n",
            " Layer (type)                Output Shape              Param #   \n",
            "=================================================================\n",
            " conv2d_8 (Conv2D)           (None, 222, 222, 64)      1792      \n",
            "                                                                 \n",
            " max_pooling2d_8 (MaxPoolin  (None, 111, 111, 64)      0         \n",
            " g2D)                                                            \n",
            "                                                                 \n",
            " conv2d_9 (Conv2D)           (None, 109, 109, 64)      36928     \n",
            "                                                                 \n",
            " max_pooling2d_9 (MaxPoolin  (None, 54, 54, 64)        0         \n",
            " g2D)                                                            \n",
            "                                                                 \n",
            " conv2d_10 (Conv2D)          (None, 52, 52, 64)        36928     \n",
            "                                                                 \n",
            " max_pooling2d_10 (MaxPooli  (None, 26, 26, 64)        0         \n",
            " ng2D)                                                           \n",
            "                                                                 \n",
            " conv2d_11 (Conv2D)          (None, 24, 24, 64)        36928     \n",
            "                                                                 \n",
            " max_pooling2d_11 (MaxPooli  (None, 12, 12, 64)        0         \n",
            " ng2D)                                                           \n",
            "                                                                 \n",
            " flatten_2 (Flatten)         (None, 9216)              0         \n",
            "                                                                 \n",
            " dropout_4 (Dropout)         (None, 9216)              0         \n",
            "                                                                 \n",
            " dense_6 (Dense)             (None, 128)               1179776   \n",
            "                                                                 \n",
            " dropout_5 (Dropout)         (None, 128)               0         \n",
            "                                                                 \n",
            " dense_7 (Dense)             (None, 64)                8256      \n",
            "                                                                 \n",
            " dense_8 (Dense)             (None, 3)                 195       \n",
            "                                                                 \n",
            "=================================================================\n",
            "Total params: 1300803 (4.96 MB)\n",
            "Trainable params: 1300803 (4.96 MB)\n",
            "Non-trainable params: 0 (0.00 Byte)\n",
            "_________________________________________________________________\n"
          ]
        }
      ],
      "source": [
        "model.summary()"
      ]
    },
    {
      "cell_type": "code",
      "execution_count": 56,
      "metadata": {
        "id": "3gViZQJU56Kv"
      },
      "outputs": [],
      "source": [
        "from sklearn.model_selection import train_test_split\n",
        "\n",
        "# splitting the data\n",
        "X_train_and_val, X_test, Y_train_and_val, Y_test= train_test_split(X_data,Y_data,test_size=0.1)\n",
        "\n",
        "# spliting data into training and validation\n",
        "X_train, X_val, Y_train, Y_val = train_test_split(X_train_and_val, Y_train_and_val,test_size=0.3)"
      ]
    },
    {
      "cell_type": "code",
      "execution_count": 57,
      "metadata": {
        "colab": {
          "base_uri": "https://localhost:8080/"
        },
        "id": "n0cTy7uI66w-",
        "outputId": "3f2fe731-6bc4-4d9c-a9d2-aff2be897f36"
      },
      "outputs": [
        {
          "output_type": "stream",
          "name": "stdout",
          "text": [
            "Epoch 1/100\n",
            "2/2 [==============================] - 11s 8s/step - loss: 1.1301 - accuracy: 0.3259 - val_loss: 1.0900 - val_accuracy: 0.3505\n",
            "Epoch 2/100\n",
            "2/2 [==============================] - 1s 352ms/step - loss: 1.0974 - accuracy: 0.3750 - val_loss: 1.0898 - val_accuracy: 0.3505\n",
            "Epoch 3/100\n",
            "2/2 [==============================] - 1s 355ms/step - loss: 1.1196 - accuracy: 0.3304 - val_loss: 1.0913 - val_accuracy: 0.4124\n",
            "Epoch 4/100\n",
            "2/2 [==============================] - 1s 378ms/step - loss: 1.1017 - accuracy: 0.3482 - val_loss: 1.0943 - val_accuracy: 0.3608\n",
            "Epoch 5/100\n",
            "2/2 [==============================] - 1s 350ms/step - loss: 1.0955 - accuracy: 0.3393 - val_loss: 1.0947 - val_accuracy: 0.3505\n",
            "Epoch 6/100\n",
            "2/2 [==============================] - 1s 305ms/step - loss: 1.0833 - accuracy: 0.4330 - val_loss: 1.0949 - val_accuracy: 0.3505\n",
            "Epoch 7/100\n",
            "2/2 [==============================] - 1s 347ms/step - loss: 1.1071 - accuracy: 0.3214 - val_loss: 1.0957 - val_accuracy: 0.3505\n",
            "Epoch 8/100\n",
            "2/2 [==============================] - 1s 350ms/step - loss: 1.0959 - accuracy: 0.3661 - val_loss: 1.0951 - val_accuracy: 0.3505\n",
            "Epoch 9/100\n",
            "2/2 [==============================] - 1s 302ms/step - loss: 1.0836 - accuracy: 0.3705 - val_loss: 1.0936 - val_accuracy: 0.3505\n",
            "Epoch 10/100\n",
            "2/2 [==============================] - 1s 346ms/step - loss: 1.1003 - accuracy: 0.3527 - val_loss: 1.0906 - val_accuracy: 0.3505\n",
            "Epoch 11/100\n",
            "2/2 [==============================] - 1s 298ms/step - loss: 1.0970 - accuracy: 0.3661 - val_loss: 1.0896 - val_accuracy: 0.3505\n",
            "Epoch 12/100\n",
            "2/2 [==============================] - 1s 344ms/step - loss: 1.0948 - accuracy: 0.3661 - val_loss: 1.0882 - val_accuracy: 0.3505\n",
            "Epoch 13/100\n",
            "2/2 [==============================] - 1s 350ms/step - loss: 1.0921 - accuracy: 0.3393 - val_loss: 1.0866 - val_accuracy: 0.3505\n",
            "Epoch 14/100\n",
            "2/2 [==============================] - 1s 296ms/step - loss: 1.0858 - accuracy: 0.3750 - val_loss: 1.0863 - val_accuracy: 0.3505\n",
            "Epoch 15/100\n",
            "2/2 [==============================] - 1s 349ms/step - loss: 1.0769 - accuracy: 0.3884 - val_loss: 1.0848 - val_accuracy: 0.3505\n",
            "Epoch 16/100\n",
            "2/2 [==============================] - 1s 349ms/step - loss: 1.0922 - accuracy: 0.3616 - val_loss: 1.0821 - val_accuracy: 0.3918\n",
            "Epoch 17/100\n",
            "2/2 [==============================] - 1s 350ms/step - loss: 1.0777 - accuracy: 0.3795 - val_loss: 1.0788 - val_accuracy: 0.3918\n",
            "Epoch 18/100\n",
            "2/2 [==============================] - 1s 297ms/step - loss: 1.0687 - accuracy: 0.4286 - val_loss: 1.0724 - val_accuracy: 0.4330\n",
            "Epoch 19/100\n",
            "2/2 [==============================] - 1s 345ms/step - loss: 1.0588 - accuracy: 0.4330 - val_loss: 1.0657 - val_accuracy: 0.4330\n",
            "Epoch 20/100\n",
            "2/2 [==============================] - 1s 346ms/step - loss: 1.0646 - accuracy: 0.4018 - val_loss: 1.0823 - val_accuracy: 0.3299\n",
            "Epoch 21/100\n",
            "2/2 [==============================] - 1s 299ms/step - loss: 1.0613 - accuracy: 0.3973 - val_loss: 1.0603 - val_accuracy: 0.4330\n",
            "Epoch 22/100\n",
            "2/2 [==============================] - 1s 343ms/step - loss: 1.0299 - accuracy: 0.4688 - val_loss: 1.0484 - val_accuracy: 0.4639\n",
            "Epoch 23/100\n",
            "2/2 [==============================] - 1s 343ms/step - loss: 1.0327 - accuracy: 0.4866 - val_loss: 1.0703 - val_accuracy: 0.4433\n",
            "Epoch 24/100\n",
            "2/2 [==============================] - 1s 391ms/step - loss: 1.0659 - accuracy: 0.4196 - val_loss: 1.0484 - val_accuracy: 0.4639\n",
            "Epoch 25/100\n",
            "2/2 [==============================] - 1s 328ms/step - loss: 0.9886 - accuracy: 0.5179 - val_loss: 1.0098 - val_accuracy: 0.4948\n",
            "Epoch 26/100\n",
            "2/2 [==============================] - 1s 372ms/step - loss: 1.0197 - accuracy: 0.4598 - val_loss: 1.0076 - val_accuracy: 0.4845\n",
            "Epoch 27/100\n",
            "2/2 [==============================] - 1s 323ms/step - loss: 1.0102 - accuracy: 0.5580 - val_loss: 0.9833 - val_accuracy: 0.5670\n",
            "Epoch 28/100\n",
            "2/2 [==============================] - 1s 350ms/step - loss: 0.9822 - accuracy: 0.5402 - val_loss: 0.9949 - val_accuracy: 0.5464\n",
            "Epoch 29/100\n",
            "2/2 [==============================] - 1s 347ms/step - loss: 0.9291 - accuracy: 0.5804 - val_loss: 1.0042 - val_accuracy: 0.5464\n",
            "Epoch 30/100\n",
            "2/2 [==============================] - 1s 303ms/step - loss: 0.9407 - accuracy: 0.5536 - val_loss: 0.9462 - val_accuracy: 0.5670\n",
            "Epoch 31/100\n",
            "2/2 [==============================] - 1s 354ms/step - loss: 0.8617 - accuracy: 0.6250 - val_loss: 0.9225 - val_accuracy: 0.5876\n",
            "Epoch 32/100\n",
            "2/2 [==============================] - 1s 351ms/step - loss: 0.8937 - accuracy: 0.6295 - val_loss: 0.9110 - val_accuracy: 0.6082\n",
            "Epoch 33/100\n",
            "2/2 [==============================] - 1s 297ms/step - loss: 0.8758 - accuracy: 0.5804 - val_loss: 0.9407 - val_accuracy: 0.5567\n",
            "Epoch 34/100\n",
            "2/2 [==============================] - 1s 303ms/step - loss: 0.7779 - accuracy: 0.6562 - val_loss: 0.9746 - val_accuracy: 0.5464\n",
            "Epoch 35/100\n",
            "2/2 [==============================] - 1s 348ms/step - loss: 0.8000 - accuracy: 0.6607 - val_loss: 0.9239 - val_accuracy: 0.6186\n",
            "Epoch 36/100\n",
            "2/2 [==============================] - 1s 300ms/step - loss: 0.7802 - accuracy: 0.6786 - val_loss: 0.9341 - val_accuracy: 0.6186\n",
            "Epoch 37/100\n",
            "2/2 [==============================] - 1s 298ms/step - loss: 0.7469 - accuracy: 0.6875 - val_loss: 0.9531 - val_accuracy: 0.5979\n",
            "Epoch 38/100\n",
            "2/2 [==============================] - 1s 350ms/step - loss: 0.7507 - accuracy: 0.6786 - val_loss: 0.9703 - val_accuracy: 0.5670\n",
            "Epoch 39/100\n",
            "2/2 [==============================] - 1s 297ms/step - loss: 0.7150 - accuracy: 0.7321 - val_loss: 0.9585 - val_accuracy: 0.5876\n",
            "Epoch 40/100\n",
            "2/2 [==============================] - 1s 350ms/step - loss: 0.7493 - accuracy: 0.6562 - val_loss: 0.9511 - val_accuracy: 0.5670\n",
            "Epoch 41/100\n",
            "2/2 [==============================] - 1s 352ms/step - loss: 0.7044 - accuracy: 0.7054 - val_loss: 0.9736 - val_accuracy: 0.5155\n",
            "Epoch 42/100\n",
            "2/2 [==============================] - 1s 299ms/step - loss: 0.7528 - accuracy: 0.6830 - val_loss: 0.8960 - val_accuracy: 0.5773\n",
            "Epoch 43/100\n",
            "2/2 [==============================] - 1s 346ms/step - loss: 0.7167 - accuracy: 0.6696 - val_loss: 0.9245 - val_accuracy: 0.5567\n",
            "Epoch 44/100\n",
            "2/2 [==============================] - 1s 354ms/step - loss: 0.6748 - accuracy: 0.7054 - val_loss: 0.8812 - val_accuracy: 0.5979\n",
            "Epoch 45/100\n",
            "2/2 [==============================] - 1s 330ms/step - loss: 0.6810 - accuracy: 0.7232 - val_loss: 0.9290 - val_accuracy: 0.5773\n",
            "Epoch 46/100\n",
            "2/2 [==============================] - 1s 383ms/step - loss: 0.6582 - accuracy: 0.6741 - val_loss: 0.9024 - val_accuracy: 0.5670\n",
            "Epoch 47/100\n",
            "2/2 [==============================] - 1s 348ms/step - loss: 0.7076 - accuracy: 0.6250 - val_loss: 0.8618 - val_accuracy: 0.5979\n",
            "Epoch 48/100\n",
            "2/2 [==============================] - 1s 345ms/step - loss: 0.6593 - accuracy: 0.6964 - val_loss: 0.8891 - val_accuracy: 0.5876\n",
            "Epoch 49/100\n",
            "2/2 [==============================] - 1s 356ms/step - loss: 0.6448 - accuracy: 0.7321 - val_loss: 0.8315 - val_accuracy: 0.6082\n",
            "Epoch 50/100\n",
            "2/2 [==============================] - 1s 304ms/step - loss: 0.6430 - accuracy: 0.7411 - val_loss: 0.8144 - val_accuracy: 0.6186\n",
            "Epoch 51/100\n",
            "2/2 [==============================] - 1s 305ms/step - loss: 0.6051 - accuracy: 0.7723 - val_loss: 0.8063 - val_accuracy: 0.6495\n",
            "Epoch 52/100\n",
            "2/2 [==============================] - 1s 354ms/step - loss: 0.5642 - accuracy: 0.7634 - val_loss: 0.8441 - val_accuracy: 0.6598\n",
            "Epoch 53/100\n",
            "2/2 [==============================] - 1s 351ms/step - loss: 0.5987 - accuracy: 0.7812 - val_loss: 0.7819 - val_accuracy: 0.6907\n",
            "Epoch 54/100\n",
            "2/2 [==============================] - 1s 353ms/step - loss: 0.5671 - accuracy: 0.7812 - val_loss: 0.7607 - val_accuracy: 0.6907\n",
            "Epoch 55/100\n",
            "2/2 [==============================] - 1s 356ms/step - loss: 0.5507 - accuracy: 0.7455 - val_loss: 0.7717 - val_accuracy: 0.7010\n",
            "Epoch 56/100\n",
            "2/2 [==============================] - 1s 304ms/step - loss: 0.5309 - accuracy: 0.7723 - val_loss: 0.6808 - val_accuracy: 0.7423\n",
            "Epoch 57/100\n",
            "2/2 [==============================] - 1s 306ms/step - loss: 0.4769 - accuracy: 0.8125 - val_loss: 0.7663 - val_accuracy: 0.7320\n",
            "Epoch 58/100\n",
            "2/2 [==============================] - 1s 352ms/step - loss: 0.4669 - accuracy: 0.8080 - val_loss: 0.7228 - val_accuracy: 0.7010\n",
            "Epoch 59/100\n",
            "2/2 [==============================] - 1s 303ms/step - loss: 0.4583 - accuracy: 0.7857 - val_loss: 0.6556 - val_accuracy: 0.7423\n",
            "Epoch 60/100\n",
            "2/2 [==============================] - 1s 303ms/step - loss: 0.4470 - accuracy: 0.8527 - val_loss: 0.6910 - val_accuracy: 0.7629\n",
            "Epoch 61/100\n",
            "2/2 [==============================] - 1s 304ms/step - loss: 0.4893 - accuracy: 0.8125 - val_loss: 0.8593 - val_accuracy: 0.7216\n",
            "Epoch 62/100\n",
            "2/2 [==============================] - 1s 302ms/step - loss: 0.3900 - accuracy: 0.8393 - val_loss: 0.7319 - val_accuracy: 0.7423\n",
            "Epoch 63/100\n",
            "2/2 [==============================] - 1s 304ms/step - loss: 0.4639 - accuracy: 0.8259 - val_loss: 0.6344 - val_accuracy: 0.7938\n",
            "Epoch 64/100\n",
            "2/2 [==============================] - 1s 356ms/step - loss: 0.4504 - accuracy: 0.7902 - val_loss: 0.7572 - val_accuracy: 0.7423\n",
            "Epoch 65/100\n",
            "2/2 [==============================] - 1s 304ms/step - loss: 0.3780 - accuracy: 0.8259 - val_loss: 0.7966 - val_accuracy: 0.7423\n",
            "Epoch 66/100\n",
            "2/2 [==============================] - 1s 359ms/step - loss: 0.4759 - accuracy: 0.8348 - val_loss: 0.6594 - val_accuracy: 0.7423\n",
            "Epoch 67/100\n",
            "2/2 [==============================] - 1s 367ms/step - loss: 0.4019 - accuracy: 0.8438 - val_loss: 0.8255 - val_accuracy: 0.6907\n",
            "Epoch 68/100\n",
            "2/2 [==============================] - 1s 374ms/step - loss: 0.3704 - accuracy: 0.8482 - val_loss: 0.9737 - val_accuracy: 0.6804\n",
            "Epoch 69/100\n",
            "2/2 [==============================] - 1s 371ms/step - loss: 0.4026 - accuracy: 0.8527 - val_loss: 0.7378 - val_accuracy: 0.7320\n",
            "Epoch 70/100\n",
            "2/2 [==============================] - 1s 378ms/step - loss: 0.3735 - accuracy: 0.8616 - val_loss: 0.8460 - val_accuracy: 0.7423\n",
            "Epoch 71/100\n",
            "2/2 [==============================] - 1s 369ms/step - loss: 0.3711 - accuracy: 0.8438 - val_loss: 1.1162 - val_accuracy: 0.7320\n",
            "Epoch 72/100\n",
            "2/2 [==============================] - 1s 309ms/step - loss: 0.3487 - accuracy: 0.8616 - val_loss: 0.7715 - val_accuracy: 0.7732\n",
            "Epoch 73/100\n",
            "2/2 [==============================] - 1s 320ms/step - loss: 0.3445 - accuracy: 0.8616 - val_loss: 0.7530 - val_accuracy: 0.7526\n",
            "Epoch 74/100\n",
            "2/2 [==============================] - 1s 305ms/step - loss: 0.3019 - accuracy: 0.8705 - val_loss: 0.8446 - val_accuracy: 0.7423\n",
            "Epoch 75/100\n",
            "2/2 [==============================] - 1s 306ms/step - loss: 0.3591 - accuracy: 0.8750 - val_loss: 0.7611 - val_accuracy: 0.7423\n",
            "Epoch 76/100\n",
            "2/2 [==============================] - 1s 302ms/step - loss: 0.2698 - accuracy: 0.8884 - val_loss: 0.8305 - val_accuracy: 0.7835\n",
            "Epoch 77/100\n",
            "2/2 [==============================] - 1s 351ms/step - loss: 0.3038 - accuracy: 0.8750 - val_loss: 0.8610 - val_accuracy: 0.7423\n",
            "Epoch 78/100\n",
            "2/2 [==============================] - 1s 352ms/step - loss: 0.2527 - accuracy: 0.9018 - val_loss: 0.7432 - val_accuracy: 0.7835\n",
            "Epoch 79/100\n",
            "2/2 [==============================] - 1s 350ms/step - loss: 0.2827 - accuracy: 0.8750 - val_loss: 0.7210 - val_accuracy: 0.7835\n",
            "Epoch 80/100\n",
            "2/2 [==============================] - 1s 301ms/step - loss: 0.2864 - accuracy: 0.8884 - val_loss: 1.0503 - val_accuracy: 0.7629\n",
            "Epoch 81/100\n",
            "2/2 [==============================] - 1s 305ms/step - loss: 0.2699 - accuracy: 0.9196 - val_loss: 0.8550 - val_accuracy: 0.8041\n",
            "Epoch 82/100\n",
            "2/2 [==============================] - 1s 299ms/step - loss: 0.1589 - accuracy: 0.9509 - val_loss: 0.7479 - val_accuracy: 0.7835\n",
            "Epoch 83/100\n",
            "2/2 [==============================] - 1s 350ms/step - loss: 0.2448 - accuracy: 0.9062 - val_loss: 0.8006 - val_accuracy: 0.8041\n",
            "Epoch 84/100\n",
            "2/2 [==============================] - 1s 302ms/step - loss: 0.2767 - accuracy: 0.9018 - val_loss: 0.7262 - val_accuracy: 0.8144\n",
            "Epoch 85/100\n",
            "2/2 [==============================] - 1s 302ms/step - loss: 0.2387 - accuracy: 0.9018 - val_loss: 0.8844 - val_accuracy: 0.7835\n",
            "Epoch 86/100\n",
            "2/2 [==============================] - 1s 352ms/step - loss: 0.2027 - accuracy: 0.9286 - val_loss: 1.2195 - val_accuracy: 0.7423\n",
            "Epoch 87/100\n",
            "2/2 [==============================] - 1s 309ms/step - loss: 0.2224 - accuracy: 0.9107 - val_loss: 0.8838 - val_accuracy: 0.8041\n",
            "Epoch 88/100\n",
            "2/2 [==============================] - 1s 355ms/step - loss: 0.2216 - accuracy: 0.9018 - val_loss: 0.8271 - val_accuracy: 0.8144\n",
            "Epoch 89/100\n",
            "2/2 [==============================] - 1s 313ms/step - loss: 0.2108 - accuracy: 0.9152 - val_loss: 1.2512 - val_accuracy: 0.7629\n",
            "Epoch 90/100\n",
            "2/2 [==============================] - 1s 341ms/step - loss: 0.2351 - accuracy: 0.9062 - val_loss: 0.8478 - val_accuracy: 0.8144\n",
            "Epoch 91/100\n",
            "2/2 [==============================] - 1s 396ms/step - loss: 0.1933 - accuracy: 0.9152 - val_loss: 0.7816 - val_accuracy: 0.7835\n",
            "Epoch 92/100\n",
            "2/2 [==============================] - 1s 334ms/step - loss: 0.2452 - accuracy: 0.9107 - val_loss: 0.9758 - val_accuracy: 0.7835\n",
            "Epoch 93/100\n",
            "2/2 [==============================] - 1s 354ms/step - loss: 0.1981 - accuracy: 0.9286 - val_loss: 1.3427 - val_accuracy: 0.7526\n",
            "Epoch 94/100\n",
            "2/2 [==============================] - 1s 372ms/step - loss: 0.2056 - accuracy: 0.9196 - val_loss: 1.1729 - val_accuracy: 0.7526\n",
            "Epoch 95/100\n",
            "2/2 [==============================] - 1s 355ms/step - loss: 0.2217 - accuracy: 0.9286 - val_loss: 0.9193 - val_accuracy: 0.7835\n",
            "Epoch 96/100\n",
            "2/2 [==============================] - 1s 299ms/step - loss: 0.1372 - accuracy: 0.9509 - val_loss: 1.1533 - val_accuracy: 0.7732\n",
            "Epoch 97/100\n",
            "2/2 [==============================] - 1s 302ms/step - loss: 0.2285 - accuracy: 0.9196 - val_loss: 0.9823 - val_accuracy: 0.7835\n",
            "Epoch 98/100\n",
            "2/2 [==============================] - 1s 298ms/step - loss: 0.2220 - accuracy: 0.9375 - val_loss: 1.2172 - val_accuracy: 0.7526\n",
            "Epoch 99/100\n",
            "2/2 [==============================] - 1s 350ms/step - loss: 0.1837 - accuracy: 0.9196 - val_loss: 1.6169 - val_accuracy: 0.7320\n",
            "Epoch 100/100\n",
            "2/2 [==============================] - 1s 298ms/step - loss: 0.2712 - accuracy: 0.8973 - val_loss: 0.9442 - val_accuracy: 0.8041\n"
          ]
        }
      ],
      "source": [
        "epochs=100\n",
        "batch_size=128\n",
        "# checkpoint_path=\"/content/modelcheckpoint/model.ckpt\"\n",
        "# checkpoint_callback=tf.keras.callbacks.ModelCheckpoint(checkpoint_path,\n",
        "#                                                       monitor=\"val_accuracy\")\n",
        "\n",
        "history = model.fit(\n",
        "    X_train,\n",
        "    Y_train,\n",
        "    validation_data=(X_val,Y_val),\n",
        "    epochs=epochs,\n",
        "    batch_size=batch_size,\n",
        "          )"
      ]
    },
    {
      "cell_type": "code",
      "execution_count": 58,
      "metadata": {
        "id": "Fr5fJjHM3Xzi"
      },
      "outputs": [],
      "source": [
        "from matplotlib import pyplot as plt\n"
      ]
    },
    {
      "cell_type": "code",
      "execution_count": 60,
      "metadata": {
        "colab": {
          "base_uri": "https://localhost:8080/",
          "height": 465
        },
        "id": "UY7Gw4IOBk65",
        "outputId": "91dba76f-dcc4-4ee0-c8ed-bebb51da7a9a"
      },
      "outputs": [
        {
          "output_type": "display_data",
          "data": {
            "text/plain": [
              "<Figure size 1200x500 with 1 Axes>"
            ],
            "image/png": "[encoded data removed]"
          },
          "metadata": {}
        }
      ],
      "source": [
        "plt.figure(figsize=(12,5))\n",
        "plt.plot(history.history['accuracy'],color='r')\n",
        "plt.plot(history.history['val_accuracy'],color='g')\n",
        "plt.ylabel(\"accuracy\")\n",
        "plt.xlabel(\"epochs\")\n",
        "plt.legend(['train','val'])\n",
        "\n",
        "plt.show()"
      ]
    },
    {
      "cell_type": "code",
      "source": [
        "ypred=model.predict(X_test)\n",
        "score=model.evaluate(X_test,Y_test)\n",
        "# print(\"accuarcy over the test set: \\n\",round(score[1]*100))"
      ],
      "metadata": {
        "id": "Le8fCAje6vdA",
        "outputId": "e46db76a-84b4-4d33-ce72-438ee31c6feb",
        "colab": {
          "base_uri": "https://localhost:8080/"
        }
      },
      "execution_count": 61,
      "outputs": [
        {
          "output_type": "stream",
          "name": "stdout",
          "text": [
            "2/2 [==============================] - 0s 24ms/step\n",
            "2/2 [==============================] - 0s 12ms/step - loss: 0.7380 - accuracy: 0.8056\n"
          ]
        }
      ]
    },
    {
      "cell_type": "code",
      "source": [
        "score[1]"
      ],
      "metadata": {
        "id": "5KzNcx026vZQ",
        "outputId": "c1aeb072-e846-4f91-9dc6-b6ae25b9cfde",
        "colab": {
          "base_uri": "https://localhost:8080/"
        }
      },
      "execution_count": 62,
      "outputs": [
        {
          "output_type": "execute_result",
          "data": {
            "text/plain": [
              "0.8055555820465088"
            ]
          },
          "metadata": {},
          "execution_count": 62
        }
      ]
    },
    {
      "cell_type": "code",
      "source": [],
      "metadata": {
        "id": "-iDM9ELR6vWJ"
      },
      "execution_count": 62,
      "outputs": []
    },
    {
      "cell_type": "code",
      "execution_count": 87,
      "metadata": {
        "id": "-IfXatAuN-ii"
      },
      "outputs": [],
      "source": [
        "img=tf.keras.utils.load_img(\n",
        "    \"/content/image.jpg\",\n",
        "    grayscale=False,\n",
        "    color_mode='rgb',\n",
        "    target_size=None,\n",
        "    interpolation='nearest',\n",
        "    keep_aspect_ratio=False\n",
        ")"
      ]
    },
    {
      "cell_type": "code",
      "source": [
        "imgArray=tf.keras.utils.img_to_array(img,)"
      ],
      "metadata": {
        "id": "XFYk25VE5yjJ"
      },
      "execution_count": 92,
      "outputs": []
    },
    {
      "cell_type": "code",
      "source": [],
      "metadata": {
        "id": "sbDiUFIE8ATy"
      },
      "execution_count": 88,
      "outputs": []
    },
    {
      "cell_type": "code",
      "source": [
        "img=tf.image.resize(imgArray, (224,224))\n",
        "img_expand=tf.expand_dims(img,axis=0)"
      ],
      "metadata": {
        "id": "xCHWlxNs56Fo"
      },
      "execution_count": 94,
      "outputs": []
    },
    {
      "cell_type": "code",
      "source": [
        "img_expand.shape"
      ],
      "metadata": {
        "id": "v4VO3-xA8Pnb",
        "outputId": "9a45fe55-86c0-4f34-b722-7fa2c64cb048",
        "colab": {
          "base_uri": "https://localhost:8080/"
        }
      },
      "execution_count": 95,
      "outputs": [
        {
          "output_type": "execute_result",
          "data": {
            "text/plain": [
              "TensorShape([1, 224, 224, 3])"
            ]
          },
          "metadata": {},
          "execution_count": 95
        }
      ]
    },
    {
      "cell_type": "code",
      "source": [
        "CLASS_NAMES[np.argmax(model.predict(img_expand))]"
      ],
      "metadata": {
        "id": "ILZ5oUVQ57mx",
        "outputId": "15300988-63a6-414a-c878-c0db6b64df62",
        "colab": {
          "base_uri": "https://localhost:8080/",
          "height": 53
        }
      },
      "execution_count": 96,
      "outputs": [
        {
          "output_type": "stream",
          "name": "stdout",
          "text": [
            "1/1 [==============================] - 0s 21ms/step\n"
          ]
        },
        {
          "output_type": "execute_result",
          "data": {
            "text/plain": [
              "'scottish_deerhound'"
            ],
            "application/vnd.google.colaboratory.intrinsic+json": {
              "type": "string"
            }
          },
          "metadata": {},
          "execution_count": 96
        }
      ]
    },
    {
      "cell_type": "code",
      "source": [
        "import cv2\n",
        "from google.colab.patches import cv2_imshow"
      ],
      "metadata": {
        "id": "O2FrAW3y6YiV"
      },
      "execution_count": 97,
      "outputs": []
    },
    {
      "cell_type": "code",
      "source": [
        "cv2_imshow(imgArray)"
      ],
      "metadata": {
        "id": "dzQp2kDE9njk",
        "outputId": "30741f4b-b7c1-4283-ab45-ea51ffa6c238",
        "colab": {
          "base_uri": "https://localhost:8080/",
          "height": 241
        }
      },
      "execution_count": 98,
      "outputs": [
        {
          "output_type": "display_data",
          "data": {
            "text/plain": [
              "<PIL.Image.Image image mode=RGB size=224x224>"
            ],
            "image/png": "[encoded data removed]"
          },
          "metadata": {}
        }
      ]
    },
    {
      "cell_type": "code",
      "source": [
        "model.save(\"dogbreed.h5\")"
      ],
      "metadata": {
        "id": "4WyMJPnw9prs",
        "outputId": "4596d198-c325-45a0-f185-f66e473632cb",
        "colab": {
          "base_uri": "https://localhost:8080/"
        }
      },
      "execution_count": 99,
      "outputs": [
        {
          "output_type": "stream",
          "name": "stderr",
          "text": [
            "/usr/local/lib/python3.10/dist-packages/keras/src/engine/training.py:3103: UserWarning: You are saving your model as an HDF5 file via `model.save()`. This file format is considered legacy. We recommend using instead the native Keras format, e.g. `model.save('my_model.keras')`.\n",
            "  saving_api.save_model(\n"
          ]
        }
      ]
    },
    {
      "cell_type": "code",
      "source": [],
      "metadata": {
        "id": "vSyGId1J_f-A"
      },
      "execution_count": null,
      "outputs": []
    }
  ],
  "metadata": {
    "accelerator": "GPU",
    "colab": {
      "provenance": [],
      "gpuType": "T4",
      "authorship_tag": "ABX9TyO/Xr/JDwoKTN2S1ImCbHOB",
      "include_colab_link": true
    },
    "kernelspec": {
      "display_name": "Python 3",
      "name": "python3"
    },
    "language_info": {
      "name": "python"
    }
  },
  "nbformat": 4,
  "nbformat_minor": 0
}