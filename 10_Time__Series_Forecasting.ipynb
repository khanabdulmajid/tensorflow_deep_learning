{
  "nbformat": 4,
  "nbformat_minor": 0,
  "metadata": {
    "colab": {
      "provenance": [],
      "authorship_tag": "ABX9TyOI6Bk3WckEhLEoDIC7DK/S",
      "include_colab_link": true
    },
    "kernelspec": {
      "name": "python3",
      "display_name": "Python 3"
    },
    "language_info": {
      "name": "python"
    }
  },
  "cells": [
    {
      "cell_type": "markdown",
      "metadata": {
        "id": "view-in-github",
        "colab_type": "text"
      },
      "source": [
        "<a href=\"https://colab.research.google.com/github/khanabdulmajid/tensorflow_deep_learning/blob/main/10_Time__Series_Forecasting.ipynb\" target=\"_parent\"><img src=\"https://colab.research.google.com/assets/colab-badge.svg\" alt=\"Open In Colab\"/></a>"
      ]
    },
    {
      "cell_type": "code",
      "execution_count": 1,
      "metadata": {
        "id": "VdU2d3XsDK3Q"
      },
      "outputs": [],
      "source": [
        "#Get Data Bitcoin\n",
        "\n"
      ]
    },
    {
      "cell_type": "code",
      "source": [
        "!wget https://raw.githubusercontent.com/mrdbourke/tensorflow-deep-learning/main/extras/BTC_USD_2013-10-01_2021-05-18-CoinDesk.csv"
      ],
      "metadata": {
        "colab": {
          "base_uri": "https://localhost:8080/"
        },
        "id": "BkTEXY0pDT9b",
        "outputId": "8ad9a40e-4b5b-4ae5-ebfe-4baf1e5de20d"
      },
      "execution_count": 2,
      "outputs": [
        {
          "output_type": "stream",
          "name": "stdout",
          "text": [
            "--2024-02-01 08:25:11--  https://raw.githubusercontent.com/mrdbourke/tensorflow-deep-learning/main/extras/BTC_USD_2013-10-01_2021-05-18-CoinDesk.csv\n",
            "Resolving raw.githubusercontent.com (raw.githubusercontent.com)... 185.199.108.133, 185.199.109.133, 185.199.110.133, ...\n",
            "Connecting to raw.githubusercontent.com (raw.githubusercontent.com)|185.199.108.133|:443... connected.\n",
            "HTTP request sent, awaiting response... 200 OK\n",
            "Length: 178509 (174K) [text/plain]\n",
            "Saving to: ‘BTC_USD_2013-10-01_2021-05-18-CoinDesk.csv’\n",
            "\n",
            "\r          BTC_USD_2   0%[                    ]       0  --.-KB/s               \rBTC_USD_2013-10-01_ 100%[===================>] 174.33K  --.-KB/s    in 0.02s   \n",
            "\n",
            "2024-02-01 08:25:11 (11.3 MB/s) - ‘BTC_USD_2013-10-01_2021-05-18-CoinDesk.csv’ saved [178509/178509]\n",
            "\n"
          ]
        }
      ]
    },
    {
      "cell_type": "code",
      "source": [
        "#importing time series data with panda\n",
        "\n",
        "import pandas as pd\n",
        "\n",
        "df = pd.read_csv(\"/content/BTC_USD_2013-10-01_2021-05-18-CoinDesk.csv\",\n",
        "                 parse_dates=[\"Date\"],\n",
        "                 index_col=[\"Date\"]\n",
        "                 )\n"
      ],
      "metadata": {
        "id": "y10gbIVgEc3k"
      },
      "execution_count": 3,
      "outputs": []
    },
    {
      "cell_type": "code",
      "source": [
        "df.head()"
      ],
      "metadata": {
        "colab": {
          "base_uri": "https://localhost:8080/",
          "height": 238
        },
        "id": "3LBJ9MWdG-0U",
        "outputId": "90d52acf-cc33-459d-a04b-1815b418b6f8"
      },
      "execution_count": 4,
      "outputs": [
        {
          "output_type": "execute_result",
          "data": {
            "text/plain": [
              "           Currency  Closing Price (USD)  24h Open (USD)  24h High (USD)  \\\n",
              "Date                                                                       \n",
              "2013-10-01      BTC            123.65499       124.30466       124.75166   \n",
              "2013-10-02      BTC            125.45500       123.65499       125.75850   \n",
              "2013-10-03      BTC            108.58483       125.45500       125.66566   \n",
              "2013-10-04      BTC            118.67466       108.58483       118.67500   \n",
              "2013-10-05      BTC            121.33866       118.67466       121.93633   \n",
              "\n",
              "            24h Low (USD)  \n",
              "Date                       \n",
              "2013-10-01      122.56349  \n",
              "2013-10-02      123.63383  \n",
              "2013-10-03       83.32833  \n",
              "2013-10-04      107.05816  \n",
              "2013-10-05      118.00566  "
            ],
            "text/html": [
              "\n",
              "  <div id=\"df-1e0f96b1-3385-477d-a1b9-5ed7416f958d\" class=\"colab-df-container\">\n",
              "    <div>\n",
              "<style scoped>\n",
              "    .dataframe tbody tr th:only-of-type {\n",
              "        vertical-align: middle;\n",
              "    }\n",
              "\n",
              "    .dataframe tbody tr th {\n",
              "        vertical-align: top;\n",
              "    }\n",
              "\n",
              "    .dataframe thead th {\n",
              "        text-align: right;\n",
              "    }\n",
              "</style>\n",
              "<table border=\"1\" class=\"dataframe\">\n",
              "  <thead>\n",
              "    <tr style=\"text-align: right;\">\n",
              "      <th></th>\n",
              "      <th>Currency</th>\n",
              "      <th>Closing Price (USD)</th>\n",
              "      <th>24h Open (USD)</th>\n",
              "      <th>24h High (USD)</th>\n",
              "      <th>24h Low (USD)</th>\n",
              "    </tr>\n",
              "    <tr>\n",
              "      <th>Date</th>\n",
              "      <th></th>\n",
              "      <th></th>\n",
              "      <th></th>\n",
              "      <th></th>\n",
              "      <th></th>\n",
              "    </tr>\n",
              "  </thead>\n",
              "  <tbody>\n",
              "    <tr>\n",
              "      <th>2013-10-01</th>\n",
              "      <td>BTC</td>\n",
              "      <td>123.65499</td>\n",
              "      <td>124.30466</td>\n",
              "      <td>124.75166</td>\n",
              "      <td>122.56349</td>\n",
              "    </tr>\n",
              "    <tr>\n",
              "      <th>2013-10-02</th>\n",
              "      <td>BTC</td>\n",
              "      <td>125.45500</td>\n",
              "      <td>123.65499</td>\n",
              "      <td>125.75850</td>\n",
              "      <td>123.63383</td>\n",
              "    </tr>\n",
              "    <tr>\n",
              "      <th>2013-10-03</th>\n",
              "      <td>BTC</td>\n",
              "      <td>108.58483</td>\n",
              "      <td>125.45500</td>\n",
              "      <td>125.66566</td>\n",
              "      <td>83.32833</td>\n",
              "    </tr>\n",
              "    <tr>\n",
              "      <th>2013-10-04</th>\n",
              "      <td>BTC</td>\n",
              "      <td>118.67466</td>\n",
              "      <td>108.58483</td>\n",
              "      <td>118.67500</td>\n",
              "      <td>107.05816</td>\n",
              "    </tr>\n",
              "    <tr>\n",
              "      <th>2013-10-05</th>\n",
              "      <td>BTC</td>\n",
              "      <td>121.33866</td>\n",
              "      <td>118.67466</td>\n",
              "      <td>121.93633</td>\n",
              "      <td>118.00566</td>\n",
              "    </tr>\n",
              "  </tbody>\n",
              "</table>\n",
              "</div>\n",
              "    <div class=\"colab-df-buttons\">\n",
              "\n",
              "  <div class=\"colab-df-container\">\n",
              "    <button class=\"colab-df-convert\" onclick=\"convertToInteractive('df-1e0f96b1-3385-477d-a1b9-5ed7416f958d')\"\n",
              "            title=\"Convert this dataframe to an interactive table.\"\n",
              "            style=\"display:none;\">\n",
              "\n",
              "  <svg xmlns=\"http://www.w3.org/2000/svg\" height=\"24px\" viewBox=\"0 -960 960 960\">\n",
              "    <path d=\"M120-120v-720h720v720H120Zm60-500h600v-160H180v160Zm220 220h160v-160H400v160Zm0 220h160v-160H400v160ZM180-400h160v-160H180v160Zm440 0h160v-160H620v160ZM180-180h160v-160H180v160Zm440 0h160v-160H620v160Z\"/>\n",
              "  </svg>\n",
              "    </button>\n",
              "\n",
              "  <style>\n",
              "    .colab-df-container {\n",
              "      display:flex;\n",
              "      gap: 12px;\n",
              "    }\n",
              "\n",
              "    .colab-df-convert {\n",
              "      background-color: #E8F0FE;\n",
              "      border: none;\n",
              "      border-radius: 50%;\n",
              "      cursor: pointer;\n",
              "      display: none;\n",
              "      fill: #1967D2;\n",
              "      height: 32px;\n",
              "      padding: 0 0 0 0;\n",
              "      width: 32px;\n",
              "    }\n",
              "\n",
              "    .colab-df-convert:hover {\n",
              "      background-color: #E2EBFA;\n",
              "      box-shadow: 0px 1px 2px rgba(60, 64, 67, 0.3), 0px 1px 3px 1px rgba(60, 64, 67, 0.15);\n",
              "      fill: #174EA6;\n",
              "    }\n",
              "\n",
              "    .colab-df-buttons div {\n",
              "      margin-bottom: 4px;\n",
              "    }\n",
              "\n",
              "    [theme=dark] .colab-df-convert {\n",
              "      background-color: #3B4455;\n",
              "      fill: #D2E3FC;\n",
              "    }\n",
              "\n",
              "    [theme=dark] .colab-df-convert:hover {\n",
              "      background-color: #434B5C;\n",
              "      box-shadow: 0px 1px 3px 1px rgba(0, 0, 0, 0.15);\n",
              "      filter: drop-shadow(0px 1px 2px rgba(0, 0, 0, 0.3));\n",
              "      fill: #FFFFFF;\n",
              "    }\n",
              "  </style>\n",
              "\n",
              "    <script>\n",
              "      const buttonEl =\n",
              "        document.querySelector('#df-1e0f96b1-3385-477d-a1b9-5ed7416f958d button.colab-df-convert');\n",
              "      buttonEl.style.display =\n",
              "        google.colab.kernel.accessAllowed ? 'block' : 'none';\n",
              "\n",
              "      async function convertToInteractive(key) {\n",
              "        const element = document.querySelector('#df-1e0f96b1-3385-477d-a1b9-5ed7416f958d');\n",
              "        const dataTable =\n",
              "          await google.colab.kernel.invokeFunction('convertToInteractive',\n",
              "                                                    [key], {});\n",
              "        if (!dataTable) return;\n",
              "\n",
              "        const docLinkHtml = 'Like what you see? Visit the ' +\n",
              "          '<a target=\"_blank\" href=https://colab.research.google.com/notebooks/data_table.ipynb>data table notebook</a>'\n",
              "          + ' to learn more about interactive tables.';\n",
              "        element.innerHTML = '';\n",
              "        dataTable['output_type'] = 'display_data';\n",
              "        await google.colab.output.renderOutput(dataTable, element);\n",
              "        const docLink = document.createElement('div');\n",
              "        docLink.innerHTML = docLinkHtml;\n",
              "        element.appendChild(docLink);\n",
              "      }\n",
              "    </script>\n",
              "  </div>\n",
              "\n",
              "\n",
              "<div id=\"df-fc2ae42d-c19a-40aa-aa40-594f5312dd7f\">\n",
              "  <button class=\"colab-df-quickchart\" onclick=\"quickchart('df-fc2ae42d-c19a-40aa-aa40-594f5312dd7f')\"\n",
              "            title=\"Suggest charts\"\n",
              "            style=\"display:none;\">\n",
              "\n",
              "<svg xmlns=\"http://www.w3.org/2000/svg\" height=\"24px\"viewBox=\"0 0 24 24\"\n",
              "     width=\"24px\">\n",
              "    <g>\n",
              "        <path d=\"M19 3H5c-1.1 0-2 .9-2 2v14c0 1.1.9 2 2 2h14c1.1 0 2-.9 2-2V5c0-1.1-.9-2-2-2zM9 17H7v-7h2v7zm4 0h-2V7h2v10zm4 0h-2v-4h2v4z\"/>\n",
              "    </g>\n",
              "</svg>\n",
              "  </button>\n",
              "\n",
              "<style>\n",
              "  .colab-df-quickchart {\n",
              "      --bg-color: #E8F0FE;\n",
              "      --fill-color: #1967D2;\n",
              "      --hover-bg-color: #E2EBFA;\n",
              "      --hover-fill-color: #174EA6;\n",
              "      --disabled-fill-color: #AAA;\n",
              "      --disabled-bg-color: #DDD;\n",
              "  }\n",
              "\n",
              "  [theme=dark] .colab-df-quickchart {\n",
              "      --bg-color: #3B4455;\n",
              "      --fill-color: #D2E3FC;\n",
              "      --hover-bg-color: #434B5C;\n",
              "      --hover-fill-color: #FFFFFF;\n",
              "      --disabled-bg-color: #3B4455;\n",
              "      --disabled-fill-color: #666;\n",
              "  }\n",
              "\n",
              "  .colab-df-quickchart {\n",
              "    background-color: var(--bg-color);\n",
              "    border: none;\n",
              "    border-radius: 50%;\n",
              "    cursor: pointer;\n",
              "    display: none;\n",
              "    fill: var(--fill-color);\n",
              "    height: 32px;\n",
              "    padding: 0;\n",
              "    width: 32px;\n",
              "  }\n",
              "\n",
              "  .colab-df-quickchart:hover {\n",
              "    background-color: var(--hover-bg-color);\n",
              "    box-shadow: 0 1px 2px rgba(60, 64, 67, 0.3), 0 1px 3px 1px rgba(60, 64, 67, 0.15);\n",
              "    fill: var(--button-hover-fill-color);\n",
              "  }\n",
              "\n",
              "  .colab-df-quickchart-complete:disabled,\n",
              "  .colab-df-quickchart-complete:disabled:hover {\n",
              "    background-color: var(--disabled-bg-color);\n",
              "    fill: var(--disabled-fill-color);\n",
              "    box-shadow: none;\n",
              "  }\n",
              "\n",
              "  .colab-df-spinner {\n",
              "    border: 2px solid var(--fill-color);\n",
              "    border-color: transparent;\n",
              "    border-bottom-color: var(--fill-color);\n",
              "    animation:\n",
              "      spin 1s steps(1) infinite;\n",
              "  }\n",
              "\n",
              "  @keyframes spin {\n",
              "    0% {\n",
              "      border-color: transparent;\n",
              "      border-bottom-color: var(--fill-color);\n",
              "      border-left-color: var(--fill-color);\n",
              "    }\n",
              "    20% {\n",
              "      border-color: transparent;\n",
              "      border-left-color: var(--fill-color);\n",
              "      border-top-color: var(--fill-color);\n",
              "    }\n",
              "    30% {\n",
              "      border-color: transparent;\n",
              "      border-left-color: var(--fill-color);\n",
              "      border-top-color: var(--fill-color);\n",
              "      border-right-color: var(--fill-color);\n",
              "    }\n",
              "    40% {\n",
              "      border-color: transparent;\n",
              "      border-right-color: var(--fill-color);\n",
              "      border-top-color: var(--fill-color);\n",
              "    }\n",
              "    60% {\n",
              "      border-color: transparent;\n",
              "      border-right-color: var(--fill-color);\n",
              "    }\n",
              "    80% {\n",
              "      border-color: transparent;\n",
              "      border-right-color: var(--fill-color);\n",
              "      border-bottom-color: var(--fill-color);\n",
              "    }\n",
              "    90% {\n",
              "      border-color: transparent;\n",
              "      border-bottom-color: var(--fill-color);\n",
              "    }\n",
              "  }\n",
              "</style>\n",
              "\n",
              "  <script>\n",
              "    async function quickchart(key) {\n",
              "      const quickchartButtonEl =\n",
              "        document.querySelector('#' + key + ' button');\n",
              "      quickchartButtonEl.disabled = true;  // To prevent multiple clicks.\n",
              "      quickchartButtonEl.classList.add('colab-df-spinner');\n",
              "      try {\n",
              "        const charts = await google.colab.kernel.invokeFunction(\n",
              "            'suggestCharts', [key], {});\n",
              "      } catch (error) {\n",
              "        console.error('Error during call to suggestCharts:', error);\n",
              "      }\n",
              "      quickchartButtonEl.classList.remove('colab-df-spinner');\n",
              "      quickchartButtonEl.classList.add('colab-df-quickchart-complete');\n",
              "    }\n",
              "    (() => {\n",
              "      let quickchartButtonEl =\n",
              "        document.querySelector('#df-fc2ae42d-c19a-40aa-aa40-594f5312dd7f button');\n",
              "      quickchartButtonEl.style.display =\n",
              "        google.colab.kernel.accessAllowed ? 'block' : 'none';\n",
              "    })();\n",
              "  </script>\n",
              "</div>\n",
              "\n",
              "    </div>\n",
              "  </div>\n"
            ]
          },
          "metadata": {},
          "execution_count": 4
        }
      ]
    },
    {
      "cell_type": "code",
      "source": [
        "df.info()"
      ],
      "metadata": {
        "colab": {
          "base_uri": "https://localhost:8080/"
        },
        "id": "qx_aJC_PHMGb",
        "outputId": "bf3c0d2e-900d-4067-9171-bf78607f3048"
      },
      "execution_count": 5,
      "outputs": [
        {
          "output_type": "stream",
          "name": "stdout",
          "text": [
            "<class 'pandas.core.frame.DataFrame'>\n",
            "DatetimeIndex: 2787 entries, 2013-10-01 to 2021-05-18\n",
            "Data columns (total 5 columns):\n",
            " #   Column               Non-Null Count  Dtype  \n",
            "---  ------               --------------  -----  \n",
            " 0   Currency             2787 non-null   object \n",
            " 1   Closing Price (USD)  2787 non-null   float64\n",
            " 2   24h Open (USD)       2787 non-null   float64\n",
            " 3   24h High (USD)       2787 non-null   float64\n",
            " 4   24h Low (USD)        2787 non-null   float64\n",
            "dtypes: float64(4), object(1)\n",
            "memory usage: 130.6+ KB\n"
          ]
        }
      ]
    },
    {
      "cell_type": "code",
      "source": [
        "bitcoin_prices = pd.DataFrame(df[\"Closing Price (USD)\"]).rename(columns={\"Closing Price (USD)\": \"Price\"})\n",
        "bitcoin_prices.head()"
      ],
      "metadata": {
        "colab": {
          "base_uri": "https://localhost:8080/",
          "height": 238
        },
        "id": "ctcZDnJ2CdpZ",
        "outputId": "28956a95-4f0e-4711-ebb9-a64dd6e63971"
      },
      "execution_count": 6,
      "outputs": [
        {
          "output_type": "execute_result",
          "data": {
            "text/plain": [
              "                Price\n",
              "Date                 \n",
              "2013-10-01  123.65499\n",
              "2013-10-02  125.45500\n",
              "2013-10-03  108.58483\n",
              "2013-10-04  118.67466\n",
              "2013-10-05  121.33866"
            ],
            "text/html": [
              "\n",
              "  <div id=\"df-2e1a3045-94a8-44bb-b047-88dc255ebb91\" class=\"colab-df-container\">\n",
              "    <div>\n",
              "<style scoped>\n",
              "    .dataframe tbody tr th:only-of-type {\n",
              "        vertical-align: middle;\n",
              "    }\n",
              "\n",
              "    .dataframe tbody tr th {\n",
              "        vertical-align: top;\n",
              "    }\n",
              "\n",
              "    .dataframe thead th {\n",
              "        text-align: right;\n",
              "    }\n",
              "</style>\n",
              "<table border=\"1\" class=\"dataframe\">\n",
              "  <thead>\n",
              "    <tr style=\"text-align: right;\">\n",
              "      <th></th>\n",
              "      <th>Price</th>\n",
              "    </tr>\n",
              "    <tr>\n",
              "      <th>Date</th>\n",
              "      <th></th>\n",
              "    </tr>\n",
              "  </thead>\n",
              "  <tbody>\n",
              "    <tr>\n",
              "      <th>2013-10-01</th>\n",
              "      <td>123.65499</td>\n",
              "    </tr>\n",
              "    <tr>\n",
              "      <th>2013-10-02</th>\n",
              "      <td>125.45500</td>\n",
              "    </tr>\n",
              "    <tr>\n",
              "      <th>2013-10-03</th>\n",
              "      <td>108.58483</td>\n",
              "    </tr>\n",
              "    <tr>\n",
              "      <th>2013-10-04</th>\n",
              "      <td>118.67466</td>\n",
              "    </tr>\n",
              "    <tr>\n",
              "      <th>2013-10-05</th>\n",
              "      <td>121.33866</td>\n",
              "    </tr>\n",
              "  </tbody>\n",
              "</table>\n",
              "</div>\n",
              "    <div class=\"colab-df-buttons\">\n",
              "\n",
              "  <div class=\"colab-df-container\">\n",
              "    <button class=\"colab-df-convert\" onclick=\"convertToInteractive('df-2e1a3045-94a8-44bb-b047-88dc255ebb91')\"\n",
              "            title=\"Convert this dataframe to an interactive table.\"\n",
              "            style=\"display:none;\">\n",
              "\n",
              "  <svg xmlns=\"http://www.w3.org/2000/svg\" height=\"24px\" viewBox=\"0 -960 960 960\">\n",
              "    <path d=\"M120-120v-720h720v720H120Zm60-500h600v-160H180v160Zm220 220h160v-160H400v160Zm0 220h160v-160H400v160ZM180-400h160v-160H180v160Zm440 0h160v-160H620v160ZM180-180h160v-160H180v160Zm440 0h160v-160H620v160Z\"/>\n",
              "  </svg>\n",
              "    </button>\n",
              "\n",
              "  <style>\n",
              "    .colab-df-container {\n",
              "      display:flex;\n",
              "      gap: 12px;\n",
              "    }\n",
              "\n",
              "    .colab-df-convert {\n",
              "      background-color: #E8F0FE;\n",
              "      border: none;\n",
              "      border-radius: 50%;\n",
              "      cursor: pointer;\n",
              "      display: none;\n",
              "      fill: #1967D2;\n",
              "      height: 32px;\n",
              "      padding: 0 0 0 0;\n",
              "      width: 32px;\n",
              "    }\n",
              "\n",
              "    .colab-df-convert:hover {\n",
              "      background-color: #E2EBFA;\n",
              "      box-shadow: 0px 1px 2px rgba(60, 64, 67, 0.3), 0px 1px 3px 1px rgba(60, 64, 67, 0.15);\n",
              "      fill: #174EA6;\n",
              "    }\n",
              "\n",
              "    .colab-df-buttons div {\n",
              "      margin-bottom: 4px;\n",
              "    }\n",
              "\n",
              "    [theme=dark] .colab-df-convert {\n",
              "      background-color: #3B4455;\n",
              "      fill: #D2E3FC;\n",
              "    }\n",
              "\n",
              "    [theme=dark] .colab-df-convert:hover {\n",
              "      background-color: #434B5C;\n",
              "      box-shadow: 0px 1px 3px 1px rgba(0, 0, 0, 0.15);\n",
              "      filter: drop-shadow(0px 1px 2px rgba(0, 0, 0, 0.3));\n",
              "      fill: #FFFFFF;\n",
              "    }\n",
              "  </style>\n",
              "\n",
              "    <script>\n",
              "      const buttonEl =\n",
              "        document.querySelector('#df-2e1a3045-94a8-44bb-b047-88dc255ebb91 button.colab-df-convert');\n",
              "      buttonEl.style.display =\n",
              "        google.colab.kernel.accessAllowed ? 'block' : 'none';\n",
              "\n",
              "      async function convertToInteractive(key) {\n",
              "        const element = document.querySelector('#df-2e1a3045-94a8-44bb-b047-88dc255ebb91');\n",
              "        const dataTable =\n",
              "          await google.colab.kernel.invokeFunction('convertToInteractive',\n",
              "                                                    [key], {});\n",
              "        if (!dataTable) return;\n",
              "\n",
              "        const docLinkHtml = 'Like what you see? Visit the ' +\n",
              "          '<a target=\"_blank\" href=https://colab.research.google.com/notebooks/data_table.ipynb>data table notebook</a>'\n",
              "          + ' to learn more about interactive tables.';\n",
              "        element.innerHTML = '';\n",
              "        dataTable['output_type'] = 'display_data';\n",
              "        await google.colab.output.renderOutput(dataTable, element);\n",
              "        const docLink = document.createElement('div');\n",
              "        docLink.innerHTML = docLinkHtml;\n",
              "        element.appendChild(docLink);\n",
              "      }\n",
              "    </script>\n",
              "  </div>\n",
              "\n",
              "\n",
              "<div id=\"df-adc44992-ca95-4ed8-af24-ff4c4894de9b\">\n",
              "  <button class=\"colab-df-quickchart\" onclick=\"quickchart('df-adc44992-ca95-4ed8-af24-ff4c4894de9b')\"\n",
              "            title=\"Suggest charts\"\n",
              "            style=\"display:none;\">\n",
              "\n",
              "<svg xmlns=\"http://www.w3.org/2000/svg\" height=\"24px\"viewBox=\"0 0 24 24\"\n",
              "     width=\"24px\">\n",
              "    <g>\n",
              "        <path d=\"M19 3H5c-1.1 0-2 .9-2 2v14c0 1.1.9 2 2 2h14c1.1 0 2-.9 2-2V5c0-1.1-.9-2-2-2zM9 17H7v-7h2v7zm4 0h-2V7h2v10zm4 0h-2v-4h2v4z\"/>\n",
              "    </g>\n",
              "</svg>\n",
              "  </button>\n",
              "\n",
              "<style>\n",
              "  .colab-df-quickchart {\n",
              "      --bg-color: #E8F0FE;\n",
              "      --fill-color: #1967D2;\n",
              "      --hover-bg-color: #E2EBFA;\n",
              "      --hover-fill-color: #174EA6;\n",
              "      --disabled-fill-color: #AAA;\n",
              "      --disabled-bg-color: #DDD;\n",
              "  }\n",
              "\n",
              "  [theme=dark] .colab-df-quickchart {\n",
              "      --bg-color: #3B4455;\n",
              "      --fill-color: #D2E3FC;\n",
              "      --hover-bg-color: #434B5C;\n",
              "      --hover-fill-color: #FFFFFF;\n",
              "      --disabled-bg-color: #3B4455;\n",
              "      --disabled-fill-color: #666;\n",
              "  }\n",
              "\n",
              "  .colab-df-quickchart {\n",
              "    background-color: var(--bg-color);\n",
              "    border: none;\n",
              "    border-radius: 50%;\n",
              "    cursor: pointer;\n",
              "    display: none;\n",
              "    fill: var(--fill-color);\n",
              "    height: 32px;\n",
              "    padding: 0;\n",
              "    width: 32px;\n",
              "  }\n",
              "\n",
              "  .colab-df-quickchart:hover {\n",
              "    background-color: var(--hover-bg-color);\n",
              "    box-shadow: 0 1px 2px rgba(60, 64, 67, 0.3), 0 1px 3px 1px rgba(60, 64, 67, 0.15);\n",
              "    fill: var(--button-hover-fill-color);\n",
              "  }\n",
              "\n",
              "  .colab-df-quickchart-complete:disabled,\n",
              "  .colab-df-quickchart-complete:disabled:hover {\n",
              "    background-color: var(--disabled-bg-color);\n",
              "    fill: var(--disabled-fill-color);\n",
              "    box-shadow: none;\n",
              "  }\n",
              "\n",
              "  .colab-df-spinner {\n",
              "    border: 2px solid var(--fill-color);\n",
              "    border-color: transparent;\n",
              "    border-bottom-color: var(--fill-color);\n",
              "    animation:\n",
              "      spin 1s steps(1) infinite;\n",
              "  }\n",
              "\n",
              "  @keyframes spin {\n",
              "    0% {\n",
              "      border-color: transparent;\n",
              "      border-bottom-color: var(--fill-color);\n",
              "      border-left-color: var(--fill-color);\n",
              "    }\n",
              "    20% {\n",
              "      border-color: transparent;\n",
              "      border-left-color: var(--fill-color);\n",
              "      border-top-color: var(--fill-color);\n",
              "    }\n",
              "    30% {\n",
              "      border-color: transparent;\n",
              "      border-left-color: var(--fill-color);\n",
              "      border-top-color: var(--fill-color);\n",
              "      border-right-color: var(--fill-color);\n",
              "    }\n",
              "    40% {\n",
              "      border-color: transparent;\n",
              "      border-right-color: var(--fill-color);\n",
              "      border-top-color: var(--fill-color);\n",
              "    }\n",
              "    60% {\n",
              "      border-color: transparent;\n",
              "      border-right-color: var(--fill-color);\n",
              "    }\n",
              "    80% {\n",
              "      border-color: transparent;\n",
              "      border-right-color: var(--fill-color);\n",
              "      border-bottom-color: var(--fill-color);\n",
              "    }\n",
              "    90% {\n",
              "      border-color: transparent;\n",
              "      border-bottom-color: var(--fill-color);\n",
              "    }\n",
              "  }\n",
              "</style>\n",
              "\n",
              "  <script>\n",
              "    async function quickchart(key) {\n",
              "      const quickchartButtonEl =\n",
              "        document.querySelector('#' + key + ' button');\n",
              "      quickchartButtonEl.disabled = true;  // To prevent multiple clicks.\n",
              "      quickchartButtonEl.classList.add('colab-df-spinner');\n",
              "      try {\n",
              "        const charts = await google.colab.kernel.invokeFunction(\n",
              "            'suggestCharts', [key], {});\n",
              "      } catch (error) {\n",
              "        console.error('Error during call to suggestCharts:', error);\n",
              "      }\n",
              "      quickchartButtonEl.classList.remove('colab-df-spinner');\n",
              "      quickchartButtonEl.classList.add('colab-df-quickchart-complete');\n",
              "    }\n",
              "    (() => {\n",
              "      let quickchartButtonEl =\n",
              "        document.querySelector('#df-adc44992-ca95-4ed8-af24-ff4c4894de9b button');\n",
              "      quickchartButtonEl.style.display =\n",
              "        google.colab.kernel.accessAllowed ? 'block' : 'none';\n",
              "    })();\n",
              "  </script>\n",
              "</div>\n",
              "\n",
              "    </div>\n",
              "  </div>\n"
            ]
          },
          "metadata": {},
          "execution_count": 6
        }
      ]
    },
    {
      "cell_type": "code",
      "source": [
        "import matplotlib.pyplot as plt\n",
        "bitcoin_prices.plot(figsize=(10, 7))\n",
        "plt.ylabel(\"BTC Price\")\n",
        "plt.title(\"Price of Bitcoin from 1 Oct 2013 to 18 May 2021\", fontsize=16)\n",
        "plt.legend(fontsize=14);"
      ],
      "metadata": {
        "colab": {
          "base_uri": "https://localhost:8080/",
          "height": 643
        },
        "id": "FSMntJoNCj6s",
        "outputId": "64ecb930-f2bc-4f23-caba-5b9146c84028"
      },
      "execution_count": 7,
      "outputs": [
        {
          "output_type": "display_data",
          "data": {
            "text/plain": [
              "<Figure size 1000x700 with 1 Axes>"
            ],
            "image/png": "[encoded data removed]"
          },
          "metadata": {}
        }
      ]
    },
    {
      "cell_type": "code",
      "source": [],
      "metadata": {
        "id": "LEfiEKzyCj34"
      },
      "execution_count": 7,
      "outputs": []
    },
    {
      "cell_type": "code",
      "source": [
        "df.index.to_numpy()"
      ],
      "metadata": {
        "id": "cllc998KCj1A",
        "colab": {
          "base_uri": "https://localhost:8080/"
        },
        "outputId": "a5e12dfe-d7ef-4d54-95d1-adb0f53dcb0e"
      },
      "execution_count": 8,
      "outputs": [
        {
          "output_type": "execute_result",
          "data": {
            "text/plain": [
              "array(['2013-10-01T00:00:00.000000000', '2013-10-02T00:00:00.000000000',\n",
              "       '2013-10-03T00:00:00.000000000', ...,\n",
              "       '2021-05-16T00:00:00.000000000', '2021-05-17T00:00:00.000000000',\n",
              "       '2021-05-18T00:00:00.000000000'], dtype='datetime64[ns]')"
            ]
          },
          "metadata": {},
          "execution_count": 8
        }
      ]
    },
    {
      "cell_type": "code",
      "source": [
        "# Importing and formatting historical Bitcoin data with Python\n",
        "timesteps=df.index.to_numpy()\n",
        "btc_price=df[\"Closing Price (USD)\"].to_numpy()"
      ],
      "metadata": {
        "id": "oz2F9Qlwz2V8"
      },
      "execution_count": 9,
      "outputs": []
    },
    {
      "cell_type": "code",
      "source": [
        "\n",
        "# Plot from CSV\n",
        "import matplotlib.pyplot as plt\n",
        "import numpy as np\n",
        "plt.figure(figsize=(10, 7))\n",
        "plt.plot(timesteps, btc_price)\n",
        "plt.title(\"Price of Bitcoin from 1 Oct 2013 to 18 May 2021\", fontsize=16)\n",
        "plt.xlabel(\"Date\")\n",
        "plt.ylabel(\"BTC Price\");"
      ],
      "metadata": {
        "colab": {
          "base_uri": "https://localhost:8080/",
          "height": 643
        },
        "id": "1xepTfqV1t9h",
        "outputId": "45e0f480-94a1-4ad5-d013-1fcf16ed0092"
      },
      "execution_count": 10,
      "outputs": [
        {
          "output_type": "display_data",
          "data": {
            "text/plain": [
              "<Figure size 1000x700 with 1 Axes>"
            ],
            "image/png": "[encoded data removed]"
          },
          "metadata": {}
        }
      ]
    },
    {
      "cell_type": "code",
      "source": [],
      "metadata": {
        "id": "WjoJ6hHTzheZ"
      },
      "execution_count": 10,
      "outputs": []
    },
    {
      "cell_type": "code",
      "source": [
        "# without using pandas\n",
        "import csv\n",
        "import datetime\n",
        "timesteps=[]\n",
        "btc_prices=[]\n",
        "with open(\"/content/BTC_USD_2013-10-01_2021-05-18-CoinDesk.csv\",\"r\") as f:\n",
        "  csv_reader= csv.reader(f,delimiter=\",\")\n",
        "  next(csv_reader)\n",
        "  for line in csv_reader:\n",
        "    timesteps.append(datetime.datetime.strptime(line[1],\"%Y-%m-%d\"))\n",
        "    btc_prices.append(float(line[2]))\n"
      ],
      "metadata": {
        "id": "Zbdf0lMpHoCY"
      },
      "execution_count": 11,
      "outputs": []
    },
    {
      "cell_type": "code",
      "source": [
        "plt.figure(figsize=(10,7))\n",
        "plt.plot(timesteps,btc_prices)\n",
        "plt.ylabel(\"BTC Prices\")\n",
        "plt.xlabel(\"date\")\n",
        "plt.legend()"
      ],
      "metadata": {
        "colab": {
          "base_uri": "https://localhost:8080/",
          "height": 655
        },
        "id": "4jlvaYbo9RAR",
        "outputId": "e001e334-736b-44ef-f711-a6bb545f6d36"
      },
      "execution_count": 12,
      "outputs": [
        {
          "output_type": "stream",
          "name": "stderr",
          "text": [
            "WARNING:matplotlib.legend:No artists with labels found to put in legend.  Note that artists whose label start with an underscore are ignored when legend() is called with no argument.\n"
          ]
        },
        {
          "output_type": "execute_result",
          "data": {
            "text/plain": [
              "<matplotlib.legend.Legend at 0x7a2e307bd5d0>"
            ]
          },
          "metadata": {},
          "execution_count": 12
        },
        {
          "output_type": "display_data",
          "data": {
            "text/plain": [
              "<Figure size 1000x700 with 1 Axes>"
            ],
            "image/png": "[encoded data removed]"
          },
          "metadata": {}
        }
      ]
    },
    {
      "cell_type": "code",
      "source": [
        "#How to split this date, it cannot be shuffled\n",
        "from sklearn.model_selection import train_test_split\n",
        "timesteps=df.index.to_numpy()\n",
        "prices=df['Closing Price (USD)'].to_numpy()\n",
        "\n",
        "X_train, X_test, y_train, y_test = train_test_split(timesteps,prices,\n",
        "                                                    test_size=0.2,\n",
        "                                                    random_state=42)\n",
        "X_train.shape, X_test.shape, y_train.shape,y_test.shape\n"
      ],
      "metadata": {
        "colab": {
          "base_uri": "https://localhost:8080/"
        },
        "id": "SVMSMhYG-7mD",
        "outputId": "186585bd-9871-4b0f-8547-39479f6bd389"
      },
      "execution_count": 13,
      "outputs": [
        {
          "output_type": "execute_result",
          "data": {
            "text/plain": [
              "((2229,), (558,), (2229,), (558,))"
            ]
          },
          "metadata": {},
          "execution_count": 13
        }
      ]
    },
    {
      "cell_type": "code",
      "source": [
        "# lets plot wrong train_test_split\n",
        "plt.figure(figsize=(10,7))\n",
        "plt.scatter(X_train,y_train,s=5,label=\"Train Data\")\n",
        "plt.scatter(X_test,y_test,s=5,label=\"Train Data\")\n",
        "plt.legend()"
      ],
      "metadata": {
        "colab": {
          "base_uri": "https://localhost:8080/",
          "height": 617
        },
        "id": "dGj9dX4xEsK9",
        "outputId": "77f39a96-b4e3-4465-fa78-356940664479"
      },
      "execution_count": 14,
      "outputs": [
        {
          "output_type": "execute_result",
          "data": {
            "text/plain": [
              "<matplotlib.legend.Legend at 0x7a2e22f3a9b0>"
            ]
          },
          "metadata": {},
          "execution_count": 14
        },
        {
          "output_type": "display_data",
          "data": {
            "text/plain": [
              "<Figure size 1000x700 with 1 Axes>"
            ],
            "image/png": "[encoded data removed]"
          },
          "metadata": {}
        }
      ]
    },
    {
      "cell_type": "code",
      "source": [
        "# why is this wrong way to split data.\n",
        "# this is a Random split             --*---**---**---*------*-----***--*\n",
        "# this is a Time Series split        -------------------------**********\n",
        "\n",
        "\n",
        "#create train and test splits the right way for timeseriesdata\n",
        "split_size=int(0.8 * len(prices))\n",
        "\n",
        "# create train data splits\n",
        "X_train,y_train=timesteps[:split_size],prices[:split_size]\n",
        "X_test,y_test=timesteps[split_size:],prices[split_size:]"
      ],
      "metadata": {
        "id": "9-8Y_SmHF6e7"
      },
      "execution_count": 15,
      "outputs": []
    },
    {
      "cell_type": "code",
      "source": [
        "# lets plot wrong train_test_split\n",
        "plt.figure(figsize=(10,7))\n",
        "plt.scatter(X_train,y_train,s=5,label=\"Train Data\")\n",
        "plt.scatter(X_test,y_test,s=5,label=\"Train Data\")\n",
        "plt.legend()"
      ],
      "metadata": {
        "colab": {
          "base_uri": "https://localhost:8080/",
          "height": 617
        },
        "id": "__mc3yHMJlJN",
        "outputId": "5a2531b9-486c-4fd7-9314-321c4b3ab1a4"
      },
      "execution_count": 16,
      "outputs": [
        {
          "output_type": "execute_result",
          "data": {
            "text/plain": [
              "<matplotlib.legend.Legend at 0x7a2e22a93e50>"
            ]
          },
          "metadata": {},
          "execution_count": 16
        },
        {
          "output_type": "display_data",
          "data": {
            "text/plain": [
              "<Figure size 1000x700 with 1 Axes>"
            ],
            "image/png": "[encoded data removed]"
          },
          "metadata": {}
        }
      ]
    },
    {
      "cell_type": "code",
      "source": [
        "def plot_time_series(timesteps, values, format='.', start=0, end=None, label=None):\n",
        "  \"\"\"\n",
        "  Plots a timesteps (a series of points in time) against values (a series of values across timesteps).\n",
        "\n",
        "  Parameters\n",
        "  ---------\n",
        "  timesteps : array of timesteps\n",
        "  values : array of values across time\n",
        "  format : style of plot, default \".\"\n",
        "  start : where to start the plot (setting a value will index from start of timesteps & values)\n",
        "  end : where to end the plot (setting a value will index from end of timesteps & values)\n",
        "  label : label to show on plot of values\n",
        "  \"\"\"\n",
        "  # Plot the series\n",
        "  plt.plot(timesteps[start:end], values[start:end], format, label=label)\n",
        "  plt.xlabel(\"Time\")\n",
        "  plt.ylabel(\"BTC Price\")\n",
        "  if label:\n",
        "    plt.legend(fontsize=14) # make label bigger\n",
        "  plt.grid(True)"
      ],
      "metadata": {
        "id": "lbKjGkHhJlC9"
      },
      "execution_count": 17,
      "outputs": []
    },
    {
      "cell_type": "code",
      "source": [],
      "metadata": {
        "id": "bh0IxlMwJlAF"
      },
      "execution_count": 17,
      "outputs": []
    },
    {
      "cell_type": "code",
      "source": [],
      "metadata": {
        "id": "TRieOBs7Jk4t"
      },
      "execution_count": 17,
      "outputs": []
    },
    {
      "cell_type": "code",
      "source": [
        "# how is lstm goiing to predict this\n",
        "# how will any other ml algorithm predict this"
      ],
      "metadata": {
        "id": "dVtULkSEC9XR"
      },
      "execution_count": 18,
      "outputs": []
    },
    {
      "cell_type": "markdown",
      "source": [
        "# some Terms to Familiarize,\n",
        "\n",
        "*   Horizon = Number of timesteps into the future we're going to prediict\n",
        "\n",
        "*   Window_size= number of timesteps we're going to use to predict the horizon\n",
        "\n",
        "\n"
      ],
      "metadata": {
        "id": "lx72H6uGahi1"
      }
    },
    {
      "cell_type": "markdown",
      "source": [
        "Modelling Experiments\n",
        "\n",
        "We can build almost any kind of model for our problem as long as the data inputs and outputs are formatted correctly.\n",
        "\n",
        "However, just because we can build almost any kind of model, doesn't mean it'll perform well/should be used in a production setting.\n",
        "\n",
        "We'll see what this means as we build and evaluate models throughout.\n",
        "\n",
        "Before we discuss what modelling experiments we're going to run, there are two terms you should be familiar with, horizon and window.\n",
        "\n",
        "    horizon = number of timesteps to predict into future\n",
        "    window = number of timesteps from past used to predict horizon\n",
        "\n",
        "For example, if we wanted to predict the price of Bitcoin for tomorrow (1 day in the future) using the previous week's worth of Bitcoin prices (7 days in the past), the horizon would be 1 and the window would be 7.\n",
        "\n",
        "Now, how about those modelling experiments?\n",
        "Model Number \tModel Type \tHorizon size \tWindow size \tExtra data\n",
        "0 \tNaïve model (baseline) \tNA \tNA \tNA\n",
        "1 \tDense model \t1 \t7 \tNA\n",
        "2 \tSame as 1 \t1 \t30 \tNA\n",
        "3 \tSame as 1 \t7 \t30 \tNA\n",
        "4 \tConv1D \t1 \t7 \tNA\n",
        "5 \tLSTM \t1 \t7 \tNA\n",
        "6 \tSame as 1 (but with multivariate data) \t1 \t7 \tBlock reward size\n",
        "7 \tN-BEATs Algorithm \t1 \t7 \tNA\n",
        "8 \tEnsemble (multiple models optimized on different loss functions) \t1 \t7 \tNA\n",
        "9 \tFuture prediction model (model to predict future values) \t1 \t7 \tNA\n",
        "10 \tSame as 1 (but with turkey 🦃 data introduced) \t1 \t7 \tNA\n",
        "\n",
        "    🔑 Note: To reiterate, as you can see, we can build many types of models for the data we're working with. But that doesn't mean that they'll perform well. Deep learning is a powerful technique but it doesn't always work. And as always, start with a simple model first and then add complexity as needed.\n",
        "\n",
        "Model 0: Naïve forecast (baseline)\n",
        "\n",
        "As usual, let's start with a baseline.\n",
        "\n",
        "One of the most common baseline models for time series forecasting, the naïve model (also called the naïve forecast), requires no training at all.\n",
        "\n",
        "That's because all the naïve model does is use the previous timestep value to predict the next timestep value.\n",
        "\n",
        "The formula looks like this:\n",
        "\n",
        "In English:\n",
        "\n",
        "    The prediction at timestep t (y-hat) is equal to the value at timestep t-1 (the previous timestep).\n",
        "\n",
        "Sound simple?\n",
        "\n",
        "Maybe not.\n",
        "\n",
        "In an open system (like a stock market or crypto market), you'll often find beating the naïve forecast with any kind of model is quite hard.\n",
        "\n",
        "    🔑 Note: For the sake of this notebook, an open system is a system where inputs and outputs can freely flow, such as a market (stock or crypto). Where as, a closed system the inputs and outputs are contained within the system (like a poker game with your buddies, you know the buy in and you know how much the winner can get). Time series forecasting in open systems is generally quite poor.\n"
      ],
      "metadata": {
        "id": "9OyKdPGSa6Cv"
      }
    },
    {
      "cell_type": "markdown",
      "source": [
        "#Naive Model\n",
        "y<sub>t</sub> = y <sub>t-1</sub>\n",
        "\n",
        "\n",
        "\n"
      ],
      "metadata": {
        "id": "XgkIeyXLRBR8"
      }
    },
    {
      "cell_type": "code",
      "source": [
        "# Create a naïve forecast\n",
        "naive_forecast = y_test[:-1] # Naïve forecast equals every value excluding the last value\n",
        "naive_forecast[:10], naive_forecast[-10:] # View frist 10 and last 10"
      ],
      "metadata": {
        "id": "BUfriBdwRAcV",
        "colab": {
          "base_uri": "https://localhost:8080/"
        },
        "outputId": "ce7d0916-3a85-4715-a511-df62eb95631c"
      },
      "execution_count": 19,
      "outputs": [
        {
          "output_type": "execute_result",
          "data": {
            "text/plain": [
              "(array([9226.48582088, 8794.35864452, 8798.04205463, 9081.18687849,\n",
              "        8711.53433917, 8760.89271814, 8749.52059102, 8656.97092235,\n",
              "        8500.64355816, 8469.2608989 ]),\n",
              " array([57107.12067189, 58788.20967893, 58102.19142623, 55715.54665129,\n",
              "        56573.5554719 , 52147.82118698, 49764.1320816 , 50032.69313676,\n",
              "        47885.62525472, 45604.61575361]))"
            ]
          },
          "metadata": {},
          "execution_count": 19
        }
      ]
    },
    {
      "cell_type": "code",
      "source": [
        "plt.figure(figsize=(10, 7))\n",
        "plot_time_series(timesteps=X_train, values=y_train, label=\"Train data\")\n",
        "plot_time_series(timesteps=X_test, values=y_test, label=\"Test data\")\n",
        "plot_time_series(timesteps=X_test[1:], values=naive_forecast, format=\"-\", label=\"Naive forecast\");"
      ],
      "metadata": {
        "id": "EhgJqgzmDOKT",
        "colab": {
          "base_uri": "https://localhost:8080/",
          "height": 619
        },
        "outputId": "52dbb125-2223-4bfd-f4b5-ff17ea7dcd43"
      },
      "execution_count": 20,
      "outputs": [
        {
          "output_type": "display_data",
          "data": {
            "text/plain": [
              "<Figure size 1000x700 with 1 Axes>"
            ],
            "image/png": "[encoded data removed]"
          },
          "metadata": {}
        }
      ]
    },
    {
      "cell_type": "markdown",
      "source": [
        "# Metrics for measuring error\n",
        "* mse\n",
        "* mae\n",
        "* rmse\n",
        "* mape/sMape\n",
        "* MASE"
      ],
      "metadata": {
        "id": "U97oBVyYHlrU"
      }
    },
    {
      "cell_type": "code",
      "source": [
        "# MASE implemented courtesy of sktime - https://github.com/alan-turing-institute/sktime/blob/ee7a06843a44f4aaec7582d847e36073a9ab0566/sktime/performance_metrics/forecasting/_functions.py#L16\n",
        "def mean_absolute_scaled_error(y_true, y_pred):\n",
        "  \"\"\"\n",
        "  Implement MASE (assuming no seasonality of data).\n",
        "  \"\"\"\n",
        "  mae = tf.reduce_mean(tf.abs(y_true - y_pred))\n",
        "\n",
        "  # Find MAE of naive forecast (no seasonality)\n",
        "  mae_naive_no_season = tf.reduce_mean(tf.abs(y_true[1:] - y_true[:-1])) # our seasonality is 1 day (hence the shifting of 1 day)\n",
        "\n",
        "  return mae / mae_naive_no_season"
      ],
      "metadata": {
        "id": "5oHqqpMSaeH9"
      },
      "execution_count": 21,
      "outputs": []
    },
    {
      "cell_type": "code",
      "source": [
        "def evaluate_preds(y_true, y_pred):\n",
        "  # Make sure float32 (for metric calculations)\n",
        "  y_true = tf.cast(y_true, dtype=tf.float32)\n",
        "  y_pred = tf.cast(y_pred, dtype=tf.float32)\n",
        "\n",
        "  # Calculate various metrics\n",
        "  mae = tf.keras.metrics.mean_absolute_error(y_true, y_pred)\n",
        "  mse = tf.keras.metrics.mean_squared_error(y_true, y_pred) # puts and emphasis on outliers (all errors get squared)\n",
        "  rmse = tf.sqrt(mse)\n",
        "  mape = tf.keras.metrics.mean_absolute_percentage_error(y_true, y_pred)\n",
        "  mase = mean_absolute_scaled_error(y_true, y_pred)\n",
        "\n",
        "  return {\"mae\": mae.numpy(),\n",
        "          \"mse\": mse.numpy(),\n",
        "          \"rmse\": rmse.numpy(),\n",
        "          \"mape\": mape.numpy(),\n",
        "          \"mase\": mase.numpy()}"
      ],
      "metadata": {
        "id": "bBz-JeMLaeAD"
      },
      "execution_count": 22,
      "outputs": []
    },
    {
      "cell_type": "code",
      "source": [
        "import tensorflow as tf\n",
        "naive_results = evaluate_preds(y_true=y_test[1:],\n",
        "                               y_pred=naive_forecast)\n",
        "naive_results"
      ],
      "metadata": {
        "id": "zumEeHqNad9L",
        "colab": {
          "base_uri": "https://localhost:8080/"
        },
        "outputId": "84b72248-6a5c-48d1-f834-9912f662695d"
      },
      "execution_count": 23,
      "outputs": [
        {
          "output_type": "execute_result",
          "data": {
            "text/plain": [
              "{'mae': 567.9802,\n",
              " 'mse': 1147547.0,\n",
              " 'rmse': 1071.2362,\n",
              " 'mape': 2.5165248,\n",
              " 'mase': 0.99957}"
            ]
          },
          "metadata": {},
          "execution_count": 23
        }
      ]
    },
    {
      "cell_type": "code",
      "source": [
        "# Find average price of Bitcoin in test dataset\n",
        "tf.reduce_mean(y_test).numpy()"
      ],
      "metadata": {
        "id": "7lXv5u3jad5-",
        "colab": {
          "base_uri": "https://localhost:8080/"
        },
        "outputId": "dfdf7d79-817c-47ed-cad7-187af3b71677"
      },
      "execution_count": 24,
      "outputs": [
        {
          "output_type": "execute_result",
          "data": {
            "text/plain": [
              "20056.632963737226"
            ]
          },
          "metadata": {},
          "execution_count": 24
        }
      ]
    },
    {
      "cell_type": "code",
      "source": [
        "# MASE implemented courtesy of sktime - https://github.com/alan-turing-institute/sktime/blob/ee7a06843a44f4aaec7582d847e36073a9ab0566/sktime/performance_metrics/forecasting/_functions.py#L16\n",
        "def mean_absolute_scaled_error(y_true, y_pred):\n",
        "  \"\"\"\n",
        "  Implement MASE (assuming no seasonality of data).\n",
        "  \"\"\"\n",
        "  mae = tf.reduce_mean(tf.abs(y_true - y_pred))\n",
        "\n",
        "  # Find MAE of naive forecast (no seasonality)\n",
        "  mae_naive_no_season = tf.reduce_mean(tf.abs(y_true[1:] - y_true[:-1])) # our seasonality is 1 day (hence the shifting of 1 day)\n",
        "\n",
        "  return mae / mae_naive_no_season"
      ],
      "metadata": {
        "id": "UnUnsjL6XqUJ"
      },
      "execution_count": 25,
      "outputs": []
    },
    {
      "cell_type": "code",
      "source": [
        "\n",
        "\n",
        "def evaluate_preds(y_true, y_pred):\n",
        "  # Make sure float32 (for metric calculations)\n",
        "  y_true = tf.cast(y_true, dtype=tf.float32)\n",
        "  y_pred = tf.cast(y_pred, dtype=tf.float32)\n",
        "\n",
        "  # Calculate various metrics\n",
        "  mae = tf.keras.metrics.mean_absolute_error(y_true, y_pred)\n",
        "  mse = tf.keras.metrics.mean_squared_error(y_true, y_pred) # puts and emphasis on outliers (all errors get squared)\n",
        "  rmse = tf.sqrt(mse)\n",
        "  mape = tf.keras.metrics.mean_absolute_percentage_error(y_true, y_pred)\n",
        "  mase = mean_absolute_scaled_error(y_true, y_pred)\n",
        "\n",
        "  return {\"mae\": mae.numpy(),\n",
        "          \"mse\": mse.numpy(),\n",
        "          \"rmse\": rmse.numpy(),\n",
        "          \"mape\": mape.numpy(),\n",
        "          \"mase\": mase.numpy()}\n",
        "\n"
      ],
      "metadata": {
        "id": "dyixgB_hXqRp"
      },
      "execution_count": 26,
      "outputs": []
    },
    {
      "cell_type": "code",
      "source": [
        "\n",
        "\n",
        "naive_results = evaluate_preds(y_true=y_test[1:],\n",
        "                               y_pred=naive_forecast)\n",
        "naive_results\n",
        "\n"
      ],
      "metadata": {
        "colab": {
          "base_uri": "https://localhost:8080/"
        },
        "id": "Me61JpHpXqO8",
        "outputId": "994d5187-63d3-462e-d6ed-ab275ba3db86"
      },
      "execution_count": 27,
      "outputs": [
        {
          "output_type": "execute_result",
          "data": {
            "text/plain": [
              "{'mae': 567.9802,\n",
              " 'mse': 1147547.0,\n",
              " 'rmse': 1071.2362,\n",
              " 'mape': 2.5165248,\n",
              " 'mase': 0.99957}"
            ]
          },
          "metadata": {},
          "execution_count": 27
        }
      ]
    },
    {
      "cell_type": "code",
      "source": [
        "#what do we want toi do with our bitcoin data\n",
        "print(f\"We want to use: {btc_price[:7]} to predict this: {btc_price[7]}\")"
      ],
      "metadata": {
        "id": "T4pW9SFfXqMi",
        "colab": {
          "base_uri": "https://localhost:8080/"
        },
        "outputId": "cf9d17bb-8d2a-48c6-dcf6-2f2ad01689c5"
      },
      "execution_count": 28,
      "outputs": [
        {
          "output_type": "stream",
          "name": "stdout",
          "text": [
            "We want to use: [123.65499 125.455   108.58483 118.67466 121.33866 120.65533 121.795  ] to predict this: 123.033\n"
          ]
        }
      ]
    },
    {
      "cell_type": "code",
      "source": [],
      "metadata": {
        "id": "TZOMNUrRXqJ9"
      },
      "execution_count": 28,
      "outputs": []
    },
    {
      "cell_type": "code",
      "source": [
        "0.#create function to label windowed dataa\n",
        "btc_price[:10]"
      ],
      "metadata": {
        "colab": {
          "base_uri": "https://localhost:8080/"
        },
        "id": "hWyoXUpYNNBV",
        "outputId": "4e47c860-e647-44d5-e46d-8edb4efe838d"
      },
      "execution_count": 29,
      "outputs": [
        {
          "output_type": "execute_result",
          "data": {
            "text/plain": [
              "array([123.65499, 125.455  , 108.58483, 118.67466, 121.33866, 120.65533,\n",
              "       121.795  , 123.033  , 124.049  , 125.96116])"
            ]
          },
          "metadata": {},
          "execution_count": 29
        }
      ]
    },
    {
      "cell_type": "code",
      "source": [
        "btc_price[:-7]"
      ],
      "metadata": {
        "colab": {
          "base_uri": "https://localhost:8080/"
        },
        "id": "5nSNPvDFHHqL",
        "outputId": "8b246b32-2689-443f-d245-8aee48104fcd"
      },
      "execution_count": 30,
      "outputs": [
        {
          "output_type": "execute_result",
          "data": {
            "text/plain": [
              "array([  123.65499   ,   125.455     ,   108.58483   , ...,\n",
              "       58788.20967893, 58102.19142623, 55715.54665129])"
            ]
          },
          "metadata": {},
          "execution_count": 30
        }
      ]
    },
    {
      "cell_type": "code",
      "source": [
        "#lets setup global variables for window and horizon size\n",
        "HORIZON=1\n",
        "WINDOW_SIZE=7\n",
        "\n",
        "def get_labelled_window(x, horizon=HORIZON):\n",
        "\n",
        "  \"\"\"\n",
        "  crteates labelled data\n",
        "  if horizon =1\n",
        "  input=[1,2,3,4,5,6]  output: ([1, 2, 3, 4, 5, 6],[7])\n",
        "  \"\"\"\n",
        "\n",
        "  return x[:,:-horizon], x[:,-horizon:]"
      ],
      "metadata": {
        "id": "bSJJ_c79NjKe"
      },
      "execution_count": 31,
      "outputs": []
    },
    {
      "cell_type": "code",
      "source": [
        "# print(f\"we want ot use: {btc_price[:,:-5]}\\n to predict: {btc_price[5]}\")"
      ],
      "metadata": {
        "id": "PfVkRXnMQGTK"
      },
      "execution_count": 32,
      "outputs": []
    },
    {
      "cell_type": "code",
      "source": [
        "test_window,test_label=get_labelled_window(tf.expand_dims(tf.range(8),axis=0))"
      ],
      "metadata": {
        "id": "bgI0Ras_Qran"
      },
      "execution_count": 33,
      "outputs": []
    },
    {
      "cell_type": "code",
      "source": [
        "print(f\" this is {test_window} to predict {test_label}\")"
      ],
      "metadata": {
        "id": "IPdRZyK1QHk5",
        "colab": {
          "base_uri": "https://localhost:8080/"
        },
        "outputId": "effa0c00-c457-4c81-ffff-2df876f58a4f"
      },
      "execution_count": 34,
      "outputs": [
        {
          "output_type": "stream",
          "name": "stdout",
          "text": [
            " this is [[0 1 2 3 4 5 6]] to predict [[7]]\n"
          ]
        }
      ]
    },
    {
      "cell_type": "code",
      "source": [
        "print(f\" this is {tf.squeeze(test_window)} to predict {tf.squeeze(test_label)}\")"
      ],
      "metadata": {
        "id": "DwwyPbTNqjGA",
        "colab": {
          "base_uri": "https://localhost:8080/"
        },
        "outputId": "3a1dd71b-1958-46ad-9f0c-bea534e4cafd"
      },
      "execution_count": 35,
      "outputs": [
        {
          "output_type": "stream",
          "name": "stdout",
          "text": [
            " this is [0 1 2 3 4 5 6] to predict 7\n"
          ]
        }
      ]
    },
    {
      "cell_type": "markdown",
      "source": [
        "Our Function will\n",
        "1. Create a window srep of specific window size eg ([1,2,3,4,5,6])\n",
        "2.\n",
        "Use numPy indexing to create a 2D array of multiple window steps, for example:\n",
        "```\n",
        "[\n",
        "[0,1,2,3,4,5,6],\n",
        "[1,2,3,4,5,6,7],\n",
        "[2,3,4,5,6,7,8],\n",
        "]\n",
        "```\n",
        "3. Uses the 2D array of multiple window step (from 2.) to index on a target series (e.g. the historical price of bitcoin)\n",
        "4. Uses out 1get labelled_windows()` finction we created above to turn the window steps into windows with specified horizon"
      ],
      "metadata": {
        "id": "31w7M0OZ7LCP"
      }
    },
    {
      "cell_type": "code",
      "source": [
        "# fast and robust sliding eindow optimization\n",
        "# https://towardsdatascience.com/fast-and-robust-sliding-window-vectorization-with-numpy-3ad950ed62f5"
      ],
      "metadata": {
        "id": "FFPoJQ4pMYcA"
      },
      "execution_count": 36,
      "outputs": []
    },
    {
      "cell_type": "code",
      "source": [
        "window_size=7\n",
        "horizon=1\n",
        "window_step = np.expand_dims(np.arange(window_size+horizon),axis=0)"
      ],
      "metadata": {
        "id": "5ZQ9aSnMHoLF"
      },
      "execution_count": 37,
      "outputs": []
    },
    {
      "cell_type": "code",
      "source": [
        "window_step"
      ],
      "metadata": {
        "colab": {
          "base_uri": "https://localhost:8080/"
        },
        "id": "0NjEpMZuH53x",
        "outputId": "27e51386-b62b-4472-ca87-1f40d2f7ef7e"
      },
      "execution_count": 38,
      "outputs": [
        {
          "output_type": "execute_result",
          "data": {
            "text/plain": [
              "array([[0, 1, 2, 3, 4, 5, 6, 7]])"
            ]
          },
          "metadata": {},
          "execution_count": 38
        }
      ]
    },
    {
      "cell_type": "code",
      "source": [],
      "metadata": {
        "id": "yuFCfZNpH-MB"
      },
      "execution_count": 38,
      "outputs": []
    },
    {
      "cell_type": "code",
      "source": [],
      "metadata": {
        "id": "4to28h3JtIgQ"
      },
      "execution_count": 38,
      "outputs": []
    },
    {
      "cell_type": "code",
      "source": [],
      "metadata": {
        "id": "IqnLVD2_tQiA"
      },
      "execution_count": 38,
      "outputs": []
    },
    {
      "cell_type": "code",
      "source": [
        "# create a function toview numpy arrays as windows\n",
        "def make_window(x,window_size=WINDOW_SIZE,horizon=HORIZON):\n",
        "  window_step = np.expand_dims(np.arange(window_size+horizon),axis=0)\n",
        "\n",
        "  window_indexes=window_step+np.expand_dims(np.arange(len(x)-(window_size+horizon-1)),axis=0).T\n",
        "\n",
        "  windowed_array=x[window_indexes]\n",
        "\n",
        "  windows,labels = get_labelled_window(x=windowed_array,horizon=horizon)\n",
        "  return windows,labels"
      ],
      "metadata": {
        "id": "EhOGiqEANJ1G"
      },
      "execution_count": 39,
      "outputs": []
    },
    {
      "cell_type": "code",
      "source": [
        "# window_step = np.expand_dims(np.arange(WINDOW_SIZE+HORIZON),axis=0)"
      ],
      "metadata": {
        "id": "jh_n43qOnrKT"
      },
      "execution_count": 40,
      "outputs": []
    },
    {
      "cell_type": "code",
      "source": [
        "# window_indexes=window_step + np.expand_dims(np.arange(len(btc_price)-7),axis=0)"
      ],
      "metadata": {
        "id": "hR0gfhy7nrGc"
      },
      "execution_count": 41,
      "outputs": []
    },
    {
      "cell_type": "code",
      "source": [
        "full_windows,full_labels = make_window(btc_price,WINDOW_SIZE,HORIZON)"
      ],
      "metadata": {
        "id": "nRadS7YnogAZ"
      },
      "execution_count": 42,
      "outputs": []
    },
    {
      "cell_type": "code",
      "source": [
        "def make_train_test_split(x,label,test_split=0.2):\n",
        "  \"\"\"\n",
        "  splitting time series data in a sequential manner (temporal data)\n",
        "  \"\"\"\n",
        "  split_size=int(len(x)*(1-test_split))\n",
        "  train_window = x[:split_size]\n",
        "  train_label = label[:split_size]\n",
        "  test_window = x[split_size:]\n",
        "  test_label = label[split_size:]\n",
        "  return train_window, train_label, test_window, test_label"
      ],
      "metadata": {
        "id": "NFigCRdWuH_-"
      },
      "execution_count": 43,
      "outputs": []
    },
    {
      "cell_type": "code",
      "source": [
        "train_window, train_label, test_window, test_label = make_train_test_split(full_windows,full_labels)"
      ],
      "metadata": {
        "id": "nAZCG4vzuH9g"
      },
      "execution_count": 44,
      "outputs": []
    },
    {
      "cell_type": "code",
      "source": [
        "len(train_window)"
      ],
      "metadata": {
        "id": "Zqvz36i9t80-",
        "colab": {
          "base_uri": "https://localhost:8080/"
        },
        "outputId": "bce54e02-1dfc-417f-d9c5-90edf1fa77a6"
      },
      "execution_count": 45,
      "outputs": [
        {
          "output_type": "execute_result",
          "data": {
            "text/plain": [
              "2224"
            ]
          },
          "metadata": {},
          "execution_count": 45
        }
      ]
    },
    {
      "cell_type": "code",
      "source": [
        "len(full_windows)"
      ],
      "metadata": {
        "colab": {
          "base_uri": "https://localhost:8080/"
        },
        "id": "gV8i_hUKUYvL",
        "outputId": "cb4981d0-5d13-4f75-dc87-e10f54c4d6ba"
      },
      "execution_count": 46,
      "outputs": [
        {
          "output_type": "execute_result",
          "data": {
            "text/plain": [
              "2780"
            ]
          },
          "metadata": {},
          "execution_count": 46
        }
      ]
    },
    {
      "cell_type": "code",
      "source": [
        "len(full_windows)*0.8"
      ],
      "metadata": {
        "colab": {
          "base_uri": "https://localhost:8080/"
        },
        "id": "eF2OuI7pUcRj",
        "outputId": "db3457d5-3cd4-4016-916f-6a5f677aa89b"
      },
      "execution_count": 47,
      "outputs": [
        {
          "output_type": "execute_result",
          "data": {
            "text/plain": [
              "2224.0"
            ]
          },
          "metadata": {},
          "execution_count": 47
        }
      ]
    },
    {
      "cell_type": "markdown",
      "source": [
        "## Make a modelling checkpoint\n",
        "\n",
        "Because our model's performance will fluctuate from experiment to\n",
        "experiment, we're going to write a model checkpoint so we\n",
        "can comapre apples to apples\n",
        "\n",
        "More specifically, we want to comapre each of our model's best\n",
        "performance against the other model's best performance"
      ],
      "metadata": {
        "id": "_kIeZ0niXtMf"
      }
    },
    {
      "cell_type": "code",
      "source": [
        "import os\n",
        "def create_model_checkpoint(model_name, save_path=\"model_experiments\"):\n",
        "  return tf.keras.callbacks.ModelCheckpoint(filepath=os.path.join(save_path, model_name), # create filepath to save model\n",
        "                                            verbose=0, # only output a limited amount of text\n",
        "                                            monitor=\"val_loss\",\n",
        "                                            save_best_only=True)\n"
      ],
      "metadata": {
        "id": "TkiX7QGEUhH8"
      },
      "execution_count": 48,
      "outputs": []
    },
    {
      "cell_type": "code",
      "source": [
        "import tensorflow as tf\n",
        "from tensorflow.keras import layers\n",
        "\n",
        "tf.random.set_seed(42)\n",
        " # construct mnodel\n",
        "model_1= tf.keras.Sequential([\n",
        "     layers.Dense(128,activation=\"relu\"),\n",
        "     layers.Dense(HORIZON,activation='linear')\n",
        "\n",
        " ],name= \"model_1_dense\")\n",
        "\n",
        " #compile\n",
        "model_1.compile(loss=\"mae\",\n",
        "                optimizer=tf.keras.optimizers.Adam(),\n",
        "                metrics=[\"mae\",\"mse\"])\n",
        "\n",
        "model_1_history=model_1.fit(x=train_window,\n",
        "             y=train_label,\n",
        "             epochs=100,\n",
        "             verbose=1,\n",
        "             batch_size=32,\n",
        "             validation_data=(test_window,test_label),\n",
        "             callbacks=([create_model_checkpoint(model_name=model_1.name)])\n",
        "\n",
        " )"
      ],
      "metadata": {
        "colab": {
          "base_uri": "https://localhost:8080/"
        },
        "id": "L_TUJmWyafGI",
        "outputId": "5e02a549-1c36-4d80-bf75-fc210e9ff186"
      },
      "execution_count": 49,
      "outputs": [
        {
          "output_type": "stream",
          "name": "stdout",
          "text": [
            "Epoch 1/100\n",
            "70/70 [==============================] - 2s 14ms/step - loss: 301.3731 - mae: 301.3731 - mse: 430454.4062 - val_loss: 1103.2384 - val_mae: 1103.2384 - val_mse: 4058334.5000\n",
            "Epoch 2/100\n",
            "70/70 [==============================] - 1s 8ms/step - loss: 192.3599 - mae: 192.3599 - mse: 193226.5312 - val_loss: 982.6038 - val_mae: 982.6038 - val_mse: 3224880.0000\n",
            "Epoch 3/100\n",
            "70/70 [==============================] - 1s 9ms/step - loss: 174.0202 - mae: 174.0202 - mse: 163294.6406 - val_loss: 906.0187 - val_mae: 906.0187 - val_mse: 2617182.0000\n",
            "Epoch 4/100\n",
            "70/70 [==============================] - 1s 9ms/step - loss: 159.8580 - mae: 159.8580 - mse: 129582.7734 - val_loss: 800.2181 - val_mae: 800.2181 - val_mse: 2178748.0000\n",
            "Epoch 5/100\n",
            "70/70 [==============================] - 0s 3ms/step - loss: 143.2448 - mae: 143.2448 - mse: 112543.1484 - val_loss: 919.0998 - val_mae: 919.0998 - val_mse: 2340256.7500\n",
            "Epoch 6/100\n",
            "70/70 [==============================] - 1s 11ms/step - loss: 135.0390 - mae: 135.0390 - mse: 100548.3906 - val_loss: 703.6676 - val_mae: 703.6676 - val_mse: 1620525.8750\n",
            "Epoch 7/100\n",
            "70/70 [==============================] - 1s 13ms/step - loss: 128.9826 - mae: 128.9826 - mse: 94345.9297 - val_loss: 685.4685 - val_mae: 685.4685 - val_mse: 1605090.3750\n",
            "Epoch 8/100\n",
            "70/70 [==============================] - 0s 4ms/step - loss: 130.9068 - mae: 130.9068 - mse: 94768.8359 - val_loss: 699.7645 - val_mae: 699.7645 - val_mse: 1638746.2500\n",
            "Epoch 9/100\n",
            "70/70 [==============================] - 0s 4ms/step - loss: 121.4278 - mae: 121.4278 - mse: 83292.2500 - val_loss: 869.1119 - val_mae: 869.1119 - val_mse: 2034726.0000\n",
            "Epoch 10/100\n",
            "70/70 [==============================] - 1s 11ms/step - loss: 135.3835 - mae: 135.3835 - mse: 96122.3828 - val_loss: 626.5652 - val_mae: 626.5652 - val_mse: 1368570.6250\n",
            "Epoch 11/100\n",
            "70/70 [==============================] - 0s 2ms/step - loss: 117.5808 - mae: 117.5808 - mse: 84914.4844 - val_loss: 650.3640 - val_mae: 650.3640 - val_mse: 1389611.0000\n",
            "Epoch 12/100\n",
            "70/70 [==============================] - 0s 3ms/step - loss: 119.4942 - mae: 119.4942 - mse: 83027.6797 - val_loss: 650.5688 - val_mae: 650.5688 - val_mse: 1381228.5000\n",
            "Epoch 13/100\n",
            "70/70 [==============================] - 1s 10ms/step - loss: 118.3044 - mae: 118.3044 - mse: 80573.4219 - val_loss: 618.7610 - val_mae: 618.7610 - val_mse: 1306831.2500\n",
            "Epoch 14/100\n",
            "70/70 [==============================] - 0s 4ms/step - loss: 125.2903 - mae: 125.2903 - mse: 86521.8984 - val_loss: 1157.7274 - val_mae: 1157.7274 - val_mse: 3118659.0000\n",
            "Epoch 15/100\n",
            "70/70 [==============================] - 0s 4ms/step - loss: 136.1591 - mae: 136.1591 - mse: 93898.5000 - val_loss: 804.7564 - val_mae: 804.7564 - val_mse: 1781964.7500\n",
            "Epoch 16/100\n",
            "70/70 [==============================] - 2s 22ms/step - loss: 117.3989 - mae: 117.3989 - mse: 77329.0547 - val_loss: 609.0500 - val_mae: 609.0500 - val_mse: 1303399.2500\n",
            "Epoch 17/100\n",
            "70/70 [==============================] - 2s 23ms/step - loss: 113.6878 - mae: 113.6878 - mse: 76431.0625 - val_loss: 593.9955 - val_mae: 593.9955 - val_mse: 1252503.1250\n",
            "Epoch 18/100\n",
            "70/70 [==============================] - 0s 5ms/step - loss: 121.9257 - mae: 121.9257 - mse: 79849.7656 - val_loss: 709.7277 - val_mae: 709.7277 - val_mse: 1583246.7500\n",
            "Epoch 19/100\n",
            "70/70 [==============================] - 0s 5ms/step - loss: 134.4073 - mae: 134.4073 - mse: 93506.0312 - val_loss: 597.7630 - val_mae: 597.7630 - val_mse: 1247692.6250\n",
            "Epoch 20/100\n",
            "70/70 [==============================] - 0s 6ms/step - loss: 111.1056 - mae: 111.1056 - mse: 75151.7109 - val_loss: 712.7462 - val_mae: 712.7462 - val_mse: 1503223.0000\n",
            "Epoch 21/100\n",
            "70/70 [==============================] - 1s 15ms/step - loss: 118.3052 - mae: 118.3052 - mse: 73597.3125 - val_loss: 591.1674 - val_mae: 591.1674 - val_mse: 1246304.8750\n",
            "Epoch 22/100\n",
            "70/70 [==============================] - 1s 15ms/step - loss: 112.6102 - mae: 112.6102 - mse: 74676.3828 - val_loss: 586.0724 - val_mae: 586.0724 - val_mse: 1218436.8750\n",
            "Epoch 23/100\n",
            "70/70 [==============================] - 0s 5ms/step - loss: 127.1543 - mae: 127.1543 - mse: 83997.6719 - val_loss: 634.2182 - val_mae: 634.2182 - val_mse: 1308955.0000\n",
            "Epoch 24/100\n",
            "70/70 [==============================] - 0s 6ms/step - loss: 113.1533 - mae: 113.1533 - mse: 75088.3047 - val_loss: 612.6057 - val_mae: 612.6057 - val_mse: 1291050.3750\n",
            "Epoch 25/100\n",
            "70/70 [==============================] - 1s 21ms/step - loss: 112.7637 - mae: 112.7637 - mse: 71612.6484 - val_loss: 581.4860 - val_mae: 581.4860 - val_mse: 1204940.3750\n",
            "Epoch 26/100\n",
            "70/70 [==============================] - 1s 10ms/step - loss: 114.0181 - mae: 114.0181 - mse: 77299.7266 - val_loss: 583.7619 - val_mae: 583.7619 - val_mse: 1216812.2500\n",
            "Epoch 27/100\n",
            "70/70 [==============================] - 1s 10ms/step - loss: 115.1572 - mae: 115.1572 - mse: 74029.7969 - val_loss: 915.5634 - val_mae: 915.5634 - val_mse: 2272803.0000\n",
            "Epoch 28/100\n",
            "70/70 [==============================] - 2s 25ms/step - loss: 117.0680 - mae: 117.0680 - mse: 76324.8047 - val_loss: 577.4904 - val_mae: 577.4904 - val_mse: 1194643.3750\n",
            "Epoch 29/100\n",
            "70/70 [==============================] - 0s 5ms/step - loss: 111.9545 - mae: 111.9545 - mse: 73246.5000 - val_loss: 667.7286 - val_mae: 667.7286 - val_mse: 1381720.1250\n",
            "Epoch 30/100\n",
            "70/70 [==============================] - 0s 6ms/step - loss: 110.6532 - mae: 110.6532 - mse: 71728.3359 - val_loss: 599.2789 - val_mae: 599.2789 - val_mse: 1228586.5000\n",
            "Epoch 31/100\n",
            "70/70 [==============================] - 1s 9ms/step - loss: 109.9539 - mae: 109.9539 - mse: 70795.4688 - val_loss: 626.4013 - val_mae: 626.4013 - val_mse: 1283654.5000\n",
            "Epoch 32/100\n",
            "70/70 [==============================] - 0s 6ms/step - loss: 111.8311 - mae: 111.8311 - mse: 73200.4375 - val_loss: 608.1268 - val_mae: 608.1268 - val_mse: 1245067.6250\n",
            "Epoch 33/100\n",
            "70/70 [==============================] - 0s 5ms/step - loss: 119.8659 - mae: 119.8659 - mse: 78424.5469 - val_loss: 613.1198 - val_mae: 613.1198 - val_mse: 1254439.7500\n",
            "Epoch 34/100\n",
            "70/70 [==============================] - 0s 4ms/step - loss: 121.9432 - mae: 121.9432 - mse: 85246.9375 - val_loss: 583.8626 - val_mae: 583.8626 - val_mse: 1195868.3750\n",
            "Epoch 35/100\n",
            "70/70 [==============================] - 1s 21ms/step - loss: 110.6391 - mae: 110.6391 - mse: 73058.4141 - val_loss: 576.5367 - val_mae: 576.5367 - val_mse: 1192835.8750\n",
            "Epoch 36/100\n",
            "70/70 [==============================] - 0s 5ms/step - loss: 111.1713 - mae: 111.1713 - mse: 71529.1953 - val_loss: 811.7718 - val_mae: 811.7718 - val_mse: 1783133.7500\n",
            "Epoch 37/100\n",
            "70/70 [==============================] - 0s 6ms/step - loss: 118.6466 - mae: 118.6466 - mse: 75789.1406 - val_loss: 610.6010 - val_mae: 610.6010 - val_mse: 1249978.8750\n",
            "Epoch 38/100\n",
            "70/70 [==============================] - 0s 6ms/step - loss: 120.9958 - mae: 120.9958 - mse: 76641.3984 - val_loss: 709.7767 - val_mae: 709.7767 - val_mse: 1475970.6250\n",
            "Epoch 39/100\n",
            "70/70 [==============================] - 0s 6ms/step - loss: 113.8936 - mae: 113.8936 - mse: 73685.1719 - val_loss: 580.9902 - val_mae: 580.9902 - val_mse: 1204590.2500\n",
            "Epoch 40/100\n",
            "70/70 [==============================] - 0s 6ms/step - loss: 113.2682 - mae: 113.2682 - mse: 74689.1016 - val_loss: 651.9993 - val_mae: 651.9993 - val_mse: 1366862.7500\n",
            "Epoch 41/100\n",
            "70/70 [==============================] - 0s 7ms/step - loss: 109.3738 - mae: 109.3738 - mse: 71774.9141 - val_loss: 804.2076 - val_mae: 804.2076 - val_mse: 1828650.2500\n",
            "Epoch 42/100\n",
            "70/70 [==============================] - 0s 6ms/step - loss: 112.4294 - mae: 112.4294 - mse: 75292.1406 - val_loss: 631.7307 - val_mae: 631.7307 - val_mse: 1321547.6250\n",
            "Epoch 43/100\n",
            "70/70 [==============================] - 0s 5ms/step - loss: 111.6599 - mae: 111.6599 - mse: 73251.2734 - val_loss: 578.7805 - val_mae: 578.7805 - val_mse: 1195736.3750\n",
            "Epoch 44/100\n",
            "70/70 [==============================] - 0s 4ms/step - loss: 110.2257 - mae: 110.2257 - mse: 72062.9453 - val_loss: 616.2485 - val_mae: 616.2485 - val_mse: 1253941.2500\n",
            "Epoch 45/100\n",
            "70/70 [==============================] - 0s 5ms/step - loss: 112.0732 - mae: 112.0732 - mse: 73493.0938 - val_loss: 578.6661 - val_mae: 578.6661 - val_mse: 1188601.2500\n",
            "Epoch 46/100\n",
            "70/70 [==============================] - 1s 16ms/step - loss: 126.4894 - mae: 126.4894 - mse: 87526.5156 - val_loss: 573.3315 - val_mae: 573.3315 - val_mse: 1179642.8750\n",
            "Epoch 47/100\n",
            "70/70 [==============================] - 1s 13ms/step - loss: 112.7664 - mae: 112.7664 - mse: 73187.8984 - val_loss: 734.4956 - val_mae: 734.4956 - val_mse: 1547502.6250\n",
            "Epoch 48/100\n",
            "70/70 [==============================] - 1s 9ms/step - loss: 133.7587 - mae: 133.7587 - mse: 89257.4297 - val_loss: 789.4579 - val_mae: 789.4579 - val_mse: 1711885.7500\n",
            "Epoch 49/100\n",
            "70/70 [==============================] - 1s 12ms/step - loss: 117.3739 - mae: 117.3739 - mse: 80596.7734 - val_loss: 618.4158 - val_mae: 618.4158 - val_mse: 1292193.7500\n",
            "Epoch 50/100\n",
            "70/70 [==============================] - 1s 10ms/step - loss: 114.8026 - mae: 114.8026 - mse: 75817.4922 - val_loss: 584.7930 - val_mae: 584.7930 - val_mse: 1193487.0000\n",
            "Epoch 51/100\n",
            "70/70 [==============================] - 0s 5ms/step - loss: 114.3493 - mae: 114.3493 - mse: 74856.8203 - val_loss: 651.4697 - val_mae: 651.4697 - val_mse: 1372103.3750\n",
            "Epoch 52/100\n",
            "70/70 [==============================] - 0s 5ms/step - loss: 118.4123 - mae: 118.4123 - mse: 74999.2812 - val_loss: 667.1467 - val_mae: 667.1467 - val_mse: 1367181.0000\n",
            "Epoch 53/100\n",
            "70/70 [==============================] - 0s 6ms/step - loss: 112.6804 - mae: 112.6804 - mse: 71624.6406 - val_loss: 610.4468 - val_mae: 610.4468 - val_mse: 1263710.3750\n",
            "Epoch 54/100\n",
            "70/70 [==============================] - 1s 15ms/step - loss: 110.6105 - mae: 110.6105 - mse: 70841.1016 - val_loss: 572.0578 - val_mae: 572.0578 - val_mse: 1167112.8750\n",
            "Epoch 55/100\n",
            "70/70 [==============================] - 0s 3ms/step - loss: 110.5592 - mae: 110.5592 - mse: 73002.2891 - val_loss: 593.8132 - val_mae: 593.8132 - val_mse: 1226509.3750\n",
            "Epoch 56/100\n",
            "70/70 [==============================] - 0s 2ms/step - loss: 105.9578 - mae: 105.9578 - mse: 69378.6016 - val_loss: 620.0181 - val_mae: 620.0181 - val_mse: 1290658.1250\n",
            "Epoch 57/100\n",
            "70/70 [==============================] - 0s 2ms/step - loss: 107.4435 - mae: 107.4435 - mse: 69589.0938 - val_loss: 604.0264 - val_mae: 604.0264 - val_mse: 1253015.7500\n",
            "Epoch 58/100\n",
            "70/70 [==============================] - 0s 3ms/step - loss: 110.0832 - mae: 110.0832 - mse: 70589.5000 - val_loss: 599.8445 - val_mae: 599.8445 - val_mse: 1217204.7500\n",
            "Epoch 59/100\n",
            "70/70 [==============================] - 0s 3ms/step - loss: 113.8145 - mae: 113.8145 - mse: 72194.8438 - val_loss: 584.4990 - val_mae: 584.4990 - val_mse: 1189253.0000\n",
            "Epoch 60/100\n",
            "70/70 [==============================] - 0s 2ms/step - loss: 109.4294 - mae: 109.4294 - mse: 69996.0000 - val_loss: 597.8513 - val_mae: 597.8513 - val_mse: 1237012.2500\n",
            "Epoch 61/100\n",
            "70/70 [==============================] - 0s 2ms/step - loss: 110.4655 - mae: 110.4655 - mse: 72416.5156 - val_loss: 660.6731 - val_mae: 660.6731 - val_mse: 1381534.1250\n",
            "Epoch 62/100\n",
            "70/70 [==============================] - 1s 8ms/step - loss: 113.1456 - mae: 113.1456 - mse: 72943.9766 - val_loss: 568.4077 - val_mae: 568.4077 - val_mse: 1162953.6250\n",
            "Epoch 63/100\n",
            "70/70 [==============================] - 0s 2ms/step - loss: 109.2325 - mae: 109.2325 - mse: 72289.0547 - val_loss: 569.9698 - val_mae: 569.9698 - val_mse: 1165837.8750\n",
            "Epoch 64/100\n",
            "70/70 [==============================] - 0s 3ms/step - loss: 115.4678 - mae: 115.4678 - mse: 72355.1719 - val_loss: 737.9050 - val_mae: 737.9050 - val_mse: 1567787.8750\n",
            "Epoch 65/100\n",
            "70/70 [==============================] - 0s 3ms/step - loss: 112.4909 - mae: 112.4909 - mse: 72092.7578 - val_loss: 619.0027 - val_mae: 619.0027 - val_mse: 1262272.2500\n",
            "Epoch 66/100\n",
            "70/70 [==============================] - 0s 3ms/step - loss: 107.1973 - mae: 107.1973 - mse: 69981.4141 - val_loss: 572.5112 - val_mae: 572.5112 - val_mse: 1164903.2500\n",
            "Epoch 67/100\n",
            "70/70 [==============================] - 0s 2ms/step - loss: 112.7356 - mae: 112.7356 - mse: 73730.4219 - val_loss: 583.6597 - val_mae: 583.6597 - val_mse: 1204063.1250\n",
            "Epoch 68/100\n",
            "70/70 [==============================] - 0s 2ms/step - loss: 111.3884 - mae: 111.3884 - mse: 71194.7891 - val_loss: 584.1765 - val_mae: 584.1765 - val_mse: 1186226.5000\n",
            "Epoch 69/100\n",
            "70/70 [==============================] - 0s 3ms/step - loss: 122.8095 - mae: 122.8095 - mse: 80192.3047 - val_loss: 858.3147 - val_mae: 858.3147 - val_mse: 1927210.8750\n",
            "Epoch 70/100\n",
            "70/70 [==============================] - 0s 3ms/step - loss: 114.1449 - mae: 114.1449 - mse: 74631.0469 - val_loss: 847.1361 - val_mae: 847.1361 - val_mse: 1903576.1250\n",
            "Epoch 71/100\n",
            "70/70 [==============================] - 0s 3ms/step - loss: 117.7288 - mae: 117.7288 - mse: 76839.3984 - val_loss: 693.2589 - val_mae: 693.2589 - val_mse: 1432435.1250\n",
            "Epoch 72/100\n",
            "70/70 [==============================] - 0s 3ms/step - loss: 111.9850 - mae: 111.9850 - mse: 71299.1641 - val_loss: 571.8586 - val_mae: 571.8586 - val_mse: 1172311.5000\n",
            "Epoch 73/100\n",
            "70/70 [==============================] - 0s 2ms/step - loss: 109.4793 - mae: 109.4793 - mse: 70898.8203 - val_loss: 745.2772 - val_mae: 745.2772 - val_mse: 1584619.8750\n",
            "Epoch 74/100\n",
            "70/70 [==============================] - 0s 2ms/step - loss: 121.1495 - mae: 121.1495 - mse: 75764.2344 - val_loss: 616.6348 - val_mae: 616.6348 - val_mse: 1252378.2500\n",
            "Epoch 75/100\n",
            "70/70 [==============================] - 0s 3ms/step - loss: 112.5404 - mae: 112.5404 - mse: 72077.0234 - val_loss: 821.7674 - val_mae: 821.7674 - val_mse: 1813189.5000\n",
            "Epoch 76/100\n",
            "70/70 [==============================] - 0s 3ms/step - loss: 116.1565 - mae: 116.1565 - mse: 73491.3281 - val_loss: 590.2553 - val_mae: 590.2553 - val_mse: 1208549.1250\n",
            "Epoch 77/100\n",
            "70/70 [==============================] - 0s 2ms/step - loss: 116.6648 - mae: 116.6648 - mse: 77291.6641 - val_loss: 648.4926 - val_mae: 648.4926 - val_mse: 1355674.5000\n",
            "Epoch 78/100\n",
            "70/70 [==============================] - 0s 3ms/step - loss: 110.8739 - mae: 110.8739 - mse: 73979.7656 - val_loss: 597.3804 - val_mae: 597.3804 - val_mse: 1235054.3750\n",
            "Epoch 79/100\n",
            "70/70 [==============================] - 0s 3ms/step - loss: 124.4665 - mae: 124.4665 - mse: 78793.3984 - val_loss: 576.2867 - val_mae: 576.2867 - val_mse: 1191735.0000\n",
            "Epoch 80/100\n",
            "70/70 [==============================] - 0s 2ms/step - loss: 116.5383 - mae: 116.5383 - mse: 73014.3281 - val_loss: 604.7111 - val_mae: 604.7111 - val_mse: 1239593.6250\n",
            "Epoch 81/100\n",
            "70/70 [==============================] - 0s 2ms/step - loss: 112.0178 - mae: 112.0178 - mse: 72137.0781 - val_loss: 581.8008 - val_mae: 581.8008 - val_mse: 1182435.1250\n",
            "Epoch 82/100\n",
            "70/70 [==============================] - 1s 9ms/step - loss: 108.4557 - mae: 108.4557 - mse: 69596.6094 - val_loss: 567.3423 - val_mae: 567.3423 - val_mse: 1157550.1250\n",
            "Epoch 83/100\n",
            "70/70 [==============================] - 0s 2ms/step - loss: 112.0486 - mae: 112.0486 - mse: 70585.1797 - val_loss: 591.7153 - val_mae: 591.7153 - val_mse: 1223890.0000\n",
            "Epoch 84/100\n",
            "70/70 [==============================] - 0s 3ms/step - loss: 109.9618 - mae: 109.9618 - mse: 68335.1875 - val_loss: 605.2925 - val_mae: 605.2925 - val_mse: 1227185.3750\n",
            "Epoch 85/100\n",
            "70/70 [==============================] - 0s 3ms/step - loss: 109.6046 - mae: 109.6046 - mse: 70718.6875 - val_loss: 585.3683 - val_mae: 585.3683 - val_mse: 1183509.0000\n",
            "Epoch 86/100\n",
            "70/70 [==============================] - 0s 2ms/step - loss: 127.8095 - mae: 127.8095 - mse: 83469.3672 - val_loss: 680.6297 - val_mae: 680.6297 - val_mse: 1402139.2500\n",
            "Epoch 87/100\n",
            "70/70 [==============================] - 0s 3ms/step - loss: 107.7010 - mae: 107.7010 - mse: 67724.9453 - val_loss: 594.0684 - val_mae: 594.0684 - val_mse: 1229364.3750\n",
            "Epoch 88/100\n",
            "70/70 [==============================] - 0s 2ms/step - loss: 116.3216 - mae: 116.3216 - mse: 75882.0938 - val_loss: 575.2828 - val_mae: 575.2828 - val_mse: 1182770.7500\n",
            "Epoch 89/100\n",
            "70/70 [==============================] - 0s 2ms/step - loss: 112.3205 - mae: 112.3205 - mse: 71903.5625 - val_loss: 1044.9855 - val_mae: 1044.9855 - val_mse: 2634534.5000\n",
            "Epoch 90/100\n",
            "70/70 [==============================] - 0s 3ms/step - loss: 117.1878 - mae: 117.1878 - mse: 73766.4219 - val_loss: 600.1448 - val_mae: 600.1448 - val_mse: 1217396.8750\n",
            "Epoch 91/100\n",
            "70/70 [==============================] - 0s 4ms/step - loss: 110.8215 - mae: 110.8215 - mse: 71515.3203 - val_loss: 569.5391 - val_mae: 569.5391 - val_mse: 1170360.7500\n",
            "Epoch 92/100\n",
            "70/70 [==============================] - 0s 4ms/step - loss: 107.4234 - mae: 107.4234 - mse: 70062.3438 - val_loss: 568.1819 - val_mae: 568.1819 - val_mse: 1160412.5000\n",
            "Epoch 93/100\n",
            "70/70 [==============================] - 0s 4ms/step - loss: 105.9798 - mae: 105.9798 - mse: 68318.0625 - val_loss: 606.1606 - val_mae: 606.1606 - val_mse: 1256494.1250\n",
            "Epoch 94/100\n",
            "70/70 [==============================] - 0s 4ms/step - loss: 109.4831 - mae: 109.4831 - mse: 70170.8672 - val_loss: 636.3992 - val_mae: 636.3992 - val_mse: 1327166.1250\n",
            "Epoch 95/100\n",
            "70/70 [==============================] - 0s 4ms/step - loss: 115.3648 - mae: 115.3648 - mse: 72407.1016 - val_loss: 646.7986 - val_mae: 646.7986 - val_mse: 1350707.3750\n",
            "Epoch 96/100\n",
            "70/70 [==============================] - 0s 4ms/step - loss: 112.6824 - mae: 112.6824 - mse: 74205.1328 - val_loss: 579.8693 - val_mae: 579.8693 - val_mse: 1197535.7500\n",
            "Epoch 97/100\n",
            "70/70 [==============================] - 0s 4ms/step - loss: 109.5180 - mae: 109.5180 - mse: 70096.8594 - val_loss: 585.5104 - val_mae: 585.5104 - val_mse: 1208997.7500\n",
            "Epoch 98/100\n",
            "70/70 [==============================] - 0s 4ms/step - loss: 111.8493 - mae: 111.8493 - mse: 71441.4766 - val_loss: 573.7419 - val_mae: 573.7419 - val_mse: 1165733.2500\n",
            "Epoch 99/100\n",
            "70/70 [==============================] - 0s 3ms/step - loss: 109.6244 - mae: 109.6244 - mse: 69365.0391 - val_loss: 625.3987 - val_mae: 625.3987 - val_mse: 1299318.0000\n",
            "Epoch 100/100\n",
            "70/70 [==============================] - 1s 8ms/step - loss: 117.0116 - mae: 117.0116 - mse: 78844.4453 - val_loss: 566.3702 - val_mae: 566.3702 - val_mse: 1155082.1250\n"
          ]
        }
      ]
    },
    {
      "cell_type": "code",
      "source": [
        "model_1.evaluate(test_window,test_label)"
      ],
      "metadata": {
        "colab": {
          "base_uri": "https://localhost:8080/"
        },
        "id": "kDhFi8DVr_q0",
        "outputId": "841e08fa-4620-4d50-a5f4-49723e6174de"
      },
      "execution_count": 50,
      "outputs": [
        {
          "output_type": "stream",
          "name": "stdout",
          "text": [
            "18/18 [==============================] - 0s 2ms/step - loss: 566.3702 - mae: 566.3702 - mse: 1155082.1250\n"
          ]
        },
        {
          "output_type": "execute_result",
          "data": {
            "text/plain": [
              "[566.3702392578125, 566.3702392578125, 1155082.125]"
            ]
          },
          "metadata": {},
          "execution_count": 50
        }
      ]
    },
    {
      "cell_type": "code",
      "source": [
        "model_1_load=tf.keras.models.load_model(\"/content/model_experiments/model_1_dense/\")"
      ],
      "metadata": {
        "id": "42I7Ez1Itddy"
      },
      "execution_count": 51,
      "outputs": []
    },
    {
      "cell_type": "code",
      "source": [
        "model_1_load.evaluate(test_window,test_label)"
      ],
      "metadata": {
        "colab": {
          "base_uri": "https://localhost:8080/"
        },
        "id": "iHR7La0Zufkw",
        "outputId": "4f8b62f0-0961-485a-860c-daaa8cc7951b"
      },
      "execution_count": 52,
      "outputs": [
        {
          "output_type": "stream",
          "name": "stdout",
          "text": [
            "18/18 [==============================] - 0s 2ms/step - loss: 566.3702 - mae: 566.3702 - mse: 1155082.1250\n"
          ]
        },
        {
          "output_type": "execute_result",
          "data": {
            "text/plain": [
              "[566.3702392578125, 566.3702392578125, 1155082.125]"
            ]
          },
          "metadata": {},
          "execution_count": 52
        }
      ]
    },
    {
      "cell_type": "code",
      "source": [
        "window_size=30\n",
        "horizon=1\n",
        "full_window,full_label=make_window(btc_price,window_size=window_size,horizon=horizon)\n",
        "train_window, train_label, test_window, test_label = make_train_test_split(full_window,full_label)"
      ],
      "metadata": {
        "id": "iIHfHjyTuijZ"
      },
      "execution_count": 53,
      "outputs": []
    },
    {
      "cell_type": "code",
      "source": [
        "import tensorflow as tf\n",
        "from tensorflow.keras import layers\n",
        "\n",
        "tf.random.set_seed(42)\n",
        " # construct mnodel\n",
        "model_2= tf.keras.Sequential([\n",
        "     layers.Dense(128,activation=\"relu\"),\n",
        "     layers.Dense(HORIZON,activation='linear')\n",
        "\n",
        " ],name= \"model_2_dense\")\n",
        "\n",
        " #compile\n",
        "model_2.compile(loss=\"mae\",\n",
        "                optimizer=tf.keras.optimizers.Adam(),\n",
        "                metrics=[\"mae\",\"mse\"])\n",
        "\n",
        "model_2_history=model_2.fit(x=train_window,\n",
        "             y=train_label,\n",
        "             epochs=100,\n",
        "             verbose=1,\n",
        "             batch_size=32,\n",
        "             validation_data=(test_window,test_label),\n",
        "             callbacks=([create_model_checkpoint(model_name=model_2.name)])\n",
        "\n",
        " )"
      ],
      "metadata": {
        "colab": {
          "base_uri": "https://localhost:8080/"
        },
        "id": "ccyI4ytedj5C",
        "outputId": "166d44f5-892a-4713-95c6-ba9c20856f7c"
      },
      "execution_count": 55,
      "outputs": [
        {
          "output_type": "stream",
          "name": "stdout",
          "text": [
            "Epoch 1/100\n",
            "69/69 [==============================] - 3s 27ms/step - loss: 621.7031 - mae: 621.7031 - mse: 1859356.3750 - val_loss: 1371.0258 - val_mae: 1371.0258 - val_mse: 6405864.0000\n",
            "Epoch 2/100\n",
            "69/69 [==============================] - 0s 7ms/step - loss: 234.6501 - mae: 234.6501 - mse: 291380.5312 - val_loss: 1557.0165 - val_mae: 1557.0165 - val_mse: 6418987.0000\n",
            "Epoch 3/100\n",
            "69/69 [==============================] - 1s 21ms/step - loss: 241.4973 - mae: 241.4973 - mse: 264378.8438 - val_loss: 1133.9703 - val_mae: 1133.9703 - val_mse: 4599305.0000\n",
            "Epoch 4/100\n",
            "69/69 [==============================] - 1s 21ms/step - loss: 211.6836 - mae: 211.6836 - mse: 216661.2969 - val_loss: 1027.6003 - val_mae: 1027.6003 - val_mse: 3631581.7500\n",
            "Epoch 5/100\n",
            "69/69 [==============================] - 1s 13ms/step - loss: 192.2530 - mae: 192.2530 - mse: 182633.8594 - val_loss: 969.2622 - val_mae: 969.2622 - val_mse: 3302392.2500\n",
            "Epoch 6/100\n",
            "69/69 [==============================] - 0s 3ms/step - loss: 214.9595 - mae: 214.9595 - mse: 204045.5938 - val_loss: 1084.6562 - val_mae: 1084.6562 - val_mse: 3417311.2500\n",
            "Epoch 7/100\n",
            "69/69 [==============================] - 0s 4ms/step - loss: 196.5758 - mae: 196.5758 - mse: 183372.6250 - val_loss: 1062.0332 - val_mae: 1062.0332 - val_mse: 3722734.7500\n",
            "Epoch 8/100\n",
            "69/69 [==============================] - 0s 4ms/step - loss: 169.0443 - mae: 169.0443 - mse: 141885.2656 - val_loss: 996.0815 - val_mae: 996.0815 - val_mse: 3339304.5000\n",
            "Epoch 9/100\n",
            "69/69 [==============================] - 0s 4ms/step - loss: 222.2541 - mae: 222.2541 - mse: 203231.7188 - val_loss: 1060.4767 - val_mae: 1060.4767 - val_mse: 3083123.7500\n",
            "Epoch 10/100\n",
            "69/69 [==============================] - 1s 10ms/step - loss: 164.2798 - mae: 164.2798 - mse: 132627.7656 - val_loss: 829.7980 - val_mae: 829.7980 - val_mse: 2396659.2500\n",
            "Epoch 11/100\n",
            "69/69 [==============================] - 0s 3ms/step - loss: 159.4128 - mae: 159.4128 - mse: 126407.5156 - val_loss: 1210.8973 - val_mae: 1210.8973 - val_mse: 3744014.5000\n",
            "Epoch 12/100\n",
            "69/69 [==============================] - 0s 2ms/step - loss: 157.6400 - mae: 157.6400 - mse: 128515.0938 - val_loss: 830.2676 - val_mae: 830.2676 - val_mse: 2327789.2500\n",
            "Epoch 13/100\n",
            "69/69 [==============================] - 0s 5ms/step - loss: 151.4385 - mae: 151.4385 - mse: 117052.0078 - val_loss: 853.9435 - val_mae: 853.9435 - val_mse: 2422059.0000\n",
            "Epoch 14/100\n",
            "69/69 [==============================] - 1s 9ms/step - loss: 171.4220 - mae: 171.4220 - mse: 136171.3906 - val_loss: 1022.2986 - val_mae: 1022.2986 - val_mse: 2852184.5000\n",
            "Epoch 15/100\n",
            "69/69 [==============================] - 2s 32ms/step - loss: 167.2457 - mae: 167.2457 - mse: 127849.2188 - val_loss: 795.3996 - val_mae: 795.3996 - val_mse: 1978428.5000\n",
            "Epoch 16/100\n",
            "69/69 [==============================] - 1s 9ms/step - loss: 170.5063 - mae: 170.5063 - mse: 131139.6719 - val_loss: 1115.2693 - val_mae: 1115.2693 - val_mse: 3166603.7500\n",
            "Epoch 17/100\n",
            "69/69 [==============================] - 3s 39ms/step - loss: 155.3658 - mae: 155.3658 - mse: 113126.4844 - val_loss: 742.8317 - val_mae: 742.8317 - val_mse: 1793017.5000\n",
            "Epoch 18/100\n",
            "69/69 [==============================] - 0s 3ms/step - loss: 149.8755 - mae: 149.8755 - mse: 107699.2266 - val_loss: 794.8638 - val_mae: 794.8638 - val_mse: 1961669.1250\n",
            "Epoch 19/100\n",
            "69/69 [==============================] - 0s 7ms/step - loss: 160.0815 - mae: 160.0815 - mse: 119874.1484 - val_loss: 1269.9281 - val_mae: 1269.9281 - val_mse: 4281741.5000\n",
            "Epoch 20/100\n",
            "69/69 [==============================] - 2s 27ms/step - loss: 157.3272 - mae: 157.3272 - mse: 121104.4688 - val_loss: 714.7953 - val_mae: 714.7953 - val_mse: 1692659.1250\n",
            "Epoch 21/100\n",
            "69/69 [==============================] - 0s 6ms/step - loss: 148.5383 - mae: 148.5383 - mse: 109121.6094 - val_loss: 745.3440 - val_mae: 745.3440 - val_mse: 1764474.0000\n",
            "Epoch 22/100\n",
            "69/69 [==============================] - 0s 4ms/step - loss: 139.8481 - mae: 139.8481 - mse: 95899.0547 - val_loss: 759.7418 - val_mae: 759.7418 - val_mse: 1791165.5000\n",
            "Epoch 23/100\n",
            "69/69 [==============================] - 0s 4ms/step - loss: 154.2634 - mae: 154.2634 - mse: 112492.2500 - val_loss: 1850.4021 - val_mae: 1850.4021 - val_mse: 7052060.5000\n",
            "Epoch 24/100\n",
            "69/69 [==============================] - 0s 4ms/step - loss: 212.6976 - mae: 212.6976 - mse: 174382.9844 - val_loss: 899.2827 - val_mae: 899.2827 - val_mse: 2215140.5000\n",
            "Epoch 25/100\n",
            "69/69 [==============================] - 1s 8ms/step - loss: 156.9078 - mae: 156.9078 - mse: 119264.2891 - val_loss: 763.6282 - val_mae: 763.6282 - val_mse: 1773832.7500\n",
            "Epoch 26/100\n",
            "69/69 [==============================] - 1s 9ms/step - loss: 144.5592 - mae: 144.5592 - mse: 101507.9844 - val_loss: 857.9509 - val_mae: 857.9509 - val_mse: 2097211.0000\n",
            "Epoch 27/100\n",
            "69/69 [==============================] - 1s 17ms/step - loss: 133.8029 - mae: 133.8029 - mse: 91519.3359 - val_loss: 660.8917 - val_mae: 660.8917 - val_mse: 1536293.7500\n",
            "Epoch 28/100\n",
            "69/69 [==============================] - 0s 6ms/step - loss: 144.1130 - mae: 144.1130 - mse: 100053.4922 - val_loss: 745.3195 - val_mae: 745.3195 - val_mse: 1722070.6250\n",
            "Epoch 29/100\n",
            "69/69 [==============================] - 0s 4ms/step - loss: 129.8702 - mae: 129.8702 - mse: 86282.5781 - val_loss: 662.0729 - val_mae: 662.0729 - val_mse: 1560577.2500\n",
            "Epoch 30/100\n",
            "69/69 [==============================] - 0s 3ms/step - loss: 132.1250 - mae: 132.1250 - mse: 89975.1484 - val_loss: 915.3476 - val_mae: 915.3476 - val_mse: 2269304.5000\n",
            "Epoch 31/100\n",
            "69/69 [==============================] - 1s 14ms/step - loss: 128.7943 - mae: 128.7943 - mse: 87525.2031 - val_loss: 632.5107 - val_mae: 632.5107 - val_mse: 1429698.6250\n",
            "Epoch 32/100\n",
            "69/69 [==============================] - 1s 16ms/step - loss: 127.0737 - mae: 127.0737 - mse: 86363.4141 - val_loss: 630.6783 - val_mae: 630.6783 - val_mse: 1420218.1250\n",
            "Epoch 33/100\n",
            "69/69 [==============================] - 0s 3ms/step - loss: 122.9886 - mae: 122.9886 - mse: 81579.4219 - val_loss: 803.0367 - val_mae: 803.0367 - val_mse: 1879095.2500\n",
            "Epoch 34/100\n",
            "69/69 [==============================] - 0s 3ms/step - loss: 161.6055 - mae: 161.6055 - mse: 117427.7891 - val_loss: 636.2207 - val_mae: 636.2207 - val_mse: 1456764.2500\n",
            "Epoch 35/100\n",
            "69/69 [==============================] - 0s 3ms/step - loss: 126.8078 - mae: 126.8078 - mse: 84147.8125 - val_loss: 635.1416 - val_mae: 635.1416 - val_mse: 1430510.7500\n",
            "Epoch 36/100\n",
            "69/69 [==============================] - 0s 2ms/step - loss: 133.3211 - mae: 133.3211 - mse: 88142.5234 - val_loss: 646.2031 - val_mae: 646.2031 - val_mse: 1446199.5000\n",
            "Epoch 37/100\n",
            "69/69 [==============================] - 0s 3ms/step - loss: 133.8909 - mae: 133.8909 - mse: 90340.9453 - val_loss: 770.3539 - val_mae: 770.3539 - val_mse: 1768849.3750\n",
            "Epoch 38/100\n",
            "69/69 [==============================] - 0s 3ms/step - loss: 129.9994 - mae: 129.9994 - mse: 86326.4062 - val_loss: 664.9953 - val_mae: 664.9953 - val_mse: 1503728.7500\n",
            "Epoch 39/100\n",
            "69/69 [==============================] - 0s 3ms/step - loss: 125.1170 - mae: 125.1170 - mse: 82810.0469 - val_loss: 636.7418 - val_mae: 636.7418 - val_mse: 1403764.1250\n",
            "Epoch 40/100\n",
            "69/69 [==============================] - 0s 3ms/step - loss: 126.9090 - mae: 126.9090 - mse: 82728.0469 - val_loss: 1116.7130 - val_mae: 1116.7130 - val_mse: 3000340.7500\n",
            "Epoch 41/100\n",
            "69/69 [==============================] - 0s 3ms/step - loss: 135.7945 - mae: 135.7945 - mse: 88581.8359 - val_loss: 783.1578 - val_mae: 783.1578 - val_mse: 1770599.1250\n",
            "Epoch 42/100\n",
            "69/69 [==============================] - 0s 3ms/step - loss: 129.2119 - mae: 129.2119 - mse: 85909.9297 - val_loss: 726.9074 - val_mae: 726.9074 - val_mse: 1616513.7500\n",
            "Epoch 43/100\n",
            "69/69 [==============================] - 0s 3ms/step - loss: 145.9900 - mae: 145.9900 - mse: 101322.2891 - val_loss: 688.4811 - val_mae: 688.4811 - val_mse: 1570351.2500\n",
            "Epoch 44/100\n",
            "69/69 [==============================] - 0s 3ms/step - loss: 128.0430 - mae: 128.0430 - mse: 81698.2734 - val_loss: 759.8762 - val_mae: 759.8762 - val_mse: 1774995.7500\n",
            "Epoch 45/100\n",
            "69/69 [==============================] - 0s 3ms/step - loss: 126.9174 - mae: 126.9174 - mse: 84007.0156 - val_loss: 709.2031 - val_mae: 709.2031 - val_mse: 1566991.3750\n",
            "Epoch 46/100\n",
            "69/69 [==============================] - 0s 2ms/step - loss: 162.6422 - mae: 162.6422 - mse: 120820.7578 - val_loss: 850.6185 - val_mae: 850.6185 - val_mse: 2111996.7500\n",
            "Epoch 47/100\n",
            "69/69 [==============================] - 1s 9ms/step - loss: 129.8867 - mae: 129.8867 - mse: 87281.3438 - val_loss: 615.3762 - val_mae: 615.3762 - val_mse: 1337988.2500\n",
            "Epoch 48/100\n",
            "69/69 [==============================] - 0s 3ms/step - loss: 135.7142 - mae: 135.7142 - mse: 92122.1406 - val_loss: 619.1761 - val_mae: 619.1761 - val_mse: 1357486.3750\n",
            "Epoch 49/100\n",
            "69/69 [==============================] - 0s 2ms/step - loss: 123.0181 - mae: 123.0181 - mse: 80642.2578 - val_loss: 723.1458 - val_mae: 723.1458 - val_mse: 1646699.5000\n",
            "Epoch 50/100\n",
            "69/69 [==============================] - 1s 9ms/step - loss: 136.1123 - mae: 136.1123 - mse: 94371.4062 - val_loss: 605.3018 - val_mae: 605.3018 - val_mse: 1293101.2500\n",
            "Epoch 51/100\n",
            "69/69 [==============================] - 0s 3ms/step - loss: 135.7546 - mae: 135.7546 - mse: 90303.8594 - val_loss: 658.4222 - val_mae: 658.4222 - val_mse: 1420097.0000\n",
            "Epoch 52/100\n",
            "69/69 [==============================] - 0s 2ms/step - loss: 118.0596 - mae: 118.0596 - mse: 76197.1484 - val_loss: 618.6677 - val_mae: 618.6677 - val_mse: 1321984.7500\n",
            "Epoch 53/100\n",
            "69/69 [==============================] - 0s 3ms/step - loss: 122.5708 - mae: 122.5708 - mse: 75905.1719 - val_loss: 691.2915 - val_mae: 691.2915 - val_mse: 1523325.6250\n",
            "Epoch 54/100\n",
            "69/69 [==============================] - 1s 9ms/step - loss: 118.8364 - mae: 118.8364 - mse: 78638.7188 - val_loss: 603.9017 - val_mae: 603.9017 - val_mse: 1293866.0000\n",
            "Epoch 55/100\n",
            "69/69 [==============================] - 1s 9ms/step - loss: 117.7570 - mae: 117.7570 - mse: 76261.8906 - val_loss: 603.8459 - val_mae: 603.8459 - val_mse: 1299559.8750\n",
            "Epoch 56/100\n",
            "69/69 [==============================] - 0s 4ms/step - loss: 125.0434 - mae: 125.0434 - mse: 80199.6172 - val_loss: 828.2068 - val_mae: 828.2068 - val_mse: 2008756.3750\n",
            "Epoch 57/100\n",
            "69/69 [==============================] - 0s 3ms/step - loss: 144.0071 - mae: 144.0071 - mse: 92617.8984 - val_loss: 1140.7913 - val_mae: 1140.7913 - val_mse: 3082234.7500\n",
            "Epoch 58/100\n",
            "69/69 [==============================] - 0s 4ms/step - loss: 138.6270 - mae: 138.6270 - mse: 90760.1406 - val_loss: 689.2289 - val_mae: 689.2289 - val_mse: 1546080.5000\n",
            "Epoch 59/100\n",
            "69/69 [==============================] - 0s 4ms/step - loss: 147.8581 - mae: 147.8581 - mse: 101455.1953 - val_loss: 1039.4714 - val_mae: 1039.4714 - val_mse: 2847344.5000\n",
            "Epoch 60/100\n",
            "69/69 [==============================] - 0s 3ms/step - loss: 133.0383 - mae: 133.0383 - mse: 90760.1016 - val_loss: 1171.2823 - val_mae: 1171.2823 - val_mse: 3498400.7500\n",
            "Epoch 61/100\n",
            "69/69 [==============================] - 0s 4ms/step - loss: 136.6684 - mae: 136.6684 - mse: 94667.3750 - val_loss: 959.1321 - val_mae: 959.1321 - val_mse: 2510279.5000\n",
            "Epoch 62/100\n",
            "69/69 [==============================] - 0s 4ms/step - loss: 133.0918 - mae: 133.0918 - mse: 86078.6094 - val_loss: 666.3570 - val_mae: 666.3570 - val_mse: 1459932.5000\n",
            "Epoch 63/100\n",
            "69/69 [==============================] - 1s 11ms/step - loss: 130.6181 - mae: 130.6181 - mse: 86993.4688 - val_loss: 602.6254 - val_mae: 602.6254 - val_mse: 1302382.7500\n",
            "Epoch 64/100\n",
            "69/69 [==============================] - 0s 3ms/step - loss: 120.6912 - mae: 120.6912 - mse: 75975.5859 - val_loss: 912.3061 - val_mae: 912.3061 - val_mse: 2305345.5000\n",
            "Epoch 65/100\n",
            "69/69 [==============================] - 0s 2ms/step - loss: 127.2476 - mae: 127.2476 - mse: 83192.1562 - val_loss: 639.3832 - val_mae: 639.3832 - val_mse: 1379496.2500\n",
            "Epoch 66/100\n",
            "69/69 [==============================] - 0s 3ms/step - loss: 133.4695 - mae: 133.4695 - mse: 85197.9453 - val_loss: 829.5056 - val_mae: 829.5056 - val_mse: 1920791.2500\n",
            "Epoch 67/100\n",
            "69/69 [==============================] - 0s 2ms/step - loss: 128.1383 - mae: 128.1383 - mse: 85280.4453 - val_loss: 609.3576 - val_mae: 609.3576 - val_mse: 1304439.8750\n",
            "Epoch 68/100\n",
            "69/69 [==============================] - 0s 3ms/step - loss: 122.6042 - mae: 122.6042 - mse: 81497.6328 - val_loss: 751.9059 - val_mae: 751.9059 - val_mse: 1676498.5000\n",
            "Epoch 69/100\n",
            "69/69 [==============================] - 0s 3ms/step - loss: 134.6216 - mae: 134.6216 - mse: 87227.5000 - val_loss: 607.2629 - val_mae: 607.2629 - val_mse: 1294712.7500\n",
            "Epoch 70/100\n",
            "69/69 [==============================] - 0s 3ms/step - loss: 124.0629 - mae: 124.0629 - mse: 79898.6172 - val_loss: 776.7484 - val_mae: 776.7484 - val_mse: 1735843.8750\n",
            "Epoch 71/100\n",
            "69/69 [==============================] - 0s 2ms/step - loss: 128.9016 - mae: 128.9016 - mse: 83451.1094 - val_loss: 796.3013 - val_mae: 796.3013 - val_mse: 1863457.6250\n",
            "Epoch 72/100\n",
            "69/69 [==============================] - 0s 2ms/step - loss: 134.6749 - mae: 134.6749 - mse: 88233.5391 - val_loss: 660.5008 - val_mae: 660.5008 - val_mse: 1433974.2500\n",
            "Epoch 73/100\n",
            "69/69 [==============================] - 0s 2ms/step - loss: 116.3447 - mae: 116.3447 - mse: 77154.9062 - val_loss: 704.6259 - val_mae: 704.6259 - val_mse: 1514674.6250\n",
            "Epoch 74/100\n",
            "69/69 [==============================] - 0s 3ms/step - loss: 129.9068 - mae: 129.9068 - mse: 83726.4531 - val_loss: 622.7032 - val_mae: 622.7032 - val_mse: 1303153.3750\n",
            "Epoch 75/100\n",
            "69/69 [==============================] - 0s 2ms/step - loss: 133.4419 - mae: 133.4419 - mse: 85900.8906 - val_loss: 1092.4840 - val_mae: 1092.4840 - val_mse: 2860463.7500\n",
            "Epoch 76/100\n",
            "69/69 [==============================] - 0s 3ms/step - loss: 122.9874 - mae: 122.9874 - mse: 79158.2266 - val_loss: 609.2454 - val_mae: 609.2454 - val_mse: 1288669.6250\n",
            "Epoch 77/100\n",
            "69/69 [==============================] - 0s 2ms/step - loss: 134.4965 - mae: 134.4965 - mse: 87590.5781 - val_loss: 792.8986 - val_mae: 792.8986 - val_mse: 1786429.1250\n",
            "Epoch 78/100\n",
            "69/69 [==============================] - 0s 3ms/step - loss: 157.4202 - mae: 157.4202 - mse: 106217.7500 - val_loss: 1130.3878 - val_mae: 1130.3878 - val_mse: 3255196.7500\n",
            "Epoch 79/100\n",
            "69/69 [==============================] - 0s 3ms/step - loss: 138.9046 - mae: 138.9046 - mse: 96167.6328 - val_loss: 612.4053 - val_mae: 612.4053 - val_mse: 1309070.5000\n",
            "Epoch 80/100\n",
            "69/69 [==============================] - 0s 3ms/step - loss: 135.5810 - mae: 135.5810 - mse: 84135.5547 - val_loss: 608.3751 - val_mae: 608.3751 - val_mse: 1269864.8750\n",
            "Epoch 81/100\n",
            "69/69 [==============================] - 0s 3ms/step - loss: 119.5413 - mae: 119.5413 - mse: 79873.7969 - val_loss: 879.0612 - val_mae: 879.0612 - val_mse: 2065400.3750\n",
            "Epoch 82/100\n",
            "69/69 [==============================] - 0s 3ms/step - loss: 126.5004 - mae: 126.5004 - mse: 80193.0156 - val_loss: 605.1397 - val_mae: 605.1397 - val_mse: 1263125.7500\n",
            "Epoch 83/100\n",
            "69/69 [==============================] - 0s 2ms/step - loss: 119.4547 - mae: 119.4547 - mse: 77485.0859 - val_loss: 618.3276 - val_mae: 618.3276 - val_mse: 1321666.8750\n",
            "Epoch 84/100\n",
            "69/69 [==============================] - 0s 3ms/step - loss: 121.2037 - mae: 121.2037 - mse: 75868.5938 - val_loss: 735.3864 - val_mae: 735.3864 - val_mse: 1606655.2500\n",
            "Epoch 85/100\n",
            "69/69 [==============================] - 0s 2ms/step - loss: 125.5889 - mae: 125.5889 - mse: 79826.6016 - val_loss: 944.0629 - val_mae: 944.0629 - val_mse: 2441243.7500\n",
            "Epoch 86/100\n",
            "69/69 [==============================] - 0s 3ms/step - loss: 133.3672 - mae: 133.3672 - mse: 86783.9922 - val_loss: 626.2292 - val_mae: 626.2292 - val_mse: 1315685.7500\n",
            "Epoch 87/100\n",
            "69/69 [==============================] - 0s 3ms/step - loss: 130.5207 - mae: 130.5207 - mse: 82305.0469 - val_loss: 621.7844 - val_mae: 621.7844 - val_mse: 1317918.3750\n",
            "Epoch 88/100\n",
            "69/69 [==============================] - 0s 2ms/step - loss: 123.9390 - mae: 123.9390 - mse: 81918.6094 - val_loss: 885.8218 - val_mae: 885.8218 - val_mse: 2095188.1250\n",
            "Epoch 89/100\n",
            "69/69 [==============================] - 0s 3ms/step - loss: 120.7640 - mae: 120.7640 - mse: 76902.6250 - val_loss: 667.8175 - val_mae: 667.8175 - val_mse: 1422081.1250\n",
            "Epoch 90/100\n",
            "69/69 [==============================] - 1s 9ms/step - loss: 123.5945 - mae: 123.5945 - mse: 79342.5312 - val_loss: 599.5555 - val_mae: 599.5555 - val_mse: 1261720.3750\n",
            "Epoch 91/100\n",
            "69/69 [==============================] - 0s 3ms/step - loss: 135.3872 - mae: 135.3872 - mse: 92638.9609 - val_loss: 601.1374 - val_mae: 601.1374 - val_mse: 1268620.1250\n",
            "Epoch 92/100\n",
            "69/69 [==============================] - 0s 3ms/step - loss: 113.6216 - mae: 113.6216 - mse: 73423.1484 - val_loss: 666.1926 - val_mae: 666.1926 - val_mse: 1412386.1250\n",
            "Epoch 93/100\n",
            "69/69 [==============================] - 0s 3ms/step - loss: 140.8501 - mae: 140.8501 - mse: 91993.5312 - val_loss: 857.0269 - val_mae: 857.0269 - val_mse: 1972553.0000\n",
            "Epoch 94/100\n",
            "69/69 [==============================] - 0s 3ms/step - loss: 126.0770 - mae: 126.0770 - mse: 79527.2656 - val_loss: 754.9584 - val_mae: 754.9584 - val_mse: 1661655.6250\n",
            "Epoch 95/100\n",
            "69/69 [==============================] - 0s 2ms/step - loss: 127.6049 - mae: 127.6049 - mse: 82395.8203 - val_loss: 622.3691 - val_mae: 622.3691 - val_mse: 1294827.3750\n",
            "Epoch 96/100\n",
            "69/69 [==============================] - 1s 9ms/step - loss: 120.2346 - mae: 120.2346 - mse: 75479.8516 - val_loss: 593.4185 - val_mae: 593.4185 - val_mse: 1249150.0000\n",
            "Epoch 97/100\n",
            "69/69 [==============================] - 0s 3ms/step - loss: 130.4765 - mae: 130.4765 - mse: 83549.1641 - val_loss: 735.2666 - val_mae: 735.2666 - val_mse: 1597846.2500\n",
            "Epoch 98/100\n",
            "69/69 [==============================] - 0s 3ms/step - loss: 131.9527 - mae: 131.9527 - mse: 81029.1250 - val_loss: 613.0568 - val_mae: 613.0568 - val_mse: 1299642.6250\n",
            "Epoch 99/100\n",
            "69/69 [==============================] - 0s 2ms/step - loss: 124.6025 - mae: 124.6025 - mse: 79182.8672 - val_loss: 641.8251 - val_mae: 641.8251 - val_mse: 1361251.7500\n",
            "Epoch 100/100\n",
            "69/69 [==============================] - 0s 3ms/step - loss: 129.4644 - mae: 129.4644 - mse: 83843.5312 - val_loss: 621.8395 - val_mae: 621.8395 - val_mse: 1313962.5000\n"
          ]
        }
      ]
    },
    {
      "cell_type": "code",
      "source": [
        "plt.plot(pd.DataFrame(model_2_history.history[\"mae\"])\n",
        "plt.plot(pd.DataFrame(model_1_history.history[\"mae\"])"
      ],
      "metadata": {
        "id": "5rEor5bMeDUT",
        "colab": {
          "base_uri": "https://localhost:8080/",
          "height": 143
        },
        "outputId": "b25481b9-7ec9-4862-eb88-5bf24fd39061"
      },
      "execution_count": 56,
      "outputs": [
        {
          "output_type": "error",
          "ename": "SyntaxError",
          "evalue": "'(' was never closed (<ipython-input-56-a3a72f2b34a3>, line 2)",
          "traceback": [
            "\u001b[0;36m  File \u001b[0;32m\"<ipython-input-56-a3a72f2b34a3>\"\u001b[0;36m, line \u001b[0;32m2\u001b[0m\n\u001b[0;31m    plt.plot(pd.DataFrame(model_1_history.history[\"mae\"])\u001b[0m\n\u001b[0m            ^\u001b[0m\n\u001b[0;31mSyntaxError\u001b[0m\u001b[0;31m:\u001b[0m '(' was never closed\n"
          ]
        }
      ]
    },
    {
      "cell_type": "code",
      "source": [],
      "metadata": {
        "id": "sU5cuVwmzIrj"
      },
      "execution_count": null,
      "outputs": []
    }
  ]
}